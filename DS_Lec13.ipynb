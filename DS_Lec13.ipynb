{
 "metadata": {
  "celltoolbar": "Slideshow",
  "name": "",
  "signature": "sha256:20efbb1d308dcdcbaa83bff0202a961787b4cd8367503f0915d9e1aae96ae804"
 },
 "nbformat": 3,
 "nbformat_minor": 0,
 "worksheets": [
  {
   "cells": [
    {
     "cell_type": "markdown",
     "metadata": {
      "slideshow": {
       "slide_type": "slide"
      }
     },
     "source": [
      "`caret` and Neural Networks\n",
      "========================================================\n",
      "Instructor: Alessandro Gagliardi  \n",
      "TA: Kevin Perko"
     ]
    },
    {
     "cell_type": "markdown",
     "metadata": {
      "slideshow": {
       "slide_type": "slide"
      }
     },
     "source": [
      "Last Time:\n",
      "--------------------------------------------------------\n",
      "\n",
      "- Principal Components Analysis\n",
      "- Eigenvalue Decomposition\n",
      "- Multicollinearity\n",
      "- Dimensionality Reduction\n",
      "\n",
      "### Questions?"
     ]
    },
    {
     "cell_type": "markdown",
     "metadata": {
      "slideshow": {
       "slide_type": "slide"
      }
     },
     "source": [
      "1. `caret`\n",
      "2. Neural Networks"
     ]
    },
    {
     "cell_type": "markdown",
     "metadata": {
      "slideshow": {
       "slide_type": "slide"
      }
     },
     "source": [
      "An introduction to `caret`\n",
      "========================================================\n",
      "(slides lovingly adapted from Max Kuhn's presentations)"
     ]
    },
    {
     "cell_type": "markdown",
     "metadata": {
      "slideshow": {
       "slide_type": "slide"
      }
     },
     "source": [
      "The `caret` Package\n",
      "--------------------------------------------------------\n",
      "The `caret` package, short for Classification And REgression Training, contains numerous tools for developing predictive models using the rich set of models available in R. The package focuses on\n",
      "\n",
      "* simplifying model training and tuning across a wide variety of modeling techniques\n",
      "* pre\u2013processing training data \n",
      "* calculating variable importance \n",
      "* model visualizations\n",
      "\n",
      "The package is available at the [Comprehensive R Archive Network (CRAN)](http://cran.r-project.org/). `caret` depends on over 25 other packages, although many of these are listed as \"suggested\" packages are are not automatically loaded when `caret` is started. Packages are loaded individually when a model is trained or predicted."
     ]
    },
    {
     "cell_type": "code",
     "collapsed": false,
     "input": [
      "%load_ext rmagic"
     ],
     "language": "python",
     "metadata": {
      "slideshow": {
       "slide_type": "skip"
      }
     },
     "outputs": [],
     "prompt_number": 1
    },
    {
     "cell_type": "markdown",
     "metadata": {
      "slideshow": {
       "slide_type": "slide"
      }
     },
     "source": [
      "Test/Training Set Split\n",
      "--------------------------------------------------------\n",
      "We decide to train on 75% of the data:"
     ]
    },
    {
     "cell_type": "code",
     "collapsed": false,
     "input": [
      "%%R\n",
      "require(\"caret\")\n",
      "require(\"mlbench\")\n",
      "data(Sonar)\n",
      "set.seed(107)\n",
      "inTrain <- createDataPartition(y = Sonar$Class, p = 3/4, list = FALSE)\n",
      "## The output is a set of integers for the rows of Sonar that belong in the training set.\n",
      "\n",
      "trainDescr <- Sonar[inTrain,1:60]\n",
      "testDescr <- Sonar[-inTrain,1:60]\n",
      "\n",
      "trainClass <- Sonar$Class[inTrain]\n",
      "print(length(trainClass))\n",
      "testClass <- Sonar$Class[-inTrain]\n",
      "print(length(testClass))"
     ],
     "language": "python",
     "metadata": {
      "slideshow": {
       "slide_type": "-"
      }
     },
     "outputs": [
      {
       "metadata": {},
       "output_type": "display_data",
       "text": [
        "Loading required package: caret\n",
        "Loading required package: lattice\n",
        "Loading required package: ggplot2\n",
        "Find out what's changed in ggplot2 with\n",
        "news(Version == \"0.9.3.1\", package = \"ggplot2\")\n",
        "Loading required package: mlbench\n",
        "[1] 157\n",
        "[1] 51\n"
       ]
      }
     ],
     "prompt_number": 2
    },
    {
     "cell_type": "markdown",
     "metadata": {
      "slideshow": {
       "slide_type": "-"
      }
     },
     "source": [
      "By default, `createDataPartition` does stratified random splits."
     ]
    },
    {
     "cell_type": "markdown",
     "metadata": {
      "slideshow": {
       "slide_type": "slide"
      }
     },
     "source": [
      "Filtering Predictors\n",
      "--------------------------------------------------------\n",
      "In order to avoid multicollinearity, we remove predictors to make sure that there are no between-predictor (absolute) correlations greater than 90%:"
     ]
    },
    {
     "cell_type": "code",
     "collapsed": false,
     "input": [
      "%%R\n",
      "print(ncol(trainDescr))\n",
      "trainingCorr <- cor(trainDescr)\n",
      "highCorr <- findCorrelation(trainingCorr, 0.90)\n",
      "# returns an index of column numbers for removal\n",
      "\n",
      "trainDescr <- trainDescr[, -highCorr]\n",
      "testDescr <- testDescr[, -highCorr]\n",
      "print(ncol(trainDescr))"
     ],
     "language": "python",
     "metadata": {
      "slideshow": {
       "slide_type": "-"
      }
     },
     "outputs": [
      {
       "metadata": {},
       "output_type": "display_data",
       "text": [
        "[1] 60\n",
        "[1] 57\n"
       ]
      }
     ],
     "prompt_number": 3
    },
    {
     "cell_type": "markdown",
     "metadata": {
      "slideshow": {
       "slide_type": "slide"
      }
     },
     "source": [
      "Transforming Predictors\n",
      "--------------------------------------------------------\n",
      "The class preProcess can be used to center/scale the predictors, as well as apply other transformations. By default, centering and scaling is done:"
     ]
    },
    {
     "cell_type": "code",
     "collapsed": false,
     "input": [
      "%%R\n",
      "xTrans <- preProcess(trainDescr, method = c(\"center\", \"scale\"))\n",
      "trainDescr <- predict(xTrans, trainDescr)\n",
      "testDescr <- predict(xTrans, testDescr)"
     ],
     "language": "python",
     "metadata": {
      "slideshow": {
       "slide_type": "-"
      }
     },
     "outputs": [],
     "prompt_number": 4
    },
    {
     "cell_type": "markdown",
     "metadata": {
      "slideshow": {
       "slide_type": "fragment"
      }
     },
     "source": [
      "To apply PCA to predictors in the training, test or other data, you can use:"
     ]
    },
    {
     "cell_type": "code",
     "collapsed": false,
     "input": [
      "%%R \n",
      "xTrans <- preProcess(trainDescr, method = \"pca\")"
     ],
     "language": "python",
     "metadata": {
      "slideshow": {
       "slide_type": "fragment"
      }
     },
     "outputs": [],
     "prompt_number": 5
    },
    {
     "cell_type": "markdown",
     "metadata": {
      "slideshow": {
       "slide_type": "slide"
      }
     },
     "source": [
      "Cross-Validation\n",
      "--------------------------------------------------------\n",
      "`caret` gives us an easy way to do cross-validation during the training of our model."
     ]
    },
    {
     "cell_type": "code",
     "collapsed": false,
     "input": [
      "%%R\n",
      "trControl <- trainControl(method=\"cv\", number=25)\n",
      "logFit <- train(x = trainDescr, y = trainClass, \n",
      "                method='glm', family=binomial(link=\"logit\"), \n",
      "                trControl = trControl)\n",
      "logFit"
     ],
     "language": "python",
     "metadata": {
      "slideshow": {
       "slide_type": "-"
      }
     },
     "outputs": [
      {
       "metadata": {},
       "output_type": "display_data",
       "text": [
        "Loading required package: class\n",
        "Generalized Linear Model \n",
        "\n",
        "157 samples\n",
        " 57 predictors\n",
        "  2 classes: 'M', 'R' \n",
        "\n",
        "No pre-processing\n",
        "Resampling: Cross-Validated (25 fold) \n",
        "\n",
        "Summary of sample sizes: 151, 151, 151, 150, 151, 150, ... \n",
        "\n",
        "Resampling results\n",
        "\n",
        "  Accuracy  Kappa  Accuracy SD  Kappa SD\n",
        "  0.742     0.491  0.189        0.371   \n",
        "\n",
        " \n"
       ]
      }
     ],
     "prompt_number": 6
    },
    {
     "cell_type": "code",
     "collapsed": false,
     "input": [
      "%%R -w 960 -h 480 -u px\n",
      "resampleHist(logFit)"
     ],
     "language": "python",
     "metadata": {
      "slideshow": {
       "slide_type": "subslide"
      }
     },
     "outputs": [
      {
       "metadata": {},
       "output_type": "display_data",
       "png": "[encoded data removed]"
      }
     ],
     "prompt_number": 7
    },
    {
     "cell_type": "markdown",
     "metadata": {
      "slideshow": {
       "slide_type": "slide"
      }
     },
     "source": [
      "Tuning Models using Resampling\n",
      "--------------------------------------------------------\n",
      "Resampling (i.e. the bootstrap, cross\u2013validation) can also be used to figure out the values of model tuning parameters (if any).\n",
      "We come up with a set of candidate values for these parameters and fit a series of models for each tuning parameter combination.\n",
      "For each combination, fit $B$ models to the $B$ resamples of the training data.\n",
      "There are also $B$ sets of samples that are not in the resamples. These are predicted for each model.\n",
      "$B$ sets of performance values is computed for each candidate variable(s). Performance is estimated by averaging the $B$ performance values."
     ]
    },
    {
     "cell_type": "markdown",
     "metadata": {
      "slideshow": {
       "slide_type": "subslide"
      }
     },
     "source": [
      "Tuning Models using Resampling\n",
      "--------------------------------------------------------\n",
      "As an example, k-Nearest Neighbors has the tuning parameter $k$\n",
      "\n",
      "We can train over 5 values of $k$: 5, 7, 9, 11, and 13.\n",
      "\n",
      "$B = 25$ iterations of the bootstrap will be used as the resampling method.  \n",
      "We use:"
     ]
    },
    {
     "cell_type": "code",
     "collapsed": false,
     "input": [
      "%%R\n",
      "knnFit <- train(x = trainDescr, y = trainClass, trControl = trControl,\n",
      "                method = \"knn\", tuneLength = 5)"
     ],
     "language": "python",
     "metadata": {
      "slideshow": {
       "slide_type": "fragment"
      }
     },
     "outputs": [],
     "prompt_number": 8
    },
    {
     "cell_type": "heading",
     "level": 2,
     "metadata": {
      "slideshow": {
       "slide_type": "slide"
      }
     },
     "source": [
      "The `train` Function"
     ]
    },
    {
     "cell_type": "code",
     "collapsed": false,
     "input": [
      "%R print(knnFit)"
     ],
     "language": "python",
     "metadata": {
      "slideshow": {
       "slide_type": "-"
      }
     },
     "outputs": [
      {
       "metadata": {},
       "output_type": "display_data",
       "text": [
        "k-Nearest Neighbors \n",
        "\n",
        "157 samples\n",
        " 57 predictors\n",
        "  2 classes: 'M', 'R' \n",
        "\n",
        "No pre-processing\n",
        "Resampling: Cross-Validated (25 fold) \n",
        "\n",
        "Summary of sample sizes: 151, 151, 150, 151, 150, 151, ... \n",
        "\n",
        "Resampling results across tuning parameters:\n",
        "\n",
        "  k   Accuracy  Kappa  Accuracy SD  Kappa SD\n",
        "  5   0.8       0.584  0.168        0.349   \n",
        "  7   0.782     0.547  0.169        0.352   \n",
        "  9   0.776     0.533  0.177        0.366   \n",
        "  11  0.775     0.531  0.171        0.356   \n",
        "  13  0.774     0.532  0.194        0.395   \n",
        "\n",
        "Accuracy was used to select the optimal model using  the largest value.\n",
        "The final value used for the model was k = 5. \n"
       ]
      }
     ],
     "prompt_number": 9
    },
    {
     "cell_type": "markdown",
     "metadata": {
      "slideshow": {
       "slide_type": "slide"
      }
     },
     "source": [
      "The Final Model\n",
      "--------------------------------------------------------\n",
      "Resampling indicated that $k = 5$ is the best value. It fits a final model with this value and saves it in the object:"
     ]
    },
    {
     "cell_type": "code",
     "collapsed": false,
     "input": [
      "%%R \n",
      "knnFit$finalModel"
     ],
     "language": "python",
     "metadata": {
      "slideshow": {
       "slide_type": "-"
      }
     },
     "outputs": [
      {
       "metadata": {},
       "output_type": "display_data",
       "text": [
        "5-nearest neighbor classification model\n",
        "\n",
        "Call:\n",
        "knn3.matrix(x = as.matrix(x), y = y, k = param$k)\n",
        "\n",
        "Training set class distribution:\n",
        "\n",
        " M  R \n",
        "84 73 \n",
        "\n"
       ]
      }
     ],
     "prompt_number": 10
    },
    {
     "cell_type": "markdown",
     "metadata": {
      "slideshow": {
       "slide_type": "slide"
      }
     },
     "source": [
      "Other Tuning Values\n",
      "--------------------------------------------------------\n",
      "If you don\u2019t like the default candidate values, you can create your own."
     ]
    },
    {
     "cell_type": "code",
     "collapsed": false,
     "input": [
      "%%R\n",
      "knnFit <- train(x = trainDescr, y = trainClass, method = \"knn\", trControl = trControl, \n",
      "      tuneGrid = expand.grid(k=seq(1,21,2)))\n",
      "knnFit"
     ],
     "language": "python",
     "metadata": {
      "slideshow": {
       "slide_type": "-"
      }
     },
     "outputs": [
      {
       "metadata": {},
       "output_type": "display_data",
       "text": [
        "k-Nearest Neighbors \n",
        "\n",
        "157 samples\n",
        " 57 predictors\n",
        "  2 classes: 'M', 'R' \n",
        "\n",
        "No pre-processing\n",
        "Resampling: Cross-Validated (25 fold) \n",
        "\n",
        "Summary of sample sizes: 151, 150, 150, 151, 151, 151, ... \n",
        "\n",
        "Resampling results across tuning parameters:\n",
        "\n",
        "  k   Accuracy  Kappa  Accuracy SD  Kappa SD\n",
        "  1   0.84      0.678  0.163        0.327   \n",
        "  3   0.803     0.592  0.147        0.298   \n",
        "  5   0.81      0.612  0.128        0.256   \n",
        "  7   0.771     0.532  0.154        0.308   \n",
        "  9   0.778     0.541  0.146        0.29    \n",
        "  11  0.779     0.548  0.142        0.282   \n",
        "  13  0.781     0.552  0.168        0.334   \n",
        "  15  0.736     0.458  0.166        0.334   \n",
        "  17  0.724     0.43   0.175        0.357   \n",
        "  19  0.723     0.426  0.152        0.315   \n",
        "  21  0.716     0.413  0.15         0.312   \n",
        "\n",
        "Accuracy was used to select the optimal model using  the largest value.\n",
        "The final value used for the model was k = 1. \n"
       ]
      }
     ],
     "prompt_number": 11
    },
    {
     "cell_type": "code",
     "collapsed": false,
     "input": [
      "%%R\n",
      "plot(knnFit)"
     ],
     "language": "python",
     "metadata": {
      "slideshow": {
       "slide_type": "subslide"
      }
     },
     "outputs": [
      {
       "metadata": {},
       "output_type": "display_data",
       "png": "[encoded data removed]"
      }
     ],
     "prompt_number": 12
    },
    {
     "cell_type": "markdown",
     "metadata": {
      "slideshow": {
       "slide_type": "slide"
      }
     },
     "source": [
      "Predictions\n",
      "--------------------------------------------------------\n",
      "Since the output of `train` contains the final model object, you can use its `predict` methods as usual:"
     ]
    },
    {
     "cell_type": "code",
     "collapsed": false,
     "input": [
      "%%R\n",
      "head(predict(knnFit$finalModel, newdata = testDescr))"
     ],
     "language": "python",
     "metadata": {
      "slideshow": {
       "slide_type": "-"
      }
     },
     "outputs": [
      {
       "metadata": {},
       "output_type": "display_data",
       "text": [
        "     M R\n",
        "[1,] 1 0\n",
        "[2,] 0 1\n",
        "[3,] 0 1\n",
        "[4,] 1 0\n",
        "[5,] 0 1\n",
        "[6,] 0 1\n"
       ]
      }
     ],
     "prompt_number": 13
    },
    {
     "cell_type": "markdown",
     "metadata": {
      "slideshow": {
       "slide_type": "-"
      }
     },
     "source": [
      "However, `predict`, can have nuanced syntax depending upon the model in question. Instead, we can use `caret` functions `extractPrediction` and `extractProb` to handle all of the inconsistent syntax.  \n",
      "\n",
      "It can also handle multiple models at once."
     ]
    },
    {
     "cell_type": "heading",
     "level": 2,
     "metadata": {
      "slideshow": {
       "slide_type": "slide"
      }
     },
     "source": [
      "Using `extractPrediction` to Get Class Predictions"
     ]
    },
    {
     "cell_type": "code",
     "collapsed": false,
     "input": [
      "%%R\n",
      "predValues <- extractPrediction(list(\n",
      "                knnFit,\n",
      "                logFit),\n",
      "           testX = testDescr,\n",
      "           testY = testClass)\n",
      "testValues <- subset(predValues, dataType == \"Test\")\n",
      "str(testValues)"
     ],
     "language": "python",
     "metadata": {
      "slideshow": {
       "slide_type": "-"
      }
     },
     "outputs": [
      {
       "metadata": {},
       "output_type": "display_data",
       "text": [
        "'data.frame':\t102 obs. of  5 variables:\n",
        " $ obs     : Factor w/ 2 levels \"M\",\"R\": 2 2 2 2 2 2 2 2 2 2 ...\n",
        " $ pred    : Factor w/ 2 levels \"M\",\"R\": 1 2 2 1 2 2 2 2 2 2 ...\n",
        " $ model   : Factor w/ 2 levels \"glm\",\"knn\": 2 2 2 2 2 2 2 2 2 2 ...\n",
        " $ dataType: Factor w/ 2 levels \"Test\",\"Training\": 1 1 1 1 1 1 1 1 1 1 ...\n",
        " $ object  : Factor w/ 2 levels \"Object1\",\"Object2\": 1 1 1 1 1 1 1 1 1 1 ...\n"
       ]
      }
     ],
     "prompt_number": 14
    },
    {
     "cell_type": "heading",
     "level": 1,
     "metadata": {
      "slideshow": {
       "slide_type": "skip"
      }
     },
     "source": [
      "Using `extractProb` to Get Class Probabilities"
     ]
    },
    {
     "cell_type": "code",
     "collapsed": false,
     "input": [
      "%%R\n",
      "probValues <- extractProb(list(knnFit, logFit),\n",
      "                          testX = testDescr,\n",
      "                          testY = testClass)\n",
      "testProbs <- subset(probValues,\n",
      "                    dataType == \"Test\")\n",
      "str(testProbs)"
     ],
     "language": "python",
     "metadata": {
      "slideshow": {
       "slide_type": "skip"
      }
     },
     "outputs": [
      {
       "metadata": {},
       "output_type": "display_data",
       "text": [
        "'data.frame':\t102 obs. of  7 variables:\n",
        " $ M       : num  1 0 0 1 0 0 0 0 0 0 ...\n",
        " $ R       : num  0 1 1 0 1 1 1 1 1 1 ...\n",
        " $ obs     : Factor w/ 2 levels \"M\",\"R\": 2 2 2 2 2 2 2 2 2 2 ...\n",
        " $ pred    : Factor w/ 2 levels \"M\",\"R\": 1 2 2 1 2 2 2 2 2 2 ...\n",
        " $ model   : chr  \"knn\" \"knn\" \"knn\" \"knn\" ...\n",
        " $ dataType: chr  \"Test\" \"Test\" \"Test\" \"Test\" ...\n",
        " $ object  : chr  \"Object1\" \"Object1\" \"Object1\" \"Object1\" ...\n"
       ]
      }
     ],
     "prompt_number": 15
    },
    {
     "cell_type": "markdown",
     "metadata": {
      "slideshow": {
       "slide_type": "slide"
      }
     },
     "source": [
      "Evaluating Performance\n",
      "--------------------------------------------------------\n",
      "For classification models, there are functions to compute the confusion matrix and associated statistics. There are also functions for two\u2013class problems: `sensitivity`, `specificity` and so on.\n",
      "\n",
      "The function `confusionMatrix` calculates statistics for a data set. The no\u2013information rate (NIR) is estimated as the largest class proportion in the data set. A one\u2013sided statistical test is done to see if the observed accuracy is greater than the NIR."
     ]
    },
    {
     "cell_type": "heading",
     "level": 2,
     "metadata": {
      "slideshow": {
       "slide_type": "slide"
      }
     },
     "source": [
      "Confusion Matrices and Statistics"
     ]
    },
    {
     "cell_type": "code",
     "collapsed": false,
     "input": [
      "%%R\n",
      "knnPred <- subset(testValues, model == \"knn\")\n",
      "confusionMatrix(knnPred$pred, knnPred$obs)"
     ],
     "language": "python",
     "metadata": {
      "slideshow": {
       "slide_type": "-"
      }
     },
     "outputs": [
      {
       "metadata": {},
       "output_type": "display_data",
       "text": [
        "Confusion Matrix and Statistics\n",
        "\n",
        "          Reference\n",
        "Prediction  M  R\n",
        "         M 22  4\n",
        "         R  5 20\n",
        "                                         \n",
        "               Accuracy : 0.8235         \n",
        "                 95% CI : (0.6913, 0.916)\n",
        "    No Information Rate : 0.5294         \n",
        "    P-Value [Acc > NIR] : 1.117e-05      \n",
        "                                         \n",
        "                  Kappa : 0.6467         \n",
        " Mcnemar's Test P-Value : 1              \n",
        "                                         \n",
        "            Sensitivity : 0.8148         \n",
        "            Specificity : 0.8333         \n",
        "         Pos Pred Value : 0.8462         \n",
        "         Neg Pred Value : 0.8000         \n",
        "             Prevalence : 0.5294         \n",
        "         Detection Rate : 0.4314         \n",
        "   Detection Prevalence : 0.5098         \n",
        "      Balanced Accuracy : 0.8241         \n",
        "                                         \n",
        "       'Positive' Class : M              \n",
        "                                         \n"
       ]
      }
     ],
     "prompt_number": 16
    },
    {
     "cell_type": "code",
     "collapsed": false,
     "input": [
      "%%R\n",
      "logPred <- subset(testValues, model == \"glm\")\n",
      "confusionMatrix(logPred$pred, logPred$obs)"
     ],
     "language": "python",
     "metadata": {
      "slideshow": {
       "slide_type": "skip"
      }
     },
     "outputs": [
      {
       "metadata": {},
       "output_type": "display_data",
       "text": [
        "Confusion Matrix and Statistics\n",
        "\n",
        "          Reference\n",
        "Prediction  M  R\n",
        "         M 14  5\n",
        "         R 13 19\n",
        "                                          \n",
        "               Accuracy : 0.6471          \n",
        "                 95% CI : (0.5007, 0.7757)\n",
        "    No Information Rate : 0.5294          \n",
        "    P-Value [Acc > NIR] : 0.06052         \n",
        "                                          \n",
        "                  Kappa : 0.3045          \n",
        " Mcnemar's Test P-Value : 0.09896         \n",
        "                                          \n",
        "            Sensitivity : 0.5185          \n",
        "            Specificity : 0.7917          \n",
        "         Pos Pred Value : 0.7368          \n",
        "         Neg Pred Value : 0.5937          \n",
        "             Prevalence : 0.5294          \n",
        "         Detection Rate : 0.2745          \n",
        "   Detection Prevalence : 0.3725          \n",
        "      Balanced Accuracy : 0.6551          \n",
        "                                          \n",
        "       'Positive' Class : M               \n",
        "                                          \n"
       ]
      }
     ],
     "prompt_number": 17
    },
    {
     "cell_type": "heading",
     "level": 1,
     "metadata": {
      "slideshow": {
       "slide_type": "slide"
      }
     },
     "source": [
      "Neural Networks"
     ]
    },
    {
     "cell_type": "markdown",
     "metadata": {
      "slideshow": {
       "slide_type": "slide"
      }
     },
     "source": [
      "History of Neural Networks\n",
      "========================================================\n",
      "* The Neuron Doctrine (1899)\n",
      "* The Perceptron (1943)\n",
      "* Parallel Distributed Processing (1986)\n",
      "* Deep Learning"
     ]
    },
    {
     "cell_type": "markdown",
     "metadata": {
      "slideshow": {
       "slide_type": "subslide"
      }
     },
     "source": [
      "THE NEURON DOCTRINE ~1899\n",
      "--------------------------------------------------------\n",
      "<img src=\"assets/Ramon_y_Cajal.png\" width=350/>  \n",
      "Santiago Ramon y Cajal (1852-1934)"
     ]
    },
    {
     "cell_type": "markdown",
     "metadata": {
      "slideshow": {
       "slide_type": "subslide"
      }
     },
     "source": [
      "<img src=\"assets/golgi.png\" /><UL>\n",
      "<LI>Neurons are the fundamental processing unit of the brain</LI>\n",
      "<LI>Receive input from many sources</LI>\n",
      "<LI>Direct output to many other neurons</LI>\n",
      "</UL>"
     ]
    },
    {
     "cell_type": "markdown",
     "metadata": {
      "slideshow": {
       "slide_type": "subslide"
      }
     },
     "source": [
      "<H2>The Model of Neuron (1943)</H2>\n",
      "<TABLE>\n",
      "<TR><TD><IMG SRC=\"assets/pitts.png\" width=200 />Walter Pitts (1923 - 1969)</TD>\n",
      "    <TD><IMG SRC=\"assets/pitts-mcculloch.jpg\" width=400 /></TD>\n",
      "    <TD><IMG SRC=\"assets/McCulloch.png\" width=200 />Warren McCulloch (1898 - 1969)</TD>\n",
      "</TR>\n",
      "</TABLE>"
     ]
    },
    {
     "cell_type": "markdown",
     "metadata": {
      "slideshow": {
       "slide_type": "subslide"
      }
     },
     "source": [
      "<H2>Parallel Distributed Processing (PDP) (1986)</H2>\n",
      "<TABLE>\n",
      "<TR><TD><IMG SRC=\"assets/Rumelhart.png\" width=200 />David Rumelhart (1942 - 2011)</TD>\n",
      "    <TD><IMG SRC=\"assets/pdp.png\" width=400 /></TD>\n",
      "    <TD><IMG SRC=\"assets/McClelland.png\" width=200 />James McClelland (1948 - )</TD></TR>\n",
      "</TABLE>"
     ]
    },
    {
     "cell_type": "markdown",
     "metadata": {
      "slideshow": {
       "slide_type": "subslide"
      }
     },
     "source": [
      "<H2>Deep Learning</H2>\n",
      "<img src=\"assets/AI_01-test-3.jpg\" width=600 />\n",
      "Geoffrey Hinton (1947 - )"
     ]
    },
    {
     "cell_type": "markdown",
     "metadata": {
      "slideshow": {
       "slide_type": "slide"
      }
     },
     "source": [
      "What Are Artificial Neural Networks?\n",
      "--------------------------------------------------------\n",
      "(this section lovingly adapted from Vincent Cheung and Kevin Cannons)"
     ]
    },
    {
     "cell_type": "markdown",
     "metadata": {
      "slideshow": {
       "slide_type": "fragment"
      }
     },
     "source": [
      "* An extremely simplified model of the brain\n",
      "* Essentially a function approximator\n",
      "    - Transforms inputs into outputs to the best of its ability"
     ]
    },
    {
     "cell_type": "markdown",
     "metadata": {
      "slideshow": {
       "slide_type": "fragment"
      }
     },
     "source": [
      "- Composed of many \"neurons\" that co-operate to perform the desired function"
     ]
    },
    {
     "cell_type": "markdown",
     "metadata": {
      "slideshow": {
       "slide_type": "fragment"
      }
     },
     "source": [
      "\"Neurons,\" in this case, can be thought of as logistic regressors."
     ]
    },
    {
     "cell_type": "markdown",
     "metadata": {
      "slideshow": {
       "slide_type": "slide"
      }
     },
     "source": [
      "What Are They Used For?\n",
      "--------------------------------------------------------\n",
      "* Classification\n",
      "    - Pattern recognition, feature extraction, image matching\n",
      "* Noise Reduction\n",
      "    - Recognize patterns in the inputs and produce noiseless outputs\n",
      "* Prediction\n",
      "    - Extrapolation based on historical data"
     ]
    },
    {
     "cell_type": "markdown",
     "metadata": {
      "slideshow": {
       "slide_type": "slide"
      }
     },
     "source": [
      "Why Use Neural Networks?\n",
      "--------------------------------------------------------\n",
      "* Ability to learn\n",
      "    - NN\u2019s figure out how to perform their function on their own \n",
      "    - Determine their function based only upon sample inputs\n",
      "* Ability to generalize\n",
      "    - i.e. produce reasonable outputs for inputs it has not been taught how to deal with"
     ]
    },
    {
     "cell_type": "markdown",
     "metadata": {
      "slideshow": {
       "slide_type": "slide"
      }
     },
     "source": [
      "How Do Neural Networks Work?\n",
      "--------------------------------------------------------\n",
      "\n",
      "* The output of a neuron is a function of the weighted sum of the inputs plus a bias\n",
      "\n",
      "    $$ Output = f(i_1w_1 + i_2w_2 + \\ldots + i_nw_n + bias) $$  \n",
      "    \n",
      "    \n",
      "* The function of the entire neural network is simply the computation of the outputs of all the neurons\n",
      "    - An entirely deterministic calculation"
     ]
    },
    {
     "cell_type": "markdown",
     "metadata": {
      "slideshow": {
       "slide_type": "slide"
      }
     },
     "source": [
      "Activation Functions\n",
      "--------------------------------------------------------\n",
      "* Applied to the weighted sum of the inputs of a neuron to produce the output\n",
      "* Majority of NN\u2019s use sigmoid functions\n",
      "    - Smooth, continuous, and monotonically increasing (derivative is always positive)\n",
      "    - Bounded range - but never reaches max or min\n",
      "* Consider \u201cON\u201d to be slightly less than the max and \u201cOFF\u201d to be slightly greater than the min\n",
      "\n",
      "<img src=\"assets/logistic_regression1.png\" />"
     ]
    },
    {
     "cell_type": "markdown",
     "metadata": {
      "slideshow": {
       "slide_type": "subslide"
      }
     },
     "source": [
      "Activation Functions\n",
      "--------------------------------------------------------\n",
      "* The most common sigmoid function used is the logistic function\n",
      "    - $f(x) = \\frac{1}{(1 + e^{-x})}$\n",
      "    - The calculation of derivatives are important for neural networks and the logistic function has a very nice derivative\n",
      "        * $f\u2019(x) = f(x)(1 - f(x))$\n",
      "* Other sigmoid functions also used \n",
      "    - hyperbolic tangent\n",
      "    - arctangent\n",
      "* The exact nature of the function has little effect on the abilities of the neural network"
     ]
    },
    {
     "cell_type": "markdown",
     "metadata": {
      "slideshow": {
       "slide_type": "slide"
      }
     },
     "source": [
      "Where Do The Weights Come From?\n",
      "--------------------------------------------------------\n",
      "* The weights in a neural network are the most important factor in determining its function\n",
      "* Training is the act of presenting the network with some sample data and modifying the weights to better approximate the desired function\n",
      "* There are two main types of training\n",
      "    - Supervised Training\n",
      "    - Unsupervised Training"
     ]
    },
    {
     "cell_type": "markdown",
     "metadata": {
      "slideshow": {
       "slide_type": "subslide"
      }
     },
     "source": [
      "# Supervised Training\n",
      "* Supplies the neural network with inputs and the desired outputs\n",
      "* Response of the network to the inputs is measured\n",
      "    - The weights are modified to reduce the difference between the actual and desired outputs"
     ]
    },
    {
     "cell_type": "markdown",
     "metadata": {
      "slideshow": {
       "slide_type": "fragment"
      }
     },
     "source": [
      "# Unsupervised Training\n",
      "* Only supplies inputs\n",
      "* The neural network adjusts its own weights so that similar inputs cause similar outputs\n",
      "    - The network identifies the patterns and differences in the inputs without any external assistance"
     ]
    },
    {
     "cell_type": "markdown",
     "metadata": {
      "slideshow": {
       "slide_type": "subslide"
      }
     },
     "source": [
      "Where Do The Weights Come From?\n",
      "--------------------------------------------------------\n",
      "* Epoch\n",
      "    - One iteration through the process of providing the network with an input and updating the network's weights\n",
      "    - Typically many epochs are required to train the neural network"
     ]
    },
    {
     "cell_type": "markdown",
     "metadata": {
      "slideshow": {
       "slide_type": "slide"
      }
     },
     "source": [
      "Perceptrons\n",
      "--------------------------------------------------------\n",
      "* First neural network with the ability to learn\n",
      "* Made up of only input neurons and output neurons\n",
      "* Input neurons typically have two states: ON and OFF\n",
      "* Output neurons use a simple threshold activation function\n",
      "* In basic form, can only solve linear problems \n",
      "    - Limited applications\n",
      "<IMG SRC=\"assets/pitts-mcculloch.jpg\" />"
     ]
    },
    {
     "cell_type": "markdown",
     "metadata": {
      "slideshow": {
       "slide_type": "slide"
      }
     },
     "source": [
      "How Do Perceptrons Learn?\n",
      "--------------------------------------------------------\n",
      "* Uses supervised training\n",
      "* If the output is not correct, the weights are adjusted according to the formula:\n",
      "    - $w_{new} = w_{old} + \\alpha(desired - output) \\times input$  \n",
      "    _<small>$\\alpha$ is the learning rate</small>_"
     ]
    },
    {
     "cell_type": "markdown",
     "metadata": {
      "slideshow": {
       "slide_type": "fragment"
      }
     },
     "source": [
      "Example:  \n",
      "Given input: $[1, 0, 1]$  \n",
      "and initial weights: $[0.5, 0.2, 0.8]$"
     ]
    },
    {
     "cell_type": "markdown",
     "metadata": {
      "slideshow": {
       "slide_type": "fragment"
      }
     },
     "source": [
      "Assuming Output Threshold = 1.2  \n",
      "$1 \\times 0.5 + 0 \\times 0.2 + 1 \\times 0.8 = 1.3 > 1.2$"
     ]
    },
    {
     "cell_type": "markdown",
     "metadata": {
      "slideshow": {
       "slide_type": "fragment"
      }
     },
     "source": [
      "Assume Output was supposed to be 0 \n",
      "-> update the weights\n",
      "\n",
      "Assume $\\alpha = 1; \n",
      "\\\\ W_{1_{new}} = 0.5 + 1\\times(0-1)\\times1 = -0.5 \n",
      "\\\\ W_{2_{new}} = 0.2 + 1\\times(0-1)\\times0 = 0.2 \n",
      "\\\\ W_{3_{new}} = 0.8 + 1\\times(0-1)\\times1 = -0.2 $"
     ]
    },
    {
     "cell_type": "markdown",
     "metadata": {
      "slideshow": {
       "slide_type": "slide"
      }
     },
     "source": [
      "Multilayer Feedforward Networks\n",
      "--------------------------------------------------------\n",
      "* Most common neural network \n",
      "* An extension of the perceptron\n",
      "    - Multiple layers\n",
      "        * The addition of one or more \u201chidden\u201d layers in between the input and output layers\n",
      "    - Activation function is not simply a threshold\n",
      "        * Usually a sigmoid function\n",
      "    - A general function approximator\n",
      "        * Not limited to linear problems\n",
      "* Information flows in one direction\n",
      "    - The outputs of one layer act as inputs to the next layer"
     ]
    },
    {
     "cell_type": "markdown",
     "metadata": {
      "slideshow": {
       "slide_type": "slide"
      }
     },
     "source": [
      "XOR Example\n",
      "--------------------------------------------------------\n",
      "<img src=\"assets/perceptron-xor-task.png\" />\n",
      "\n",
      "*N.B. This is impossible for logistic regression and exemplifies the difference between a linear and non-linear model*"
     ]
    },
    {
     "cell_type": "markdown",
     "metadata": {
      "slideshow": {
       "slide_type": "slide"
      }
     },
     "source": [
      "Backpropagation\n",
      "--------------------------------------------------------\n",
      "* Most common method of obtaining the many weights in the network\n",
      "* A form of supervised training\n",
      "* The basic backpropagation algorithm is based on minimizing the error of the network using the derivatives of the error function\n",
      "    - Simple\n",
      "    - Slow\n",
      "    - Prone to local minima issues"
     ]
    },
    {
     "cell_type": "markdown",
     "metadata": {
      "slideshow": {
       "slide_type": "subslide"
      }
     },
     "source": [
      "Backpropagation\n",
      "--------------------------------------------------------\n",
      "* Most common measure of error is the mean square error:  \n",
      "    $E = (target \u2013 output)^2$\n",
      "* Partial derivatives of the error wrt the weights:\n",
      "    - Output Neurons:  \n",
      "    let: $\\delta = f'(net_j)(target_j-output_j)$   \n",
      "    $\\frac{\\delta\\ E}{\\delta\\ w_{ij}} = -output_i\\delta_j$  \n",
      "    <small>j = output neuron; i = neuron in last hidden </small>\n",
      "    - Hidden Neurons:  \n",
      "    let: $\\delta_j = f'(net_j)\\sum{\\delta_kw_{kj}}$   \n",
      "    $\\frac{\\delta\\ E}{\\delta\\ w_{ij}} = -output_i\\delta_j$  \n",
      "    <small>j = hidden neuron; i = neuron in previous layer; k=neuron in next layer</small>\n"
     ]
    },
    {
     "cell_type": "markdown",
     "metadata": {
      "slideshow": {
       "slide_type": "subslide"
      }
     },
     "source": [
      "Backpropagation\n",
      "--------------------------------------------------------\n",
      "* Calculation of the derivatives flows backwards through the network, hence the name, backpropagation\n",
      "* These derivatives point in the direction of the maximum increase of the error function\n",
      "* A small step (learning rate) in the opposite direction will result in the maximum decrease of the (local) error function:  \n",
      "    $w_{new} = w_{old} - \\alpha\\frac{\\delta E}{\\delta w_{old}}$  \n",
      "    where $\\alpha$ is the learning rate"
     ]
    },
    {
     "cell_type": "markdown",
     "metadata": {
      "slideshow": {
       "slide_type": "subslide"
      }
     },
     "source": [
      "Backpropagation\n",
      "--------------------------------------------------------\n",
      "* The learning rate is important\n",
      "     - Too small\n",
      "         * Convergence extremely slow\n",
      "     - Too large\n",
      "         * May not converge\n",
      "* Momentum\n",
      "     - Tends to aid convergence\n",
      "     - Applies smoothed averaging to the change in weights:  \n",
      "        $\\Delta_{new} = \\beta \\Delta_{old} - \\alpha \\frac{\\delta E}{\\delta w_{old}}$  \n",
      "        $\\beta$ is the momentum coefficient\n",
      "        $w_{new} = w_{old} + \\Delta_{new}$\n",
      "     - Acts as a low-pass filter by reducing rapid fluctuations"
     ]
    },
    {
     "cell_type": "markdown",
     "metadata": {
      "slideshow": {
       "slide_type": "slide"
      }
     },
     "source": [
      "Local Minima\n",
      "--------------------------------------------------------\n",
      "* Training is essentially minimizing the mean square error function\n",
      "    - Key problem is avoiding local minima\n",
      "    - Traditional techniques for avoiding local minima:\n",
      "        * Simulated annealing\n",
      "            - Perturb the weights in progressively smaller amounts\n",
      "        * Genetic algorithms\n",
      "            - Use the weights as chromosomes\n",
      "            - Apply natural selection, mating, and mutations to these chromosomes"
     ]
    },
    {
     "cell_type": "heading",
     "level": 1,
     "metadata": {
      "slideshow": {
       "slide_type": "slide"
      }
     },
     "source": [
      "Neural Networks in Practice"
     ]
    },
    {
     "cell_type": "code",
     "collapsed": false,
     "input": [
      "%%R\n",
      "library(nnet)\n",
      "library(devtools)\n",
      "source_url('https://gist.github.com/fawda123/7471137/raw/c720af2cea5f312717f020a09946800d55b8f45b/nnet_plot_update.r')"
     ],
     "language": "python",
     "metadata": {
      "slideshow": {
       "slide_type": "skip"
      }
     },
     "outputs": [
      {
       "metadata": {},
       "output_type": "display_data",
       "text": [
        "SHA-1 hash of file is 3e535ef9cbcad648f0fffb89a8879e12c09be1e7\n"
       ]
      }
     ],
     "prompt_number": 18
    },
    {
     "cell_type": "heading",
     "level": 2,
     "metadata": {
      "slideshow": {
       "slide_type": "slide"
      }
     },
     "source": [
      "Unsupervised"
     ]
    },
    {
     "cell_type": "code",
     "collapsed": false,
     "input": [
      "%%R\n",
      "eight <- data.frame(X1=c(1, rep(0, 7)), X2=c(0,1,rep(0,6)), X3=c(0,0,1,rep(0,5)), X4=c(0,0,0,1,rep(0,4)), \n",
      "                    X5=c(rep(0,4),1,0,0,0), X6=c(rep(0,5),1,0,0), X7=c(rep(0,6),1,0), X8=c(rep(0,7),1))\n",
      "eight"
     ],
     "language": "python",
     "metadata": {
      "slideshow": {
       "slide_type": "-"
      }
     },
     "outputs": [
      {
       "metadata": {},
       "output_type": "display_data",
       "text": [
        "  X1 X2 X3 X4 X5 X6 X7 X8\n",
        "1  1  0  0  0  0  0  0  0\n",
        "2  0  1  0  0  0  0  0  0\n",
        "3  0  0  1  0  0  0  0  0\n",
        "4  0  0  0  1  0  0  0  0\n",
        "5  0  0  0  0  1  0  0  0\n",
        "6  0  0  0  0  0  1  0  0\n",
        "7  0  0  0  0  0  0  1  0\n",
        "8  0  0  0  0  0  0  0  1\n"
       ]
      }
     ],
     "prompt_number": 24
    },
    {
     "cell_type": "code",
     "collapsed": false,
     "input": [
      "%%R\n",
      "library(nnet)\n",
      "eight.net <- nnet(x = eight, y = eight, size = 3)"
     ],
     "language": "python",
     "metadata": {
      "slideshow": {
       "slide_type": "subslide"
      }
     },
     "outputs": [
      {
       "metadata": {},
       "output_type": "display_data",
       "text": [
        "# weights:  59\n",
        "initial  value 19.013140 \n",
        "iter  10 value 6.037264\n",
        "iter  20 value 2.095977\n",
        "iter  30 value 0.048524\n",
        "iter  40 value 0.000155\n",
        "final  value 0.000067 \n",
        "converged\n"
       ]
      }
     ],
     "prompt_number": 37
    },
    {
     "cell_type": "code",
     "collapsed": false,
     "input": [
      "%%R\n",
      "plot(eight.net)"
     ],
     "language": "python",
     "metadata": {
      "slideshow": {
       "slide_type": "skip"
      }
     },
     "outputs": [
      {
       "metadata": {},
       "output_type": "display_data",
       "text": [
        "Loading required package: scales\n",
        "Loading required package: reshape\n",
        "Loading required package: plyr\n",
        "\n",
        "Attaching package: \u2018reshape\u2019\n",
        "\n",
        "The following objects are masked from \u2018package:plyr\u2019:\n",
        "\n",
        "    rename, round_any\n",
        "\n",
        "The following object is masked from \u2018package:class\u2019:\n",
        "\n",
        "    condense\n",
        "\n"
       ]
      },
      {
       "metadata": {},
       "output_type": "display_data",
       "png": "[encoded data removed]"
      }
     ],
     "prompt_number": 20
    },
    {
     "cell_type": "code",
     "collapsed": false,
     "input": [
      "%%R\n",
      "plot(eight.net)"
     ],
     "language": "python",
     "metadata": {
      "slideshow": {
       "slide_type": "subslide"
      }
     },
     "outputs": [
      {
       "metadata": {},
       "output_type": "display_data",
       "png": "[encoded data removed]"
      }
     ],
     "prompt_number": 54
    },
    {
     "cell_type": "code",
     "collapsed": false,
     "input": [
      "%%R\n",
      "hidden_sums <- function(i) {\n",
      "    return(c(sum(plot.nnet(eight.net,wts.only=T)[['hidden 1 1']][c(1,i+1)]), \n",
      "             sum(plot.nnet(eight.net,wts.only=T)[['hidden 1 2']][c(1,i+1)]), \n",
      "             sum(plot.nnet(eight.net,wts.only=T)[['hidden 1 3']][c(1,i+1)])))\n",
      "}\n",
      "t(sapply(c(1:8), hidden_sums))"
     ],
     "language": "python",
     "metadata": {
      "slideshow": {
       "slide_type": "subslide"
      }
     },
     "outputs": [
      {
       "metadata": {},
       "output_type": "display_data",
       "text": [
        "            [,1]       [,2]        [,3]\n",
        "[1,]  -53.493462 -78.163640  -97.705215\n",
        "[2,]   41.023794  -1.851191    1.150396\n",
        "[3,]   25.064062  94.200762  101.144791\n",
        "[4,]  -75.822102 104.801736  -84.204842\n",
        "[5,]   -1.921834 -98.268453  136.608166\n",
        "[6,]   44.748766 140.694407 -113.532087\n",
        "[7,]  137.462885 -64.387803  -13.907567\n",
        "[8,] -127.439960  87.422128   70.566624\n"
       ]
      }
     ],
     "prompt_number": 41
    },
    {
     "cell_type": "code",
     "collapsed": false,
     "input": [
      "%%R\n",
      "t(sapply(c(1:8), hidden_sums) > 1) * 1"
     ],
     "language": "python",
     "metadata": {
      "slideshow": {
       "slide_type": "subslide"
      }
     },
     "outputs": [
      {
       "metadata": {},
       "output_type": "display_data",
       "text": [
        "     [,1] [,2] [,3]\n",
        "[1,]    0    0    0\n",
        "[2,]    1    0    1\n",
        "[3,]    1    1    1\n",
        "[4,]    0    1    0\n",
        "[5,]    0    0    1\n",
        "[6,]    1    1    0\n",
        "[7,]    1    0    0\n",
        "[8,]    0    1    1\n"
       ]
      }
     ],
     "prompt_number": 42
    },
    {
     "cell_type": "heading",
     "level": 2,
     "metadata": {
      "slideshow": {
       "slide_type": "slide"
      }
     },
     "source": [
      "Supervised"
     ]
    },
    {
     "cell_type": "code",
     "collapsed": false,
     "input": [
      "%%R\n",
      "nnet(trainClass ~ ., data=trainDescr, size = 3, decay = 5e-4)"
     ],
     "language": "python",
     "metadata": {
      "slideshow": {
       "slide_type": "-"
      }
     },
     "outputs": [
      {
       "metadata": {},
       "output_type": "display_data",
       "text": [
        "# weights:  187\n",
        "initial  value 97.094228 \n",
        "iter  10 value 48.353877\n",
        "iter  20 value 10.988537\n",
        "iter  30 value 5.351126\n",
        "iter  40 value 2.336103\n",
        "iter  50 value 1.836484\n",
        "iter  60 value 1.572561\n",
        "iter  70 value 1.422582\n",
        "iter  80 value 1.325231\n",
        "iter  90 value 1.268751\n",
        "iter 100 value 1.228825\n",
        "final  value 1.228825 \n",
        "stopped after 100 iterations\n",
        "a 60-3-1 network with 187 weights\n",
        "inputs: V1 V2 V3 V4 V5 V6 V7 V8 V9 V10 V11 V12 V13 V14 V15 V16 V17 V18 V19 V20 V21 V22 V23 V24 V25 V26 V27 V28 V29 V30 V31 V32 V33 V34 V35 V36 V37 V38 V39 V40 V41 V42 V43 V44 V45 V46 V47 V48 V49 V50 V51 V52 V53 V54 V55 V56 V57 V58 V59 V60 \n",
        "output(s): trainClass \n",
        "options were - entropy fitting  decay=5e-04\n"
       ]
      }
     ],
     "prompt_number": 138
    },
    {
     "cell_type": "code",
     "collapsed": false,
     "input": [
      "%%R\n",
      "library(nnet)\n",
      "nnet(trainClass ~ ., data=trainDescr, size = 3, decay = 5e-4, trace=FALSE)"
     ],
     "language": "python",
     "metadata": {
      "slideshow": {
       "slide_type": "skip"
      }
     },
     "outputs": [
      {
       "metadata": {},
       "output_type": "display_data",
       "text": [
        "a 57-3-1 network with 178 weights\n",
        "inputs: V1 V2 V3 V4 V5 V6 V7 V8 V9 V10 V11 V12 V13 V14 V16 V17 V19 V21 V22 V23 V24 V25 V26 V27 V28 V29 V30 V31 V32 V33 V34 V35 V36 V37 V38 V39 V40 V41 V42 V43 V44 V45 V46 V47 V48 V49 V50 V51 V52 V53 V54 V55 V56 V57 V58 V59 V60 \n",
        "output(s): trainClass \n",
        "options were - entropy fitting  decay=5e-04\n"
       ]
      }
     ],
     "prompt_number": 43
    },
    {
     "cell_type": "markdown",
     "metadata": {
      "slideshow": {
       "slide_type": "slide"
      }
     },
     "source": [
      "Tuning Models using Resampling\n",
      "--------------------------------------------------------"
     ]
    },
    {
     "cell_type": "markdown",
     "metadata": {
      "slideshow": {
       "slide_type": "skip"
      }
     },
     "source": [
      "The number of hidden nodes and the decay can both greatly affect the success of a neural net.\n",
      "`caret` to the rescue:"
     ]
    },
    {
     "cell_type": "code",
     "collapsed": false,
     "input": [
      "%%R\n",
      "eights <- rbind(eight, eight, eight, eight, eight, eight, eight, eight)\n",
      "eightTrain <- createDataPartition(y = seq(1:nrow(eights)), p = 7/8, list = FALSE)\n",
      "trainEight <- eights[eightTrain,]\n",
      "testEight <- eights[-eightTrain,]\n",
      "is(apply(testEight, 2, factor)[,2]"
     ],
     "language": "python",
     "metadata": {
      "slideshow": {
       "slide_type": "skip"
      }
     },
     "outputs": [
      {
       "metadata": {},
       "output_type": "display_data",
       "text": [
        "[1] \"character\"           \"vector\"              \"data.frameRowLabels\"\n",
        "[4] \"SuperClassMethod\"    \"EnumerationValue\"   \n"
       ]
      }
     ],
     "prompt_number": 82
    },
    {
     "cell_type": "code",
     "collapsed": false,
     "input": [
      "%%R\n",
      "nnetFit <- train(x = trainEight, y = apply(testEight, 2, factor),\n",
      "                 method = \"nnet\", #trace=FALSE,\n",
      "                 tuneLength = 3)\n",
      "plot(nnetFit)"
     ],
     "language": "python",
     "metadata": {
      "slideshow": {
       "slide_type": "skip"
      }
     },
     "outputs": [
      {
       "output_type": "stream",
       "stream": "stdout",
       "text": [
        "# weights:  11\n",
        "initial  value 8.673728 \n",
        "iter  10 value 4.999045\n",
        "iter  20 value 4.999025\n",
        "iter  30 value 4.999004\n",
        "iter  40 value 4.998983\n",
        "iter  50 value 4.998960\n",
        "iter  60 value 4.998937\n",
        "iter  70 value 4.998913\n",
        "iter  80 value 4.998887\n",
        "iter  90 value 4.998860\n",
        "iter 100 value 4.998833\n",
        "final  value 4.998833 \n",
        "stopped after 100 iterations\n",
        "# weights:  31\n",
        "initial  value 10.609366 \n",
        "final  value 5.000000 \n",
        "converged\n",
        "# weights:  51\n",
        "initial  value 16.708649 \n",
        "final  value 5.000000 \n",
        "converged\n",
        "# weights:  11\n",
        "initial  value 18.270834 \n",
        "iter  10 value 4.881627\n",
        "final  value 4.875318 \n",
        "converged\n",
        "# weights:  31\n",
        "initial  value 9.803649 \n",
        "iter  10 value 4.779104\n",
        "iter  20 value 4.775880\n",
        "final  value 4.775879 \n",
        "converged\n",
        "# weights:  51\n",
        "initial  value 8.163138 \n",
        "iter  10 value 4.727742\n",
        "iter  20 value 4.727095\n",
        "iter  20 value 4.727095\n",
        "iter  20 value 4.727095\n",
        "final  value 4.727095 \n",
        "converged\n",
        "# weights:  11\n",
        "initial  value 25.260746 \n",
        "iter  10 value 5.002238\n",
        "iter  20 value 5.001798\n",
        "iter  30 value 5.001298\n",
        "iter  40 value 5.000723\n",
        "iter  50 value 5.000053\n",
        "iter  60 value 4.999265\n",
        "iter  70 value 4.998320\n",
        "iter  80 value 4.997166\n",
        "iter  90 value 4.995726\n",
        "iter 100 value 4.993876\n",
        "final  value 4.993876 \n",
        "stopped after 100 iterations\n",
        "# weights:  31\n",
        "initial  value 11.097899 \n",
        "iter  10 value 5.005318\n",
        "iter  20 value 5.005263\n",
        "iter  30 value 5.005208\n",
        "iter  40 value 5.005151\n",
        "iter  50 value 5.005092\n",
        "iter  60 value 5.005032\n",
        "iter  70 value 5.004971\n",
        "iter  80 value 5.004907\n",
        "iter  90 value 5.004842\n",
        "iter 100 value 5.004774\n",
        "final  value 5.004774 \n",
        "stopped after 100 iterations\n",
        "# weights:  51\n",
        "initial  value 4.646928 \n",
        "iter  10 value 4.267219\n",
        "iter  20 value 3.518633\n",
        "iter  30 value 3.511242\n",
        "iter  40 value 3.507777\n",
        "iter  50 value 3.506980\n",
        "iter  60 value 3.506815\n",
        "iter  70 value 3.506137\n",
        "iter  80 value 3.505601\n",
        "iter  90 value 3.505180\n",
        "iter 100 value 3.505060\n",
        "final  value 3.505060 \n",
        "stopped after 100 iterations\n",
        "# weights:  11\n",
        "initial  value 17.716435 \n",
        "final  value 7.000000 \n",
        "converged\n",
        "# weights:  31\n",
        "initial  value 14.860389 \n",
        "final  value 7.000000 \n",
        "converged\n",
        "# weights:  51\n",
        "initial  value 18.894532 \n",
        "final  value 7.000000 \n",
        "converged\n",
        "# weights:  11\n",
        "initial  value 10.486567 \n",
        "iter  10 value 6.166966\n",
        "final  value 6.107471 \n",
        "converged\n",
        "# weights:  31\n",
        "initial  value 10.622843 \n",
        "iter  10 value 6.080145\n",
        "iter  20 value 6.047568\n",
        "iter  30 value 6.045179\n",
        "final  value 6.045150 \n",
        "converged\n",
        "# weights:  51\n",
        "initial  value 20.397641 \n",
        "iter  10 value 6.065362\n",
        "iter  20 value 6.046806\n",
        "iter  30 value 6.038947\n",
        "iter  40 value 6.038931\n",
        "final  value 6.038931 \n",
        "converged\n",
        "# weights:  11\n",
        "initial  value 18.367755 \n",
        "iter  10 value 7.003787\n",
        "iter  20 value 7.003490\n",
        "iter  30 value 7.003159\n",
        "iter  40 value 7.002789\n",
        "iter  50 value 7.002371\n",
        "iter  60 value 7.001894\n",
        "iter  70 value 7.001345\n",
        "iter  80 value 7.000705\n",
        "iter  90 value 6.999949\n",
        "iter 100 value 6.999040\n",
        "final  value 6.999040 \n",
        "stopped after 100 iterations\n",
        "# weights:  31\n",
        "initial  value 10.628473 \n",
        "iter  10 value 7.005315\n",
        "iter  20 value 7.005244\n",
        "iter  30 value 7.005170\n",
        "iter  40 value 7.005094\n",
        "iter  50 value 7.005014\n",
        "iter  60 value 7.004931\n",
        "iter  70 value 7.004843\n",
        "iter  80 value 7.004752\n",
        "iter  90 value 7.004656\n",
        "iter 100 value 7.004554\n",
        "final  value 7.004554 \n",
        "stopped after 100 iterations\n",
        "# weights:  51\n",
        "initial  value 23.789082 \n",
        "iter  10 value 7.000137\n",
        "iter  20 value 6.999516\n",
        "iter  30 value 6.998706\n",
        "iter  40 value 6.997600\n",
        "iter  50 value 6.995996\n",
        "iter  60 value 6.993468\n",
        "iter  70 value 6.988926\n",
        "iter  80 value 6.978673\n",
        "iter  90 value 6.939879\n",
        "iter 100 value 5.680219\n",
        "final  value 5.680219 \n",
        "stopped after 100 iterations\n",
        "# weights:  11\n",
        "initial  value 25.633738 \n",
        "final  value 1.999999 \n",
        "converged\n",
        "# weights:  31\n",
        "initial  value 10.080237 \n",
        "final  value 1.999993 \n",
        "converged\n",
        "# weights:  51\n",
        "initial  value 17.377625 \n",
        "final  value 2.000000 \n",
        "converged\n",
        "# weights:  11\n",
        "initial  value 6.951183 \n",
        "iter  10 value 2.467581\n",
        "final  value 2.467580 \n",
        "converged\n",
        "# weights:  31\n",
        "initial  value 14.092601 \n",
        "iter  10 value 2.334016\n",
        "iter  20 value 2.332511\n",
        "iter  20 value 2.332511\n",
        "iter  20 value 2.332511\n",
        "final  value 2.332511 \n",
        "converged\n",
        "# weights:  51\n",
        "initial  value 6.625965 \n",
        "iter  10 value 2.257854\n",
        "final  value 2.257832 \n",
        "converged\n",
        "# weights:  11\n",
        "initial  value 10.746226 \n",
        "iter  10 value 2.000334\n",
        "iter  20 value 1.999931\n",
        "iter  30 value 1.999457\n",
        "iter  40 value 1.998888\n",
        "iter  50 value 1.998191\n",
        "iter  60 value 1.997314\n",
        "iter  70 value 1.996175\n",
        "iter  80 value 1.994635\n",
        "iter  90 value 1.992436\n",
        "iter 100 value 1.989065\n",
        "final  value 1.989065 \n",
        "stopped after 100 iterations\n",
        "# weights:  31\n",
        "initial  value 12.589536 \n",
        "iter  10 value 2.003197\n",
        "iter  20 value 2.003129\n",
        "iter  30 value 2.003059\n",
        "iter  40 value 2.002985\n",
        "iter  50 value 2.002907\n",
        "iter  60 value 2.002825\n",
        "iter  70 value 2.002739\n",
        "iter  80 value 2.002647\n",
        "iter  90 value 2.002550\n",
        "iter 100 value 2.002447\n",
        "final  value 2.002447 \n",
        "stopped after 100 iterations\n",
        "# weights:  51\n",
        "initial  value 18.386290 \n",
        "iter  10 value 1.989134\n",
        "iter  20 value 1.982939\n",
        "iter  30 value 1.969454\n",
        "iter  40 value 1.934161\n",
        "iter  50 value 1.657039\n",
        "iter  60 value 1.592682\n",
        "iter  70 value 1.589571\n",
        "iter  80 value 1.588750\n",
        "iter  90 value 1.588673\n",
        "iter 100 value 1.588590\n",
        "final  value 1.588590 \n",
        "stopped after 100 iterations\n",
        "# weights:  11\n",
        "initial  value 15.481109 \n",
        "final  value 5.999955 \n",
        "converged\n",
        "# weights:  31\n",
        "initial  value 9.886870 \n",
        "final  value 5.999996 \n",
        "converged\n",
        "# weights:  51\n",
        "initial  value 15.410244 \n",
        "final  value 6.000000 \n",
        "converged\n",
        "# weights:  11\n",
        "initial  value 11.167058 \n",
        "iter  10 value 5.611302\n",
        "final  value 5.610677 \n",
        "converged\n",
        "# weights:  31\n",
        "initial  value 9.435758 \n",
        "iter  10 value 5.523095\n",
        "iter  20 value 5.522773\n",
        "final  value 5.522773 \n",
        "converged\n",
        "# weights:  51\n",
        "initial  value 24.495347 \n",
        "iter  10 value 5.502849\n",
        "iter  20 value 5.480956\n",
        "final  value 5.480955 \n",
        "converged\n",
        "# weights:  11\n",
        "initial  value 11.593586 \n",
        "iter  10 value 6.010395\n",
        "iter  20 value 6.010344\n",
        "iter  30 value 6.010293\n",
        "iter  40 value 6.010241\n",
        "iter  50 value 6.010190\n",
        "iter  60 value 6.010139\n",
        "iter  70 value 6.010087\n",
        "iter  80 value 6.010036\n",
        "iter  90 value 6.009984\n",
        "iter 100 value 6.009932\n",
        "final  value 6.009932 \n",
        "stopped after 100 iterations\n",
        "# weights:  31\n",
        "initial  value 9.066718 \n",
        "iter  10 value 5.294354\n",
        "iter  20 value 4.528664\n",
        "iter  30 value 4.497458\n",
        "iter  40 value 4.495742\n",
        "iter  50 value 4.494949\n",
        "iter  60 value 4.494880\n",
        "iter  70 value 4.494804\n",
        "iter  80 value 4.494757\n",
        "iter  90 value 4.494713\n",
        "final  value 4.494702 \n",
        "converged\n",
        "# weights:  51\n",
        "initial  value 17.588226 \n",
        "iter  10 value 6.002329\n",
        "iter  20 value 6.002177\n",
        "iter  30 value 6.002007\n",
        "iter  40 value 6.001817\n",
        "iter  50 value 6.001601\n",
        "iter  60 value 6.001354\n",
        "iter  70 value 6.001068\n",
        "iter  80 value 6.000730\n",
        "iter  90 value 6.000324\n",
        "iter 100 value 5.999827\n",
        "final  value 5.999827 \n",
        "stopped after 100 iterations\n",
        "# weights:  11\n",
        "initial  value 17.727503 \n",
        "final  value 7.000000 \n",
        "converged\n",
        "# weights:  31\n",
        "initial  value 14.519545 \n",
        "final  value 7.000000 \n",
        "converged\n",
        "# weights:  51\n",
        "initial  value 15.424997 \n",
        "final  value 7.000000 \n",
        "converged\n",
        "# weights:  11\n",
        "initial  value 25.985396 \n",
        "iter  10 value 6.278687\n",
        "final  value 6.269723 \n",
        "converged\n",
        "# weights:  31\n",
        "initial  value 21.975306 \n",
        "iter  10 value 6.323554\n",
        "iter  20 value 6.198427\n",
        "final  value 6.198169 \n",
        "converged\n",
        "# weights:  51\n",
        "initial  value 17.058147 \n",
        "iter  10 value 6.196971\n",
        "iter  20 value 6.182819\n",
        "iter  30 value 6.182382\n",
        "final  value 6.182379 \n",
        "converged\n",
        "# weights:  11\n",
        "initial  value 13.526453 \n",
        "iter  10 value 6.998069\n",
        "iter  20 value 6.996839\n",
        "iter  30 value 6.995166\n",
        "iter  40 value 6.992752\n",
        "iter  50 value 6.988968\n",
        "iter  60 value 6.982249\n",
        "iter  70 value 6.967576\n",
        "iter  80 value 6.918539\n",
        "iter  90 value 6.213270\n",
        "iter 100 value 4.618646\n",
        "final  value 4.618646 \n",
        "stopped after 100 iterations\n",
        "# weights:  31\n",
        "initial  value 8.729255 \n",
        "iter  10 value 7.005703\n",
        "iter  20 value 7.005660\n",
        "iter  30 value 7.005617\n",
        "iter  40 value 7.005573\n",
        "iter  50 value 7.005529\n",
        "iter  60 value 7.005484\n",
        "iter  70 value 7.005438\n",
        "iter  80 value 7.005391\n",
        "iter  90 value 7.005344\n",
        "iter 100 value 7.005295\n",
        "final  value 7.005295 \n",
        "stopped after 100 iterations\n",
        "# weights:  51\n",
        "initial  value 31.683383 \n",
        "iter  10 value 7.004576\n",
        "iter  20 value 7.004468\n",
        "iter  30 value 7.004352\n",
        "iter  40 value 7.004227\n",
        "iter  50 value 7.004091\n",
        "iter  60 value 7.003944\n",
        "iter  70 value 7.003782\n",
        "iter  80 value 7.003604\n",
        "iter  90 value 7.003406\n",
        "iter 100 value 7.003183\n",
        "final  value 7.003183 \n",
        "stopped after 100 iterations\n",
        "# weights:  11\n",
        "initial  value 14.618582 \n",
        "final  value 7.999983 \n",
        "converged\n",
        "# weights:  31\n",
        "initial  value 14.177186 \n",
        "final  value 8.000000 \n",
        "converged\n",
        "# weights:  51\n",
        "initial  value 11.583555 \n",
        "final  value 8.000000 \n",
        "converged\n",
        "# weights:  11\n",
        "initial  value 8.990453 \n",
        "iter  10 value 6.605450\n",
        "final  value 6.574753 \n",
        "converged\n",
        "# weights:  31\n",
        "initial  value 14.336989 \n",
        "iter  10 value 6.531526\n",
        "iter  20 value 6.510687\n",
        "iter  30 value 6.510639\n",
        "final  value 6.510638 \n",
        "converged\n",
        "# weights:  51\n",
        "initial  value 22.857913 \n",
        "iter  10 value 6.616519\n",
        "iter  20 value 6.529219\n",
        "iter  30 value 6.443550\n",
        "iter  40 value 6.443114\n",
        "final  value 6.443114 \n",
        "converged\n",
        "# weights:  11\n",
        "initial  value 10.313407 \n",
        "iter  10 value 8.006229\n",
        "iter  20 value 8.006132\n",
        "iter  30 value 8.006031\n",
        "iter  40 value 8.005924\n",
        "iter  50 value 8.005811\n",
        "iter  60 value 8.005690\n",
        "iter  70 value 8.005562\n",
        "iter  80 value 8.005425\n",
        "iter  90 value 8.005277\n",
        "iter 100 value 8.005117\n",
        "final  value 8.005117 \n",
        "stopped after 100 iterations\n",
        "# weights:  31\n",
        "initial  value 27.776048 \n",
        "iter  10 value 8.001621\n",
        "iter  20 value 8.001059\n",
        "iter  30 value 8.000358\n",
        "iter  40 value 7.999456\n",
        "iter  50 value 7.998251\n",
        "iter  60 value 7.996562\n",
        "iter  70 value 7.994027\n",
        "iter  80 value 7.989842\n",
        "iter  90 value 7.981806\n",
        "iter 100 value 7.961527\n",
        "final  value 7.961527 \n",
        "stopped after 100 iterations\n",
        "# weights:  51\n",
        "initial  value 29.203238 \n",
        "iter  10 value 7.999132\n",
        "iter  20 value 7.998097\n",
        "iter  30 value 7.996618\n",
        "iter  40 value 7.994329\n",
        "iter  50 value 7.990340\n",
        "iter  60 value 7.981827\n",
        "iter  70 value 7.953952\n",
        "iter  80 value 7.436207\n",
        "iter  90 value 4.600000\n",
        "iter 100 value 4.522029\n",
        "final  value 4.522029 \n",
        "stopped after 100 iterations\n",
        "# weights:  11\n",
        "initial  value 10.871622 \n",
        "iter  10 value 6.996968\n",
        "iter  20 value 6.996864\n",
        "iter  30 value 6.996752\n",
        "iter  40 value 6.996633\n",
        "iter  50 value 6.996505\n",
        "iter  60 value 6.996366\n",
        "iter  70 value 6.996217\n",
        "iter  80 value 6.996055\n",
        "iter  90 value 6.995879\n",
        "iter 100 value 6.995688\n",
        "final  value 6.995688 \n",
        "stopped after 100 iterations\n",
        "# weights:  31\n",
        "initial  value 12.854428 \n",
        "final  value 7.000000 \n",
        "converged\n",
        "# weights:  51\n",
        "initial  value 11.720122 \n",
        "final  value 7.000000 \n",
        "converged\n",
        "# weights:  11\n",
        "initial  value 8.855860 \n",
        "iter  10 value 6.263145\n",
        "final  value 6.262857 \n",
        "converged\n",
        "# weights:  31\n",
        "initial  value 12.187882 \n",
        "iter  10 value 6.192021\n",
        "iter  20 value 6.189036\n",
        "final  value 6.189036 \n",
        "converged\n",
        "# weights:  51\n",
        "initial  value 7.239005 \n",
        "iter  10 value 6.156232\n",
        "iter  20 value 6.155381\n",
        "iter  20 value 6.155381\n",
        "iter  20 value 6.155381\n",
        "final  value 6.155381 \n",
        "converged\n",
        "# weights:  11\n",
        "initial  value 9.751729 \n",
        "iter  10 value 6.999946\n",
        "iter  20 value 6.999245\n",
        "iter  30 value 6.998423\n",
        "iter  40 value 6.997445\n",
        "iter  50 value 6.996257\n",
        "iter  60 value 6.994782\n",
        "iter  70 value 6.992898\n",
        "iter  80 value 6.990399\n",
        "iter  90 value 6.986920\n",
        "iter 100 value 6.981732\n",
        "final  value 6.981732 \n",
        "stopped after 100 iterations\n",
        "# weights:  31\n",
        "initial  value 19.312728 \n",
        "iter  10 value 7.004163\n",
        "iter  20 value 7.004030\n",
        "iter  30 value 7.003888\n",
        "iter  40 value 7.003733\n",
        "iter  50 value 7.003566\n",
        "iter  60 value 7.003382\n",
        "iter  70 value 7.003180\n",
        "iter  80 value 7.002955\n",
        "iter  90 value 7.002704\n",
        "iter 100 value 7.002420\n",
        "final  value 7.002420 \n",
        "stopped after 100 iterations\n",
        "# weights:  51\n",
        "initial  value 20.386776 \n",
        "iter  10 value 7.004795\n",
        "iter  20 value 7.004744\n",
        "iter  30 value 7.004691\n",
        "iter  40 value 7.004636\n",
        "iter  50 value 7.004580\n",
        "iter  60 value 7.004521\n",
        "iter  70 value 7.004461\n",
        "iter  80 value 7.004399\n",
        "iter  90 value 7.004334\n",
        "iter 100 value 7.004266\n",
        "final  value 7.004266 \n",
        "stopped after 100 iterations\n",
        "# weights:  11\n",
        "initial  value 22.265627 \n",
        "iter  10 value 15.998731\n",
        "iter  20 value 15.998712\n",
        "iter  30 value 15.998693\n",
        "iter  40 value 15.998673\n",
        "iter  50 value 15.998653\n",
        "iter  60 value 15.998632\n",
        "iter  70 value 15.998610\n",
        "iter  80 value 15.998588\n",
        "iter  90 value 15.998565\n",
        "iter 100 value 15.998541\n",
        "final  value 15.998541 \n",
        "stopped after 100 iterations\n",
        "# weights:  31\n",
        "initial  value 21.407812 \n",
        "final  value 16.000000 \n",
        "converged\n",
        "# weights:  51\n",
        "initial  value 15.705263 \n",
        "iter  10 value 6.315596\n",
        "iter  20 value 6.145859\n",
        "iter  30 value 6.144857\n",
        "iter  40 value 6.144843\n",
        "final  value 6.144843 \n",
        "converged\n",
        "# weights:  11\n",
        "initial  value 16.293926 \n",
        "iter  10 value 9.534451\n",
        "final  value 9.499919 \n",
        "converged\n",
        "# weights:  31\n",
        "initial  value 16.330965 \n",
        "iter  10 value 9.688788\n",
        "iter  20 value 9.175265\n",
        "iter  30 value 9.165602\n",
        "final  value 9.165120 \n",
        "converged\n",
        "# weights:  51\n",
        "initial  value 14.528910 \n",
        "iter  10 value 9.169283\n",
        "iter  20 value 9.108662\n",
        "iter  30 value 9.107292\n",
        "final  value 9.107290 \n",
        "converged\n",
        "# weights:  11\n",
        "initial  value 17.456383 \n",
        "iter  10 value 16.009586\n",
        "iter  20 value 16.009536\n",
        "iter  30 value 16.009486\n",
        "iter  40 value 16.009435\n",
        "iter  50 value 16.009384\n",
        "iter  60 value 16.009333\n",
        "iter  70 value 16.009282\n",
        "iter  80 value 16.009230\n",
        "iter  90 value 16.009178\n",
        "iter 100 value 16.009126\n",
        "final  value 16.009126 \n",
        "stopped after 100 iterations\n",
        "# weights:  31\n",
        "initial  value 13.370069 \n",
        "iter  10 value 6.435933\n",
        "iter  20 value 6.160126\n",
        "iter  30 value 6.157456\n",
        "iter  40 value 6.154745\n",
        "iter  50 value 6.154614\n",
        "iter  60 value 6.154309\n",
        "final  value 6.154295 \n",
        "converged\n",
        "# weights:  51\n",
        "initial  value 24.108535 \n",
        "iter  10 value 6.995909\n",
        "iter  20 value 6.346121\n",
        "iter  30 value 6.167736\n",
        "iter  40 value 6.164743\n",
        "iter  50 value 6.156578\n",
        "iter  60 value 6.154791\n",
        "iter  70 value 6.154623\n",
        "iter  80 value 6.154152\n",
        "iter  90 value 6.154130\n",
        "final  value 6.154089 \n",
        "converged\n",
        "# weights:  11\n",
        "initial  value 16.449487 \n",
        "final  value 9.000000 \n",
        "converged\n",
        "# weights:  31\n",
        "initial  value 18.163770 \n",
        "final  value 9.000000 \n",
        "converged\n",
        "# weights:  51\n",
        "initial  value 9.078179 \n",
        "iter  10 value 8.999803\n",
        "iter  20 value 8.999802\n",
        "iter  30 value 8.999800\n",
        "iter  40 value 8.999798\n",
        "iter  50 value 8.999796\n",
        "iter  60 value 8.999794\n",
        "iter  70 value 8.999792\n",
        "iter  80 value 8.999790\n",
        "iter  90 value 8.999788\n",
        "iter 100 value 8.999786\n",
        "final  value 8.999786 \n",
        "stopped after 100 iterations\n",
        "# weights:  11\n",
        "initial  value 21.130651 \n",
        "iter  10 value 7.502028\n",
        "iter  20 value 7.339857\n",
        "iter  20 value 7.339857\n",
        "iter  20 value 7.339857\n",
        "final  value 7.339857 \n",
        "converged\n",
        "# weights:  31\n",
        "initial  value 15.218695 \n",
        "iter  10 value 7.333072\n",
        "iter  20 value 7.295429\n",
        "iter  30 value 7.294624\n",
        "final  value 7.294598 \n",
        "converged\n",
        "# weights:  51\n",
        "initial  value 18.877172 \n",
        "iter  10 value 7.528185\n",
        "iter  20 value 7.297149\n",
        "iter  30 value 7.220824\n",
        "iter  40 value 7.220043\n",
        "final  value 7.220037 \n",
        "converged\n",
        "# weights:  11\n",
        "initial  value 9.406574 \n",
        "iter  10 value 8.970409\n",
        "iter  20 value 8.926541\n",
        "iter  30 value 8.136637\n",
        "iter  40 value 5.076649\n",
        "iter  50 value 5.057555\n",
        "iter  60 value 5.016040\n",
        "iter  70 value 5.013796\n",
        "iter  80 value 5.012965\n",
        "iter  90 value 5.012937\n",
        "final  value 5.012916 \n",
        "converged\n",
        "# weights:  31\n",
        "initial  value 16.774179 \n",
        "iter  10 value 9.001849\n",
        "iter  20 value 9.001424\n",
        "iter  30 value 9.000915\n",
        "iter  40 value 9.000295\n",
        "iter  50 value 8.999519\n",
        "iter  60 value 8.998517\n",
        "iter  70 value 8.997169\n",
        "iter  80 value 8.995259\n",
        "iter  90 value 8.992344\n",
        "iter 100 value 8.987375\n",
        "final  value 8.987375 \n",
        "stopped after 100 iterations\n",
        "# weights:  51\n",
        "initial  value 17.525798 \n",
        "iter  10 value 7.873848\n",
        "iter  20 value 5.066852\n",
        "iter  30 value 5.013790\n",
        "iter  40 value 5.013069\n",
        "iter  50 value 5.011775\n",
        "iter  60 value 5.011715\n",
        "final  value 5.011703 \n",
        "converged\n",
        "# weights:  11\n",
        "initial  value 8.168237 \n",
        "iter  10 value 3.999176\n",
        "iter  20 value 3.999164\n",
        "iter  30 value 3.999152\n",
        "iter  40 value 3.999139\n",
        "iter  50 value 3.999125\n",
        "iter  60 value 3.999112\n",
        "iter  70 value 3.999098\n",
        "iter  80 value 3.999083\n",
        "iter  90 value 3.999068\n",
        "iter 100 value 3.999053\n",
        "final  value 3.999053 \n",
        "stopped after 100 iterations\n",
        "# weights:  31\n",
        "initial  value 31.068493 \n",
        "final  value 4.000000 \n",
        "converged\n",
        "# weights:  51\n",
        "initial  value 22.757584 \n",
        "final  value 4.000000 \n",
        "converged\n",
        "# weights:  11\n",
        "initial  value 24.444726 \n",
        "iter  10 value 4.175260\n",
        "final  value 4.171580 \n",
        "converged\n",
        "# weights:  31\n",
        "initial  value 17.248785 \n",
        "iter  10 value 4.056994\n",
        "final  value 4.053473 \n",
        "converged\n",
        "# weights:  51\n",
        "initial  value 22.146053 \n",
        "iter  10 value 3.998396\n",
        "iter  20 value 3.990404\n",
        "final  value 3.990404 \n",
        "converged\n",
        "# weights:  11\n",
        "initial  value 19.151843 \n",
        "iter  10 value 4.004540\n",
        "iter  20 value 4.004377\n",
        "iter  30 value 4.004203\n",
        "iter  40 value 4.004018\n",
        "iter  50 value 4.003819\n",
        "iter  60 value 4.003604\n",
        "iter  70 value 4.003372\n",
        "iter  80 value 4.003120\n",
        "iter  90 value 4.002844\n",
        "iter 100 value 4.002541\n",
        "final  value 4.002541 \n",
        "stopped after 100 iterations\n",
        "# weights:  31\n",
        "initial  value 9.263435 \n",
        "iter  10 value 4.004570\n",
        "iter  20 value 4.004515\n",
        "iter  30 value 4.004458\n",
        "iter  40 value 4.004400\n",
        "iter  50 value 4.004340\n",
        "iter  60 value 4.004278\n",
        "iter  70 value 4.004213\n",
        "iter  80 value 4.004146\n",
        "iter  90 value 4.004077\n",
        "iter 100 value 4.004004\n",
        "final  value 4.004004 \n",
        "stopped after 100 iterations\n",
        "# weights:  51\n",
        "initial  value 7.736685 \n",
        "iter  10 value 3.998352\n",
        "iter  20 value 3.997465\n",
        "iter  30 value 3.996231\n",
        "iter  40 value 3.994396\n",
        "iter  50 value 3.991384\n",
        "iter  60 value 3.985596\n",
        "iter  70 value 3.970647\n",
        "iter  80 value 3.889083\n",
        "iter  90 value 3.397467\n",
        "iter 100 value 3.319148\n",
        "final  value 3.319148 \n",
        "stopped after 100 iterations\n",
        "# weights:  11\n",
        "initial  value 19.030289 \n",
        "final  value 10.000000 \n",
        "converged\n",
        "# weights:  31\n",
        "initial  value 13.516618 \n",
        "final  value 10.000000 \n",
        "converged\n",
        "# weights:  51\n",
        "initial  value 11.345462 \n",
        "final  value 10.000000 \n",
        "converged\n",
        "# weights:  11\n",
        "initial  value 12.555017 \n",
        "iter  10 value 7.382475\n",
        "iter  20 value 7.106459\n",
        "final  value 7.106459 \n",
        "converged\n",
        "# weights:  31\n",
        "initial  value 11.793963 \n",
        "iter  10 value 7.055665\n",
        "iter  20 value 6.816820\n",
        "iter  30 value 6.815147\n",
        "final  value 6.815146 \n",
        "converged\n",
        "# weights:  51\n",
        "initial  value 14.381127 \n",
        "iter  10 value 7.841802\n",
        "iter  20 value 7.053894\n",
        "iter  30 value 6.781306\n",
        "iter  40 value 6.778841\n",
        "final  value 6.778777 \n",
        "converged\n",
        "# weights:  11\n",
        "initial  value 16.963772 \n",
        "iter  10 value 9.987234\n",
        "iter  20 value 9.981880\n",
        "iter  30 value 9.973003\n",
        "iter  40 value 9.955381\n",
        "iter  50 value 9.904226\n",
        "iter  60 value 9.246035\n",
        "iter  70 value 4.086422\n",
        "iter  80 value 4.025535\n",
        "final  value 4.025414 \n",
        "converged\n",
        "# weights:  31\n",
        "initial  value 10.140596 \n",
        "iter  10 value 10.000948\n",
        "iter  20 value 10.000123\n",
        "iter  30 value 9.999022\n",
        "iter  40 value 9.997475\n",
        "iter  50 value 9.995139\n",
        "iter  60 value 9.991227\n",
        "iter  70 value 9.983479\n",
        "iter  80 value 9.962396\n",
        "iter  90 value 9.821719\n",
        "iter 100 value 5.098902\n",
        "final  value 5.098902 \n",
        "stopped after 100 iterations\n",
        "# weights:  51\n",
        "initial  value 15.082355 \n",
        "iter  10 value 8.014953\n",
        "iter  20 value 4.051294\n",
        "iter  30 value 4.023400\n",
        "iter  40 value 4.022750\n",
        "iter  50 value 4.022660\n",
        "iter  60 value 4.022348\n",
        "iter  70 value 4.022083\n",
        "iter  80 value 4.021937\n",
        "iter  90 value 4.021889\n",
        "iter 100 value 4.021622\n",
        "final  value 4.021622 \n",
        "stopped after 100 iterations\n",
        "# weights:  11\n",
        "initial  value 10.452651 \n",
        "iter  10 value 5.998285\n",
        "iter  20 value 5.998248\n",
        "iter  30 value 5.998210\n",
        "iter  40 value 5.998170\n",
        "iter  50 value 5.998128\n",
        "iter  60 value 5.998084\n",
        "iter  70 value 5.998039\n",
        "iter  80 value 5.997991\n",
        "iter  90 value 5.997942\n",
        "iter 100 value 5.997890\n",
        "final  value 5.997890 \n",
        "stopped after 100 iterations\n",
        "# weights:  31\n",
        "initial  value 10.581240 \n",
        "final  value 5.999939 \n",
        "converged\n",
        "# weights:  51\n",
        "initial  value 16.032967 \n",
        "final  value 6.000000 \n",
        "converged\n",
        "# weights:  11\n",
        "initial  value 11.410167 \n",
        "iter  10 value 5.528984\n",
        "final  value 5.528843 \n",
        "converged\n",
        "# weights:  31\n",
        "initial  value 16.322416 \n",
        "iter  10 value 5.452224\n",
        "final  value 5.448848 \n",
        "converged\n",
        "# weights:  51\n",
        "initial  value 8.792933 \n",
        "iter  10 value 5.410156\n",
        "iter  20 value 5.409336\n",
        "final  value 5.409335 \n",
        "converged\n",
        "# weights:  11\n",
        "initial  value 8.209523 \n",
        "iter  10 value 6.002492\n",
        "iter  20 value 6.002241\n",
        "iter  30 value 6.001961\n",
        "iter  40 value 6.001646\n",
        "iter  50 value 6.001290\n",
        "iter  60 value 6.000880\n",
        "iter  70 value 6.000404\n",
        "iter  80 value 5.999840\n",
        "iter  90 value 5.999161\n",
        "iter 100 value 5.998323\n",
        "final  value 5.998323 \n",
        "stopped after 100 iterations\n",
        "# weights:  31\n",
        "initial  value 16.662172 \n",
        "iter  10 value 6.002486\n",
        "iter  20 value 6.002232\n",
        "iter  30 value 6.001945\n",
        "iter  40 value 6.001616\n",
        "iter  50 value 6.001236\n",
        "iter  60 value 6.000788\n",
        "iter  70 value 6.000252\n",
        "iter  80 value 5.999599\n",
        "iter  90 value 5.998781\n",
        "iter 100 value 5.997725\n",
        "final  value 5.997725 \n",
        "stopped after 100 iterations\n",
        "# weights:  51\n",
        "initial  value 19.960198 \n",
        "iter  10 value 5.995669\n",
        "iter  20 value 5.993329\n",
        "iter  30 value 5.989221\n",
        "iter  40 value 5.980296\n",
        "iter  50 value 5.949377\n",
        "iter  60 value 5.324430\n",
        "iter  70 value 4.669766\n",
        "iter  80 value 4.661141\n",
        "iter  90 value 4.659221\n",
        "iter 100 value 4.657522\n",
        "final  value 4.657522 \n",
        "stopped after 100 iterations\n",
        "# weights:  11\n",
        "initial  value 15.975060 \n",
        "final  value 4.999995 \n",
        "converged\n",
        "# weights:  31\n",
        "initial  value 16.780503 \n",
        "final  value 5.000000 \n",
        "converged\n",
        "# weights:  51\n",
        "initial  value 20.878886 \n",
        "final  value 5.000000 \n",
        "converged\n",
        "# weights:  11\n",
        "initial  value 22.547605 \n",
        "iter  10 value 4.913364\n",
        "iter  20 value 4.909096\n",
        "iter  20 value 4.909096\n",
        "iter  20 value 4.909096\n",
        "final  value 4.909096 \n",
        "converged\n",
        "# weights:  31\n",
        "initial  value 20.696130 \n",
        "iter  10 value 4.809347\n",
        "iter  20 value 4.807352\n",
        "final  value 4.807351 \n",
        "converged\n",
        "# weights:  51\n",
        "initial  value 18.020127 \n",
        "iter  10 value 4.758789\n",
        "iter  20 value 4.756006\n",
        "final  value 4.756005 \n",
        "converged\n",
        "# weights:  11\n",
        "initial  value 7.959249 \n",
        "iter  10 value 5.001124\n",
        "iter  20 value 5.000678\n",
        "iter  30 value 5.000171\n",
        "iter  40 value 4.999590\n",
        "iter  50 value 4.998915\n",
        "iter  60 value 4.998120\n",
        "iter  70 value 4.997170\n",
        "iter  80 value 4.996012\n",
        "iter  90 value 4.994567\n",
        "iter 100 value 4.992712\n",
        "final  value 4.992712 \n",
        "stopped after 100 iterations\n",
        "# weights:  31\n",
        "initial  value 6.948163 \n",
        "iter  10 value 5.005423\n",
        "iter  20 value 5.005374\n",
        "iter  30 value 5.005325\n",
        "iter  40 value 5.005275\n",
        "iter  50 value 5.005224\n",
        "iter  60 value 5.005172\n",
        "iter  70 value 5.005118\n",
        "iter  80 value 5.005063\n",
        "iter  90 value 5.005006\n",
        "iter 100 value 5.004948\n",
        "final  value 5.004948 \n",
        "stopped after 100 iterations\n",
        "# weights:  51\n",
        "initial  value 17.236488 \n",
        "iter  10 value 5.003747\n",
        "iter  20 value 5.003685\n",
        "iter  30 value 5.003622\n",
        "iter  40 value 5.003555\n",
        "iter  50 value 5.003485\n",
        "iter  60 value 5.003411\n",
        "iter  70 value 5.003333\n",
        "iter  80 value 5.003251\n",
        "iter  90 value 5.003164\n",
        "iter 100 value 5.003072\n",
        "final  value 5.003072 \n",
        "stopped after 100 iterations\n",
        "# weights:  11\n",
        "initial  value 25.767144 \n",
        "final  value 6.999993 \n",
        "converged\n",
        "# weights:  31\n",
        "initial  value 9.134123 \n",
        "iter  10 value 6.999763\n",
        "iter  20 value 6.999761\n",
        "iter  30 value 6.999759\n",
        "iter  40 value 6.999756\n",
        "iter  50 value 6.999754\n",
        "iter  60 value 6.999752\n",
        "iter  70 value 6.999750\n",
        "iter  80 value 6.999747\n",
        "iter  90 value 6.999745\n",
        "iter 100 value 6.999742\n",
        "final  value 6.999742 \n",
        "stopped after 100 iterations\n",
        "# weights:  51\n",
        "initial  value 23.678110 \n",
        "final  value 7.000000 \n",
        "converged\n",
        "# weights:  11\n",
        "initial  value 11.577876 \n",
        "iter  10 value 6.283029\n",
        "final  value 6.272815 \n",
        "converged\n",
        "# weights:  31\n",
        "initial  value 13.302911 \n",
        "iter  10 value 6.215106\n",
        "iter  20 value 6.200026\n",
        "final  value 6.200003 \n",
        "converged\n",
        "# weights:  51\n",
        "initial  value 12.642082 \n",
        "iter  10 value 6.193970\n",
        "iter  20 value 6.184632\n",
        "iter  30 value 6.184379\n",
        "final  value 6.184378 \n",
        "converged\n",
        "# weights:  11\n",
        "initial  value 10.955348 \n",
        "iter  10 value 7.008606\n",
        "iter  20 value 7.008539\n",
        "iter  30 value 7.008471\n",
        "iter  40 value 7.008401\n",
        "iter  50 value 7.008330\n",
        "iter  60 value 7.008259\n",
        "iter  70 value 7.008186\n",
        "iter  80 value 7.008111\n",
        "iter  90 value 7.008035\n",
        "iter 100 value 7.007958\n",
        "final  value 7.007958 \n",
        "stopped after 100 iterations\n",
        "# weights:  31\n",
        "initial  value 13.086127 \n",
        "iter  10 value 6.998996\n",
        "iter  20 value 6.998086\n",
        "iter  30 value 6.996860\n",
        "iter  40 value 6.995117\n",
        "iter  50 value 6.992437\n",
        "iter  60 value 6.987806\n",
        "iter  70 value 6.978052\n",
        "iter  80 value 6.947004\n",
        "iter  90 value 6.519557\n",
        "iter 100 value 4.506551\n",
        "final  value 4.506551 \n",
        "stopped after 100 iterations\n",
        "# weights:  51\n",
        "initial  value 7.342172 \n",
        "iter  10 value 7.001387\n",
        "iter  20 value 7.001017\n",
        "iter  30 value 7.000570\n",
        "iter  40 value 7.000018\n",
        "iter  50 value 6.999314\n",
        "iter  60 value 6.998385\n",
        "iter  70 value 6.997095\n",
        "iter  80 value 6.995179\n",
        "iter  90 value 6.992036\n",
        "iter 100 value 6.985979\n",
        "final  value 6.985979 \n",
        "stopped after 100 iterations\n",
        "# weights:  11\n",
        "initial  value 8.893524 \n",
        "iter  10 value 4.997188\n",
        "iter  20 value 4.997097\n",
        "iter  30 value 4.997001\n",
        "iter  40 value 4.996898\n",
        "iter  50 value 4.996788\n",
        "iter  60 value 4.996670\n",
        "iter  70 value 4.996543\n",
        "iter  80 value 4.996407\n",
        "iter  90 value 4.996259\n",
        "iter 100 value 4.996100\n",
        "final  value 4.996100 \n",
        "stopped after 100 iterations\n",
        "# weights:  31\n",
        "initial  value 17.936721 \n",
        "final  value 5.000000 \n",
        "converged\n",
        "# weights:  51\n",
        "initial  value 6.133998 \n",
        "iter  10 value 4.999525\n",
        "iter  20 value 4.999516\n",
        "iter  30 value 4.999506\n",
        "iter  40 value 4.999496\n",
        "iter  50 value 4.999485\n",
        "iter  60 value 4.999474\n",
        "iter  70 value 4.999463\n",
        "iter  80 value 4.999451\n",
        "iter  90 value 4.999439\n",
        "iter 100 value 4.999426\n",
        "final  value 4.999426 \n",
        "stopped after 100 iterations\n",
        "# weights:  11\n",
        "initial  value 14.350507 \n",
        "iter  10 value 4.870926\n",
        "final  value 4.869503 \n",
        "converged\n",
        "# weights:  31\n",
        "initial  value 12.452700 \n",
        "iter  10 value 4.773509\n",
        "iter  20 value 4.771592\n",
        "final  value 4.771592 \n",
        "converged\n",
        "# weights:  51\n",
        "initial  value 7.744401 \n",
        "iter  10 value 4.722915\n",
        "final  value 4.722235 \n",
        "converged\n",
        "# weights:  11\n",
        "initial  value 17.077757 \n",
        "iter  10 value 4.991619\n",
        "iter  20 value 4.988949\n",
        "iter  30 value 4.985211\n",
        "iter  40 value 4.979598\n",
        "iter  50 value 4.970240\n",
        "iter  60 value 4.951684\n",
        "iter  70 value 4.900179\n",
        "iter  80 value 4.626554\n",
        "iter  90 value 4.086041\n",
        "iter 100 value 3.906687\n",
        "final  value 3.906687 \n",
        "stopped after 100 iterations\n",
        "# weights:  31\n",
        "initial  value 22.137904 \n",
        "iter  10 value 4.908607\n",
        "iter  20 value 4.411717\n",
        "iter  30 value 3.930598\n",
        "iter  40 value 3.919484\n",
        "iter  50 value 3.912386\n",
        "iter  60 value 3.908797\n",
        "iter  70 value 3.908248\n",
        "iter  80 value 3.907990\n",
        "iter  90 value 3.907230\n",
        "iter 100 value 3.906797\n",
        "final  value 3.906797 \n",
        "stopped after 100 iterations\n",
        "# weights:  51\n",
        "initial  value 8.982054 \n",
        "iter  10 value 4.998880\n",
        "iter  20 value 4.998160\n",
        "iter  30 value 4.997203\n",
        "iter  40 value 4.995867\n",
        "iter  50 value 4.993867\n",
        "iter  60 value 4.990548\n",
        "iter  70 value 4.984029\n",
        "iter  80 value 4.966237\n",
        "iter  90 value 4.842527\n",
        "iter 100 value 4.058323\n",
        "final  value 4.058323 \n",
        "stopped after 100 iterations\n",
        "# weights:  11\n",
        "initial  value 8.994385 \n",
        "iter  10 value 6.997719\n",
        "iter  20 value 6.997601\n",
        "iter  30 value 6.997471\n",
        "iter  40 value 6.997325\n",
        "iter  50 value 6.997163\n",
        "iter  60 value 6.996980\n",
        "iter  70 value 6.996772\n",
        "iter  80 value 6.996535\n",
        "iter  90 value 6.996261\n",
        "iter 100 value 6.995942\n",
        "final  value 6.995942 \n",
        "stopped after 100 iterations\n",
        "# weights:  31\n",
        "initial  value 20.877544 \n",
        "final  value 7.000000 \n",
        "converged\n",
        "# weights:  51\n",
        "initial  value 18.251895 \n",
        "final  value 7.000000 \n",
        "converged\n",
        "# weights:  11\n",
        "initial  value 25.760391 \n",
        "iter  10 value 6.363395\n",
        "final  value 6.353131 \n",
        "converged\n",
        "# weights:  31\n",
        "initial  value 13.660612 \n",
        "iter  10 value 6.283886\n",
        "iter  20 value 6.271493\n",
        "final  value 6.271477 \n",
        "converged\n",
        "# weights:  51\n",
        "initial  value 16.050385 \n",
        "iter  10 value 6.249999\n",
        "iter  20 value 6.239089\n",
        "final  value 6.239018 \n",
        "converged\n",
        "# weights:  11\n",
        "initial  value 11.294569 \n",
        "iter  10 value 7.008551\n",
        "iter  20 value 7.008489\n",
        "iter  30 value 7.008427\n",
        "iter  40 value 7.008364\n",
        "iter  50 value 7.008300\n",
        "iter  60 value 7.008235\n",
        "iter  70 value 7.008170\n",
        "iter  80 value 7.008104\n",
        "iter  90 value 7.008037\n",
        "iter 100 value 7.007968\n",
        "final  value 7.007968 \n",
        "stopped after 100 iterations\n",
        "# weights:  31\n",
        "initial  value 10.564469 \n",
        "iter  10 value 6.086679\n",
        "iter  20 value 5.125211\n",
        "iter  30 value 5.116156\n",
        "iter  40 value 5.106074\n",
        "iter  50 value 5.104425\n",
        "iter  60 value 5.103682\n",
        "iter  70 value 5.103319\n",
        "iter  80 value 5.103164\n",
        "iter  90 value 5.103124\n",
        "iter 100 value 5.103052\n",
        "final  value 5.103052 \n",
        "stopped after 100 iterations\n",
        "# weights:  51\n",
        "initial  value 11.567648 \n",
        "iter  10 value 7.004807\n",
        "iter  20 value 7.004763\n",
        "iter  30 value 7.004719\n",
        "iter  40 value 7.004674\n",
        "iter  50 value 7.004627\n",
        "iter  60 value 7.004580\n",
        "iter  70 value 7.004531\n",
        "iter  80 value 7.004481\n",
        "iter  90 value 7.004430\n",
        "iter 100 value 7.004377\n",
        "final  value 7.004377 \n",
        "stopped after 100 iterations\n",
        "# weights:  11\n",
        "initial  value 17.745229 \n",
        "final  value 7.000000 \n",
        "converged\n",
        "# weights:  31\n",
        "initial  value 27.255976 \n",
        "final  value 7.000000 \n",
        "converged\n",
        "# weights:  51\n",
        "initial  value 7.829178 \n",
        "iter  10 value 6.999873\n",
        "iter  20 value 6.999872\n",
        "iter  30 value 6.999871\n",
        "iter  40 value 6.999871\n",
        "iter  50 value 6.999870\n",
        "iter  60 value 6.999869\n",
        "iter  70 value 6.999868\n",
        "iter  80 value 6.999867\n",
        "iter  90 value 6.999867\n",
        "iter 100 value 6.999866\n",
        "final  value 6.999866 \n",
        "stopped after 100 iterations\n",
        "# weights:  11\n",
        "initial  value 16.305536 \n",
        "iter  10 value 6.246216\n",
        "final  value 6.214667 \n",
        "converged\n",
        "# weights:  31\n",
        "initial  value 21.012069 \n",
        "iter  10 value 6.207481\n",
        "iter  20 value 6.148654\n",
        "final  value 6.148532 \n",
        "converged\n",
        "# weights:  51\n",
        "initial  value 14.524318 \n",
        "iter  10 value 6.187450\n",
        "iter  20 value 6.145487\n",
        "iter  30 value 6.145297\n",
        "final  value 6.145291 \n",
        "converged\n",
        "# weights:  11\n",
        "initial  value 14.821245 \n",
        "iter  10 value 6.986710\n",
        "iter  20 value 6.979144\n",
        "iter  30 value 6.964012\n",
        "iter  40 value 6.921950\n",
        "iter  50 value 6.604091\n",
        "iter  60 value 5.077008\n",
        "iter  70 value 4.085006\n",
        "iter  80 value 4.057073\n",
        "iter  90 value 4.057032\n",
        "iter 100 value 4.056914\n",
        "final  value 4.056914 \n",
        "stopped after 100 iterations\n",
        "# weights:  31\n",
        "initial  value 16.496305 \n",
        "iter  10 value 6.988034\n",
        "iter  20 value 6.978545\n",
        "iter  30 value 6.946733\n",
        "iter  40 value 6.298307\n",
        "iter  50 value 4.105334\n",
        "iter  60 value 4.062246\n",
        "iter  70 value 4.060198\n",
        "iter  80 value 4.056404\n",
        "iter  90 value 4.056215\n",
        "iter 100 value 4.056021\n",
        "final  value 4.056021 \n",
        "stopped after 100 iterations\n",
        "# weights:  51\n",
        "initial  value 16.292015 \n",
        "iter  10 value 7.004158\n",
        "iter  20 value 7.004092\n",
        "iter  30 value 7.004023\n",
        "iter  40 value 7.003952\n",
        "iter  50 value 7.003877\n",
        "iter  60 value 7.003798\n",
        "iter  70 value 7.003714\n",
        "iter  80 value 7.003626\n",
        "iter  90 value 7.003533\n",
        "iter 100 value 7.003433\n",
        "final  value 7.003433 \n",
        "stopped after 100 iterations\n",
        "# weights:  11\n",
        "initial  value 13.198909 \n",
        "final  value 6.999966 \n",
        "converged\n",
        "# weights:  31\n",
        "initial  value 15.066457 \n",
        "final  value 7.000000 \n",
        "converged\n",
        "# weights:  51\n",
        "initial  value 8.135236 \n",
        "iter  10 value 6.999689\n",
        "iter  20 value 6.999685\n",
        "iter  30 value 6.999681\n",
        "iter  40 value 6.999677\n",
        "iter  50 value 6.999673\n",
        "iter  60 value 6.999669\n",
        "iter  70 value 6.999664\n",
        "iter  80 value 6.999660\n",
        "iter  90 value 6.999655\n",
        "iter 100 value 6.999650\n",
        "final  value 6.999650 \n",
        "stopped after 100 iterations\n",
        "# weights:  11\n",
        "initial  value 11.236554 \n",
        "iter  10 value 6.285577\n",
        "final  value 6.283343 \n",
        "converged\n",
        "# weights:  31\n",
        "initial  value 10.281890 \n",
        "iter  10 value 6.208128\n",
        "iter  20 value 6.206116\n",
        "final  value 6.206112 \n",
        "converged\n",
        "# weights:  51\n",
        "initial  value 12.583298 \n",
        "iter  10 value 6.186108\n",
        "iter  20 value 6.180127\n",
        "iter  30 value 6.180018\n",
        "final  value 6.180018 \n",
        "converged\n",
        "# weights:  11\n",
        "initial  value 16.486685 \n",
        "iter  10 value 5.787473\n",
        "iter  20 value 4.961948\n",
        "iter  30 value 4.939719\n",
        "iter  40 value 4.925720\n",
        "iter  50 value 4.921076\n",
        "iter  60 value 4.919906\n",
        "iter  70 value 4.919646\n",
        "iter  80 value 4.918189\n",
        "iter  90 value 4.917911\n",
        "iter 100 value 4.917819\n",
        "final  value 4.917819 \n",
        "stopped after 100 iterations\n",
        "# weights:  31\n",
        "initial  value 23.143967 \n",
        "iter  10 value 7.003616\n",
        "iter  20 value 7.003361\n",
        "iter  30 value 7.003076\n",
        "iter  40 value 7.002755\n",
        "iter  50 value 7.002391\n",
        "iter  60 value 7.001972\n",
        "iter  70 value 7.001485\n",
        "iter  80 value 7.000910\n",
        "iter  90 value 7.000220\n",
        "iter 100 value 6.999374\n",
        "final  value 6.999374 \n",
        "stopped after 100 iterations\n",
        "# weights:  51\n",
        "initial  value 14.131431 \n",
        "iter  10 value 7.002261\n",
        "iter  20 value 7.002105\n",
        "iter  30 value 7.001932\n",
        "iter  40 value 7.001737\n",
        "iter  50 value 7.001516\n",
        "iter  60 value 7.001262\n",
        "iter  70 value 7.000967\n",
        "iter  80 value 7.000617\n",
        "iter  90 value 7.000196\n",
        "iter 100 value 6.999676\n",
        "final  value 6.999676 \n",
        "stopped after 100 iterations\n",
        "# weights:  11\n",
        "initial  value 16.802538 \n",
        "final  value 7.999999 \n",
        "converged\n",
        "# weights:  31\n",
        "initial  value 9.725303 \n",
        "iter  10 value 7.999852\n",
        "iter  20 value 7.999851\n",
        "iter  30 value 7.999850\n",
        "iter  40 value 7.999849\n",
        "iter  50 value 7.999848\n",
        "iter  60 value 7.999847\n",
        "iter  70 value 7.999846\n",
        "iter  80 value 7.999845\n",
        "iter  90 value 7.999844\n",
        "iter 100 value 7.999843\n",
        "final  value 7.999843 \n",
        "stopped after 100 iterations\n",
        "# weights:  51\n",
        "initial  value 9.409114 \n",
        "final  value 7.999958 \n",
        "converged\n",
        "# weights:  11\n",
        "initial  value 15.578559 \n",
        "iter  10 value 6.068243\n",
        "final  value 6.000450 \n",
        "converged\n",
        "# weights:  31\n",
        "initial  value 13.121039 \n",
        "iter  10 value 6.212629\n",
        "iter  20 value 5.912302\n",
        "final  value 5.912201 \n",
        "converged\n",
        "# weights:  51\n",
        "initial  value 10.497421 \n",
        "iter  10 value 6.045483\n",
        "iter  20 value 5.920286\n",
        "iter  30 value 5.738367\n",
        "iter  40 value 5.731880\n",
        "final  value 5.731572 \n",
        "converged\n",
        "# weights:  11\n",
        "initial  value 11.393880 \n",
        "iter  10 value 8.007523\n",
        "iter  20 value 8.007453\n",
        "iter  30 value 8.007382\n",
        "iter  40 value 8.007310\n",
        "iter  50 value 8.007235\n",
        "iter  60 value 8.007158\n",
        "iter  70 value 8.007080\n",
        "iter  80 value 8.006999\n",
        "iter  90 value 8.006915\n",
        "iter 100 value 8.006829\n",
        "final  value 8.006829 \n",
        "stopped after 100 iterations\n",
        "# weights:  31\n",
        "initial  value 22.192156 \n",
        "iter  10 value 7.107534\n",
        "iter  20 value 3.287414\n",
        "iter  30 value 3.208704\n",
        "iter  40 value 3.193053\n",
        "iter  50 value 3.187582\n",
        "iter  60 value 3.181107\n",
        "iter  70 value 3.180873\n",
        "iter  80 value 3.180827\n",
        "iter  90 value 3.180764\n",
        "iter 100 value 3.180724\n",
        "final  value 3.180724 \n",
        "stopped after 100 iterations\n",
        "# weights:  51\n",
        "initial  value 30.470275 \n",
        "iter  10 value 8.004948\n",
        "iter  20 value 8.004879\n",
        "iter  30 value 8.004806\n",
        "iter  40 value 8.004730\n",
        "iter  50 value 8.004651\n",
        "iter  60 value 8.004567\n",
        "iter  70 value 8.004478\n",
        "iter  80 value 8.004384\n",
        "iter  90 value 8.004284\n",
        "iter 100 value 8.004176\n",
        "final  value 8.004176 \n",
        "stopped after 100 iterations\n",
        "# weights:  11\n",
        "initial  value 11.813650 \n",
        "final  value 4.999939 \n",
        "converged\n",
        "# weights:  31\n",
        "initial  value 28.453694 \n",
        "final  value 5.000000 \n",
        "converged\n",
        "# weights:  51\n",
        "initial  value 6.263991 \n",
        "iter  10 value 4.999879\n",
        "iter  20 value 4.999878\n",
        "iter  30 value 4.999878\n",
        "iter  40 value 4.999877\n",
        "iter  50 value 4.999876\n",
        "iter  60 value 4.999876\n",
        "iter  70 value 4.999875\n",
        "iter  80 value 4.999874\n",
        "iter  90 value 4.999874\n",
        "iter 100 value 4.999873\n",
        "final  value 4.999873 \n",
        "stopped after 100 iterations\n",
        "# weights:  11\n",
        "initial  value 19.377885 \n",
        "iter  10 value 4.796844\n",
        "final  value 4.796586 \n",
        "converged\n",
        "# weights:  31\n",
        "initial  value 12.740293 \n",
        "iter  10 value 4.706322\n",
        "iter  20 value 4.703720\n",
        "final  value 4.703719 \n",
        "converged\n",
        "# weights:  51\n",
        "initial  value 8.773290 \n",
        "iter  10 value 4.660740\n",
        "iter  20 value 4.659767\n",
        "final  value 4.659767 \n",
        "converged\n",
        "# weights:  11\n",
        "initial  value 9.362009 \n",
        "iter  10 value 5.007494\n",
        "iter  20 value 5.007452\n",
        "iter  30 value 5.007410\n",
        "iter  40 value 5.007368\n",
        "iter  50 value 5.007326\n",
        "iter  60 value 5.007284\n",
        "iter  70 value 5.007241\n",
        "iter  80 value 5.007199\n",
        "iter  90 value 5.007156\n",
        "iter 100 value 5.007112\n",
        "final  value 5.007112 \n",
        "stopped after 100 iterations\n",
        "# weights:  31\n",
        "initial  value 16.918922 \n",
        "iter  10 value 4.998888\n",
        "iter  20 value 4.997985\n",
        "iter  30 value 4.996783\n",
        "iter  40 value 4.995102\n",
        "iter  50 value 4.992587\n",
        "iter  60 value 4.988428\n",
        "iter  70 value 4.980372\n",
        "iter  80 value 4.959467\n",
        "iter  90 value 4.847961\n",
        "iter 100 value 4.022003\n",
        "final  value 4.022003 \n",
        "stopped after 100 iterations\n",
        "# weights:  51\n",
        "initial  value 16.631602 \n",
        "iter  10 value 5.005070\n",
        "iter  20 value 5.005029\n",
        "iter  30 value 5.004987\n",
        "iter  40 value 5.004944\n",
        "iter  50 value 5.004900\n",
        "iter  60 value 5.004856\n",
        "iter  70 value 5.004811\n",
        "iter  80 value 5.004764\n",
        "iter  90 value 5.004717\n",
        "iter 100 value 5.004668\n",
        "final  value 5.004668 \n",
        "stopped after 100 iterations\n",
        "# weights:  11\n",
        "initial  value 18.591129 \n",
        "final  value 8.999965 \n",
        "converged\n",
        "# weights:  31\n",
        "initial  value 13.791790 \n",
        "final  value 9.000000 \n",
        "converged\n",
        "# weights:  51\n",
        "initial  value 9.611425 \n",
        "final  value 8.999977 \n",
        "converged\n",
        "# weights:  11\n",
        "initial  value 11.703770 \n",
        "iter  10 value 7.696615\n",
        "final  value 7.696414 \n",
        "converged\n",
        "# weights:  31\n",
        "initial  value 8.952654 \n",
        "iter  10 value 7.633668\n",
        "iter  20 value 7.631491\n",
        "final  value 7.631490 \n",
        "converged\n",
        "# weights:  51\n",
        "initial  value 10.680464 \n",
        "iter  10 value 7.611229\n",
        "iter  20 value 7.609113\n",
        "final  value 7.609112 \n",
        "converged\n",
        "# weights:  11\n",
        "initial  value 10.808767 \n",
        "iter  10 value 8.993926\n",
        "iter  20 value 8.991775\n",
        "iter  30 value 8.988884\n",
        "iter  40 value 8.984777\n",
        "iter  50 value 8.978455\n",
        "iter  60 value 8.967429\n",
        "iter  70 value 8.943356\n",
        "iter  80 value 8.853570\n",
        "iter  90 value 7.575159\n",
        "iter 100 value 6.715215\n",
        "final  value 6.715215 \n",
        "stopped after 100 iterations\n",
        "# weights:  31\n",
        "initial  value 14.936637 \n",
        "iter  10 value 9.004841\n",
        "iter  20 value 9.004789\n",
        "iter  30 value 9.004734\n",
        "iter  40 value 9.004678\n",
        "iter  50 value 9.004621\n",
        "iter  60 value 9.004561\n",
        "iter  70 value 9.004500\n",
        "iter  80 value 9.004436\n",
        "iter  90 value 9.004369\n",
        "iter 100 value 9.004300\n",
        "final  value 9.004300 \n",
        "stopped after 100 iterations\n",
        "# weights:  51\n",
        "initial  value 16.523150 \n",
        "iter  10 value 9.004249\n",
        "iter  20 value 9.004193\n",
        "iter  30 value 9.004134\n",
        "iter  40 value 9.004074\n",
        "iter  50 value 9.004010\n",
        "iter  60 value 9.003945\n",
        "iter  70 value 9.003876\n",
        "iter  80 value 9.003803\n",
        "iter  90 value 9.003727\n",
        "iter 100 value 9.003647\n",
        "final  value 9.003647 \n",
        "stopped after 100 iterations\n",
        "# weights:  11\n",
        "initial  value 15.891145 \n",
        "final  value 10.999951 \n",
        "converged\n",
        "# weights:  31\n",
        "initial  value 13.080646 \n",
        "final  value 10.999995 \n",
        "converged\n",
        "# weights:  51\n",
        "initial  value 9.219027 \n",
        "iter  10 value 6.308620\n",
        "iter  20 value 6.232465\n",
        "iter  30 value 6.232144\n",
        "final  value 6.232143 \n",
        "converged\n",
        "# weights:  11\n",
        "initial  value 20.839197 \n",
        "iter  10 value 8.320368\n",
        "final  value 8.310985 \n",
        "converged\n",
        "# weights:  31\n",
        "initial  value 10.583249 \n",
        "iter  10 value 8.287341\n",
        "iter  20 value 8.283798\n",
        "iter  30 value 8.283767\n",
        "iter  40 value 8.282681\n",
        "iter  50 value 8.281399\n",
        "final  value 8.281348 \n",
        "converged\n",
        "# weights:  51\n",
        "initial  value 15.078775 \n",
        "iter  10 value 8.497957\n",
        "iter  20 value 8.237499\n",
        "iter  30 value 8.227747\n",
        "iter  40 value 8.204202\n",
        "iter  50 value 8.201482\n",
        "iter  60 value 8.199272\n",
        "final  value 8.199189 \n",
        "converged\n",
        "# weights:  11\n",
        "initial  value 15.341920 \n",
        "iter  10 value 11.001600\n",
        "iter  20 value 11.001102\n",
        "iter  30 value 11.000506\n",
        "iter  40 value 10.999777\n",
        "iter  50 value 10.998862\n",
        "iter  60 value 10.997669\n",
        "iter  70 value 10.996043\n",
        "iter  80 value 10.993677\n",
        "iter  90 value 10.989907\n",
        "iter 100 value 10.982972\n",
        "final  value 10.982972 \n",
        "stopped after 100 iterations\n",
        "# weights:  31\n",
        "initial  value 9.955797 \n",
        "iter  10 value 6.375691\n",
        "iter  20 value 6.241141\n",
        "iter  30 value 6.240277\n",
        "iter  40 value 6.239797\n",
        "iter  50 value 6.239760\n",
        "iter  60 value 6.239543\n",
        "iter  70 value 6.239436\n",
        "iter  80 value 6.239349\n",
        "iter  90 value 6.239320\n",
        "iter 100 value 6.239300\n",
        "final  value 6.239300 \n",
        "stopped after 100 iterations\n",
        "# weights:  51\n",
        "initial  value 19.896657 \n",
        "iter  10 value 11.002862\n",
        "iter  20 value 11.002701\n",
        "iter  30 value 11.002523\n",
        "iter  40 value 11.002323\n",
        "iter  50 value 11.002096\n",
        "iter  60 value 11.001835\n",
        "iter  70 value 11.001532\n",
        "iter  80 value 11.001174\n",
        "iter  90 value 11.000741\n",
        "iter 100 value 11.000207\n",
        "final  value 11.000207 \n",
        "stopped after 100 iterations\n",
        "# weights:  11\n",
        "initial  value 20.785450 \n",
        "final  value 5.000000 \n",
        "converged\n",
        "# weights:  31\n",
        "initial  value 10.350695 \n",
        "final  value 5.000000 \n",
        "converged\n",
        "# weights:  51\n",
        "initial  value 9.797825 \n",
        "final  value 5.000000 \n",
        "converged\n",
        "# weights:  11\n",
        "initial  value 17.048600 \n",
        "iter  10 value 4.895483\n",
        "final  value 4.891138 \n",
        "converged\n",
        "# weights:  31\n",
        "initial  value 19.052525 \n",
        "iter  10 value 4.789923\n",
        "iter  20 value 4.787095\n",
        "final  value 4.787092 \n",
        "converged\n",
        "# weights:  51\n",
        "initial  value 10.079322 \n",
        "iter  10 value 4.740833\n",
        "iter  20 value 4.739379\n",
        "final  value 4.739378 \n",
        "converged\n",
        "# weights:  11\n",
        "initial  value 19.108232 \n",
        "iter  10 value 5.005972\n",
        "iter  20 value 5.005901\n",
        "iter  30 value 5.005828\n",
        "iter  40 value 5.005753\n",
        "iter  50 value 5.005675\n",
        "iter  60 value 5.005595\n",
        "iter  70 value 5.005512\n",
        "iter  80 value 5.005425\n",
        "iter  90 value 5.005334\n",
        "iter 100 value 5.005240\n",
        "final  value 5.005240 \n",
        "stopped after 100 iterations\n",
        "# weights:  31\n",
        "initial  value 13.562621 \n",
        "iter  10 value 5.005376\n",
        "iter  20 value 5.005327\n",
        "iter  30 value 5.005276\n",
        "iter  40 value 5.005224\n",
        "iter  50 value 5.005170\n",
        "iter  60 value 5.005116\n",
        "iter  70 value 5.005060\n",
        "iter  80 value 5.005002\n",
        "iter  90 value 5.004943\n",
        "iter 100 value 5.004882\n",
        "final  value 5.004882 \n",
        "stopped after 100 iterations\n",
        "# weights:  51\n",
        "initial  value 13.339248 \n",
        "iter  10 value 5.001483\n",
        "iter  20 value 5.001282\n",
        "iter  30 value 5.001053\n",
        "iter  40 value 5.000787\n",
        "iter  50 value 5.000475\n",
        "iter  60 value 5.000102\n",
        "iter  70 value 4.999646\n",
        "iter  80 value 4.999075\n",
        "iter  90 value 4.998336\n",
        "iter 100 value 4.997340\n",
        "final  value 4.997340 \n",
        "stopped after 100 iterations\n",
        "# weights:  11\n",
        "initial  value 11.134067 \n",
        "iter  10 value 9.243710\n",
        "iter  20 value 7.285528\n",
        "iter  30 value 7.245812\n",
        "iter  40 value 7.231656\n",
        "iter  50 value 7.231393\n",
        "final  value 7.231393 \n",
        "converged\n",
        "# weights:  31\n",
        "initial  value 14.130867 \n",
        "final  value 12.000000 \n",
        "converged\n",
        "# weights:  51\n",
        "initial  value 14.415938 \n",
        "final  value 12.000000 \n",
        "converged\n",
        "# weights:  11\n",
        "initial  value 15.019432 \n",
        "iter  10 value 9.069689\n",
        "final  value 9.063171 \n",
        "converged\n",
        "# weights:  31\n",
        "initial  value 17.508841 \n",
        "iter  10 value 9.261632\n",
        "iter  20 value 9.055988\n",
        "iter  30 value 9.055626\n",
        "final  value 9.055625 \n",
        "converged\n",
        "# weights:  51\n",
        "initial  value 11.303518 \n",
        "iter  10 value 9.017983\n",
        "iter  20 value 9.011319\n",
        "iter  30 value 9.010274\n",
        "iter  40 value 9.009455\n",
        "final  value 9.009346 \n",
        "converged\n",
        "# weights:  11\n",
        "initial  value 18.239316 \n",
        "iter  10 value 12.007304\n",
        "iter  20 value 12.007242\n",
        "iter  30 value 12.007180\n",
        "iter  40 value 12.007116\n",
        "iter  50 value 12.007051\n",
        "iter  60 value 12.006985\n",
        "iter  70 value 12.006917\n",
        "iter  80 value 12.006848\n",
        "iter  90 value 12.006777\n",
        "iter 100 value 12.006705\n",
        "final  value 12.006705 \n",
        "stopped after 100 iterations\n",
        "# weights:  31\n",
        "initial  value 16.014808 \n",
        "iter  10 value 12.005794\n",
        "iter  20 value 12.005717\n",
        "iter  30 value 12.005637\n",
        "iter  40 value 12.005553\n",
        "iter  50 value 12.005466\n",
        "iter  60 value 12.005374\n",
        "iter  70 value 12.005278\n",
        "iter  80 value 12.005176\n",
        "iter  90 value 12.005068\n",
        "iter 100 value 12.004953\n",
        "final  value 12.004953 \n",
        "stopped after 100 iterations\n",
        "# weights:  51\n",
        "initial  value 13.391025 \n",
        "iter  10 value 9.413596\n",
        "iter  20 value 7.286503\n",
        "iter  30 value 7.242636\n",
        "iter  40 value 7.239833\n",
        "iter  50 value 7.238170\n",
        "iter  60 value 7.237712\n",
        "iter  70 value 7.237671\n",
        "iter  80 value 7.237563\n",
        "iter  90 value 7.237521\n",
        "iter 100 value 7.237438\n",
        "final  value 7.237438 \n",
        "stopped after 100 iterations\n",
        "# weights:  11\n",
        "initial  value 15.087301 \n",
        "final  value 7.999988 \n",
        "converged\n",
        "# weights:  31\n",
        "initial  value 14.180092 \n",
        "final  value 8.000000 \n",
        "converged\n",
        "# weights:  51\n",
        "initial  value 7.621209 \n",
        "iter  10 value 5.807104\n",
        "iter  20 value 5.756148\n",
        "iter  30 value 5.755560\n",
        "final  value 5.755556 \n",
        "converged\n",
        "# weights:  11\n",
        "initial  value 9.112559 \n",
        "iter  10 value 6.884039\n",
        "final  value 6.883875 \n",
        "converged\n",
        "# weights:  31\n",
        "initial  value 10.731645 \n",
        "iter  10 value 6.824275\n",
        "iter  20 value 6.820743\n",
        "final  value 6.820727 \n",
        "converged\n",
        "# weights:  51\n",
        "initial  value 18.479336 \n",
        "iter  10 value 6.806358\n",
        "iter  20 value 6.796743\n",
        "iter  30 value 6.796679\n",
        "final  value 6.796679 \n",
        "converged\n",
        "# weights:  11\n",
        "initial  value 11.006901 \n",
        "iter  10 value 8.003946\n",
        "iter  20 value 8.003643\n",
        "iter  30 value 8.003313\n",
        "iter  40 value 8.002951\n",
        "iter  50 value 8.002551\n",
        "iter  60 value 8.002107\n",
        "iter  70 value 8.001610\n",
        "iter  80 value 8.001047\n",
        "iter  90 value 8.000405\n",
        "iter 100 value 7.999663\n",
        "final  value 7.999663 \n",
        "stopped after 100 iterations\n",
        "# weights:  31\n",
        "initial  value 8.823275 \n",
        "iter  10 value 8.001656\n",
        "iter  20 value 8.001172\n",
        "iter  30 value 8.000591\n",
        "iter  40 value 7.999875\n",
        "iter  50 value 7.998973\n",
        "iter  60 value 7.997794\n",
        "iter  70 value 7.996188\n",
        "iter  80 value 7.993872\n",
        "iter  90 value 7.990248\n",
        "iter 100 value 7.983840\n",
        "final  value 7.983840 \n",
        "stopped after 100 iterations\n",
        "# weights:  51\n",
        "initial  value 11.581945 \n",
        "iter  10 value 8.001224\n",
        "iter  20 value 8.000881\n",
        "iter  30 value 8.000470\n",
        "iter  40 value 7.999967\n",
        "iter  50 value 7.999334\n",
        "iter  60 value 7.998511\n",
        "iter  70 value 7.997393\n",
        "iter  80 value 7.995779\n",
        "iter  90 value 7.993242\n",
        "iter 100 value 7.988684\n",
        "final  value 7.988684 \n",
        "stopped after 100 iterations\n",
        "Error in train.default(x = trainEight, y = apply(testEight, 2, factor),  : \n",
        "  final tuning parameters could not be determined\n",
        "In addition: There were 50 or more warnings (use warnings() to see the first 50)\n",
        "Error in train.default(x = trainEight, y = apply(testEight, 2, factor),  : \n",
        "  final tuning parameters could not be determined\n"
       ]
      }
     ],
     "prompt_number": 86
    },
    {
     "cell_type": "code",
     "collapsed": false,
     "input": [
      "%%R\n",
      "nnetFit <- train(x = trainDescr, y = trainClass,\n",
      "                 method = \"nnet\", trace=FALSE,\n",
      "                 tuneLength = 5)\n",
      "plot(nnetFit)"
     ],
     "language": "python",
     "metadata": {
      "slideshow": {
       "slide_type": "fragment"
      }
     },
     "outputs": [
      {
       "metadata": {},
       "output_type": "display_data",
       "png": "[encoded data removed]"
      }
     ],
     "prompt_number": 143
    },
    {
     "cell_type": "code",
     "collapsed": false,
     "input": [
      "%%R\n",
      "plot(nnetFit, plotType=\"level\")"
     ],
     "language": "python",
     "metadata": {
      "slideshow": {
       "slide_type": "subslide"
      }
     },
     "outputs": [
      {
       "metadata": {},
       "output_type": "display_data",
       "png": "[encoded data removed]"
      }
     ],
     "prompt_number": 147
    },
    {
     "cell_type": "heading",
     "level": 1,
     "metadata": {
      "slideshow": {
       "slide_type": "slide"
      }
     },
     "source": [
      "Questions"
     ]
    },
    {
     "cell_type": "markdown",
     "metadata": {
      "slideshow": {
       "slide_type": "slide"
      }
     },
     "source": [
      "Lab\n",
      "========================================================\n",
      "http://caret.r-forge.r-project.org/modelList.html"
     ]
    },
    {
     "cell_type": "code",
     "collapsed": false,
     "input": [
      "%%R\n",
      "#install.packages(\"caret\", dependencies = c(\"Depends\", \"Suggests\"))\n",
      "library(caret)\n",
      "data(iris)\n",
      "\n",
      "irisTrain <- createDataPartition(y = iris$Species, p = 3/4, list = FALSE)\n",
      "\n",
      "trainX <- iris[irisTrain,1:4]\n",
      "testX <- iris[-irisTrain,1:4]\n",
      "\n",
      "trainY <- iris$Species[irisTrain]\n",
      "print(length(trainY))\n",
      "testY <- iris$Species[-irisTrain]\n",
      "print(length(testY))"
     ],
     "language": "python",
     "metadata": {
      "slideshow": {
       "slide_type": "-"
      }
     },
     "outputs": [
      {
       "metadata": {},
       "output_type": "display_data",
       "text": [
        "[1] 114\n",
        "[1] 36\n"
       ]
      }
     ],
     "prompt_number": 123
    },
    {
     "cell_type": "code",
     "collapsed": false,
     "input": [
      "%%R\n",
      "irisKN <- train(x = trainX, y = trainY, method='knn')\n",
      "irisNB <- train(x = trainX, y = trainY, method='nb')\n",
      "irisNN <- train(x = trainX, y = trainY, method='nnet', trace=FALSE)"
     ],
     "language": "python",
     "metadata": {
      "slideshow": {
       "slide_type": "subslide"
      }
     },
     "outputs": [],
     "prompt_number": 135
    },
    {
     "cell_type": "code",
     "collapsed": false,
     "input": [
      "%%R\n",
      "irisProbValues <- extractProb(list(irisKN, irisNB, irisNN),\n",
      "                          testX = testX,\n",
      "                          testY = testY)\n",
      "irisTestProbs <- subset(irisProbValues, dataType == \"Test\")\n",
      "str(irisTestProbs)"
     ],
     "language": "python",
     "metadata": {
      "slideshow": {
       "slide_type": "subslide"
      }
     },
     "outputs": [
      {
       "metadata": {},
       "output_type": "display_data",
       "text": [
        "'data.frame':\t108 obs. of  8 variables:\n",
        " $ setosa    : num  1 1 1 1 1 1 1 1 1 1 ...\n",
        " $ versicolor: num  0 0 0 0 0 0 0 0 0 0 ...\n",
        " $ virginica : num  0 0 0 0 0 0 0 0 0 0 ...\n",
        " $ obs       : Factor w/ 3 levels \"setosa\",\"versicolor\",..: 1 1 1 1 1 1 1 1 1 1 ...\n",
        " $ pred      : Factor w/ 3 levels \"setosa\",\"versicolor\",..: 1 1 1 1 1 1 1 1 1 1 ...\n",
        " $ model     : chr  \"knn\" \"knn\" \"knn\" \"knn\" ...\n",
        " $ dataType  : chr  \"Test\" \"Test\" \"Test\" \"Test\" ...\n",
        " $ object    : chr  \"Object1\" \"Object1\" \"Object1\" \"Object1\" ...\n"
       ]
      }
     ],
     "prompt_number": 136
    },
    {
     "cell_type": "code",
     "collapsed": false,
     "input": [
      "%%R\n",
      "irisKNNPred <- subset(irisTestProbs, model == \"knn\")\n",
      "confusionMatrix(irisKNNPred$pred, irisKNNPred$obs)"
     ],
     "language": "python",
     "metadata": {
      "slideshow": {
       "slide_type": "subslide"
      }
     },
     "outputs": [
      {
       "metadata": {},
       "output_type": "display_data",
       "text": [
        "Confusion Matrix and Statistics\n",
        "\n",
        "            Reference\n",
        "Prediction   setosa versicolor virginica\n",
        "  setosa         12          0         0\n",
        "  versicolor      0          9         0\n",
        "  virginica       0          3        12\n",
        "\n",
        "Overall Statistics\n",
        "                                          \n",
        "               Accuracy : 0.9167          \n",
        "                 95% CI : (0.7753, 0.9825)\n",
        "    No Information Rate : 0.3333          \n",
        "    P-Value [Acc > NIR] : 3.978e-13       \n",
        "                                          \n",
        "                  Kappa : 0.875           \n",
        " Mcnemar's Test P-Value : NA              \n",
        "\n",
        "Statistics by Class:\n",
        "\n",
        "                     Class: setosa Class: versicolor Class: virginica\n",
        "Sensitivity                 1.0000            0.7500           1.0000\n",
        "Specificity                 1.0000            1.0000           0.8750\n",
        "Pos Pred Value              1.0000            1.0000           0.8000\n",
        "Neg Pred Value              1.0000            0.8889           1.0000\n",
        "Prevalence                  0.3333            0.3333           0.3333\n",
        "Detection Rate              0.3333            0.2500           0.3333\n",
        "Detection Prevalence        0.3333            0.2500           0.4167\n",
        "Balanced Accuracy           1.0000            0.8750           0.9375\n"
       ]
      }
     ],
     "prompt_number": 140
    },
    {
     "cell_type": "code",
     "collapsed": false,
     "input": [
      "%%R\n",
      "irisNaiveBayesPred <- subset(irisTestProbs, model == \"nb\")\n",
      "confusionMatrix(irisNaiveBayesPred$pred, irisNaiveBayesPred$obs)"
     ],
     "language": "python",
     "metadata": {
      "slideshow": {
       "slide_type": "subslide"
      }
     },
     "outputs": [
      {
       "metadata": {},
       "output_type": "display_data",
       "text": [
        "Confusion Matrix and Statistics\n",
        "\n",
        "            Reference\n",
        "Prediction   setosa versicolor virginica\n",
        "  setosa         12          0         0\n",
        "  versicolor      0          9         0\n",
        "  virginica       0          3        12\n",
        "\n",
        "Overall Statistics\n",
        "                                          \n",
        "               Accuracy : 0.9167          \n",
        "                 95% CI : (0.7753, 0.9825)\n",
        "    No Information Rate : 0.3333          \n",
        "    P-Value [Acc > NIR] : 3.978e-13       \n",
        "                                          \n",
        "                  Kappa : 0.875           \n",
        " Mcnemar's Test P-Value : NA              \n",
        "\n",
        "Statistics by Class:\n",
        "\n",
        "                     Class: setosa Class: versicolor Class: virginica\n",
        "Sensitivity                 1.0000            0.7500           1.0000\n",
        "Specificity                 1.0000            1.0000           0.8750\n",
        "Pos Pred Value              1.0000            1.0000           0.8000\n",
        "Neg Pred Value              1.0000            0.8889           1.0000\n",
        "Prevalence                  0.3333            0.3333           0.3333\n",
        "Detection Rate              0.3333            0.2500           0.3333\n",
        "Detection Prevalence        0.3333            0.2500           0.4167\n",
        "Balanced Accuracy           1.0000            0.8750           0.9375\n"
       ]
      }
     ],
     "prompt_number": 141
    },
    {
     "cell_type": "code",
     "collapsed": false,
     "input": [
      "%%R\n",
      "irisNNetPred <- subset(irisTestProbs, model == \"nnet\")\n",
      "confusionMatrix(irisNNetPred$pred, irisNNetPred$obs)"
     ],
     "language": "python",
     "metadata": {
      "slideshow": {
       "slide_type": "subslide"
      }
     },
     "outputs": [
      {
       "metadata": {},
       "output_type": "display_data",
       "text": [
        "Confusion Matrix and Statistics\n",
        "\n",
        "            Reference\n",
        "Prediction   setosa versicolor virginica\n",
        "  setosa         12          0         0\n",
        "  versicolor      0         10         0\n",
        "  virginica       0          2        12\n",
        "\n",
        "Overall Statistics\n",
        "                                          \n",
        "               Accuracy : 0.9444          \n",
        "                 95% CI : (0.8134, 0.9932)\n",
        "    No Information Rate : 0.3333          \n",
        "    P-Value [Acc > NIR] : 1.728e-14       \n",
        "                                          \n",
        "                  Kappa : 0.9167          \n",
        " Mcnemar's Test P-Value : NA              \n",
        "\n",
        "Statistics by Class:\n",
        "\n",
        "                     Class: setosa Class: versicolor Class: virginica\n",
        "Sensitivity                 1.0000            0.8333           1.0000\n",
        "Specificity                 1.0000            1.0000           0.9167\n",
        "Pos Pred Value              1.0000            1.0000           0.8571\n",
        "Neg Pred Value              1.0000            0.9231           1.0000\n",
        "Prevalence                  0.3333            0.3333           0.3333\n",
        "Detection Rate              0.3333            0.2778           0.3333\n",
        "Detection Prevalence        0.3333            0.2778           0.3889\n",
        "Balanced Accuracy           1.0000            0.9167           0.9583\n"
       ]
      }
     ],
     "prompt_number": 138
    },
    {
     "cell_type": "heading",
     "level": 1,
     "metadata": {
      "slideshow": {
       "slide_type": "slide"
      }
     },
     "source": [
      "Discussion"
     ]
    }
   ],
   "metadata": {}
  }
 ]
}