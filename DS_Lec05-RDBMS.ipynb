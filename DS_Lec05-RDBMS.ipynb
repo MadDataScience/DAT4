{
 "metadata": {
  "celltoolbar": "Slideshow",
  "name": ""
 },
 "nbformat": 3,
 "nbformat_minor": 0,
 "worksheets": [
  {
   "cells": [
    {
     "cell_type": "markdown",
     "metadata": {
      "slideshow": {
       "slide_type": "slide"
      }
     },
     "source": [
      "Data Science\n",
      "====\n",
      "### Structured Data: Relational Databases and Data Frames\n",
      "\n",
      "Alessandro Gagliardi  \n",
      "Sr. Data Scientist, [Glassdoor.com](Glassdoor.com)"
     ]
    },
    {
     "cell_type": "markdown",
     "metadata": {
      "slideshow": {
       "slide_type": "slide"
      }
     },
     "source": [
      "### Last Time:\n",
      "\n",
      "1. APIs & JSON Lecture\n",
      "2. NoSQL Databases\n",
      "3. Lab: Twitter & MongoDB\n",
      "\n",
      "#### Questions? (besides \"what is the CAP theorem?\")"
     ]
    },
    {
     "cell_type": "markdown",
     "metadata": {
      "slideshow": {
       "slide_type": "slide"
      }
     },
     "source": [
      "### Agenda\n",
      "\n",
      "1. Project Discussion\n",
      "2. Readiness Assessment\n",
      "1. Relational Databases\n",
      "2. Data Frames\n",
      "3. Lab: SQLite and Pandas"
     ]
    },
    {
     "cell_type": "markdown",
     "metadata": {
      "slideshow": {
       "slide_type": "slide"
      }
     },
     "source": [
      "# Projects!"
     ]
    },
    {
     "cell_type": "markdown",
     "metadata": {
      "slideshow": {
       "slide_type": "fragment"
      }
     },
     "source": [
      "## \u00a1\u00a1\u00a1Data (and 1 visualization) are due on Monday!!!"
     ]
    },
    {
     "cell_type": "markdown",
     "metadata": {
      "slideshow": {
       "slide_type": "slide"
      }
     },
     "source": [
      "## Readiness Assement:\n",
      "\n",
      "# Q: What is the CAP theorem? (And why does it matter?)"
     ]
    },
    {
     "cell_type": "heading",
     "level": 1,
     "metadata": {
      "slideshow": {
       "slide_type": "slide"
      }
     },
     "source": [
      "Relational Databases"
     ]
    },
    {
     "cell_type": "markdown",
     "metadata": {
      "slideshow": {
       "slide_type": "subslide"
      }
     },
     "source": [
      "> Those who cannot remember the past are condemned to repeat it.\n",
      "\n",
      "_The Life of Reason_, by George Santayana"
     ]
    },
    {
     "cell_type": "markdown",
     "metadata": {
      "slideshow": {
       "slide_type": "slide"
      }
     },
     "source": [
      "DB Evolution\n",
      "------------\n",
      "\n",
      "* 1960s\n",
      "    - Hierarchical data structure (IBM IMS)\n",
      "    - Network data structure (CODASYL)\n",
      "* 1970s\n",
      "    - Relational data model\n",
      "        * A Relational Model of Data for Large Shared Data Banks \u2013 E. F. Codd [1970]\n",
      "    - System R (IBM), Ingres (Berkeley)"
     ]
    },
    {
     "cell_type": "markdown",
     "metadata": {
      "slideshow": {
       "slide_type": "subslide"
      }
     },
     "source": [
      "DB Evolution\n",
      "------------\n",
      "\n",
      "* 1980s\n",
      "    - Commercialization of RDBMS (relational database management systems)\n",
      "        * Oracle, Sybase, IBM DB2, Informix\n",
      "    - SQL (Structured Query Language)\n",
      "    - ACID (**A**tomic, **C**onsistent, **I**solated, **D**urable)\n",
      "* 1990s\n",
      "    - PC RDBMS\n",
      "        * Paradox, Microsoft SQL Server & Access\n",
      "    - Larger DBs, driven by internet\n",
      "    - Consolidation among commercial DB vendors"
     ]
    },
    {
     "cell_type": "markdown",
     "metadata": {
      "slideshow": {
       "slide_type": "subslide"
      }
     },
     "source": [
      "DB Evolution\n",
      "------------\n",
      "\n",
      "* 2000s\n",
      "    - Commercialization of Open Source RDBMS\n",
      "        * MySQL, Postgres\n",
      "    - Evolving requirements expose RDBMS limitations\n",
      "        * Storing complex and dynamic objects\n",
      "        * Processing increasing data volumes\n",
      "        * Analyzing massive amounts of data"
     ]
    },
    {
     "cell_type": "heading",
     "level": 1,
     "metadata": {
      "slideshow": {
       "slide_type": "slide"
      }
     },
     "source": [
      "Normalization"
     ]
    },
    {
     "cell_type": "markdown",
     "metadata": {
      "slideshow": {
       "slide_type": "slide"
      }
     },
     "source": [
      "The objectives of normalization were stated as follows by Codd:\n",
      "\n",
      "> 1. To free the collection of relations from undesirable insertion, update and deletion dependencies;\n",
      "> 2. To reduce the need for restructuring the collection of relations, as new types of data are introduced, and thus increase the life span of application programs;\n",
      "> 3. To make the relational model more informative to users;\n",
      "> 4. To make the collection of relations neutral to the query statistics, where these statistics are liable to change as time goes by.  \n",
      "\n",
      "Codd, E.F. \"Further Normalization of the Data Base Relational Model\", p. 34"
     ]
    },
    {
     "cell_type": "markdown",
     "metadata": {
      "slideshow": {
       "slide_type": "slide"
      }
     },
     "source": [
      "First normal form (1NF) \n",
      "---\n",
      "A relation is in *first normal form* if the domain of each attribute contains only **atomic** values, and the value of each attribute contains only a **single value** from that domain."
     ]
    },
    {
     "cell_type": "heading",
     "level": 3,
     "metadata": {
      "slideshow": {
       "slide_type": "skip"
      }
     },
     "source": [
      "What?"
     ]
    },
    {
     "cell_type": "markdown",
     "metadata": {
      "slideshow": {
       "slide_type": "subslide"
      }
     },
     "source": [
      "##### The following scenario illustrates how a database design might violate first normal form.\n",
      "\n",
      "###### Taken from [http://en.wikipedia.org/wiki/First_normal_form](http://en.wikipedia.org/wiki/First_normal_form)"
     ]
    },
    {
     "cell_type": "markdown",
     "metadata": {
      "slideshow": {
       "slide_type": "fragment"
      }
     },
     "source": [
      "Suppose a designer wishes to record the names and telephone numbers of customers. He defines a customer table which looks like this:\n",
      "\n",
      "\n",
      "### Customer \n",
      "\n",
      "| Customer ID | First Name | Surname   | Telephone Number |\n",
      "| -----------:| ---------- | --------- | ---------------- |\n",
      "|         123 | Robert     | Ingram    | 555-861-2025     |\n",
      "|         456 | Jane       | Wright    | 555-403-1659     |\n",
      "|         789 | Maria      | Fernandez | 555-808-9633     |"
     ]
    },
    {
     "cell_type": "markdown",
     "metadata": {
      "slideshow": {
       "slide_type": "subslide"
      }
     },
     "source": [
      "The designer then becomes aware of a requirement to record **multiple** telephone numbers for some customers. He reasons that the simplest way of doing this is to allow the \"Telephone Number\" field in any given record to contain more than one value:\n",
      "\n",
      "\n",
      "### Customer \n",
      "\n",
      "| Customer ID | First Name | Surname   | Telephone Number |\n",
      "| -----------:| ---------- | --------- | ---------------- |\n",
      "|         123 | Robert     | Ingram    | 555-861-2025     |\n",
      "|         456 | Jane       | Wright    | 555-403-1659     |\n",
      "|             |            |           | 555-776-4100 |\n",
      "|         789 | Maria      | Fernandez | 555-808-9633     |\n",
      "\n",
      "Assuming, however, that the Telephone Number column is defined on some telephone number-like domain, such as the domain of 12-character strings, the representation above is not in first normal form. It is in violation of first normal form as a single field has been allowed to contain multiple values. A typical _relational database management system_ will not allow fields in a table to contain multiple values in this way.\n"
     ]
    },
    {
     "cell_type": "markdown",
     "metadata": {
      "slideshow": {
       "slide_type": "subslide"
      }
     },
     "source": [
      "## A design that complies with 1NF:\n",
      "\n",
      "A design that is unambiguously in first normal form makes use of two tables: a Customer Name table and a Customer Telephone Number table.\n",
      "\n",
      "### Customer Name \n",
      "\n",
      "| Customer ID | First Name | Surname   |\n",
      "| -----------:| ---------- | --------- |\n",
      "|         123 | Robert     | Ingram    |\n",
      "|         456 | Jane       | Wright    |\n",
      "|         789 | Maria      | Fernandez |\n",
      "\n",
      "\n",
      "### Customer Telephone Number \n",
      "\n",
      "| Customer ID | Telephone Number |\n",
      "| ---:| --- |\n",
      "| 123 | 555-861-2025 |\n",
      "| 456 | 555-403-1659 |\n",
      "| 456 | 555-776-4100 |\n",
      "| 789 | 555-808-9633 |\n",
      "\n",
      "Repeating groups of telephone numbers do not occur in this design. Instead, each Customer-to-Telephone Number link appears on its own record. With Customer ID as key, a one-to-many relationship exists between the two tables. A record in the \"parent\" table, Customer Name, can have many telephone number records in the \"child\" table, Customer Telephone Number, but each telephone number belongs to one, and only one customer."
     ]
    },
    {
     "cell_type": "markdown",
     "metadata": {
      "slideshow": {
       "slide_type": "slide"
      }
     },
     "source": [
      "Second normal form (2NF)\n",
      "---\n",
      "A table is in 2NF *if and only if* it is in 1NF and every *non-prime attribute* of the table is dependent on *the whole of a candidate key*."
     ]
    },
    {
     "cell_type": "heading",
     "level": 3,
     "metadata": {
      "slideshow": {
       "slide_type": "skip"
      }
     },
     "source": [
      "What?"
     ]
    },
    {
     "cell_type": "markdown",
     "metadata": {
      "slideshow": {
       "slide_type": "subslide"
      }
     },
     "source": [
      "##### Consider a table describing employees' skills:\n",
      "\n",
      "###### Taken from [http://en.wikipedia.org/wiki/Second_normal_form](http://en.wikipedia.org/wiki/Second_normal_form)\n",
      "\n",
      "### Employees' Skills \n",
      "\n",
      "| Employee \t|Skill \t|Current Work Location|\n",
      "| - | - | - |\n",
      "| Brown \t|Light Cleaning \t|73 Industrial Way|\n",
      "| Brown \t|Typing \t|73 Industrial Way|\n",
      "| Harrison \t|Light Cleaning \t|73 Industrial Way|\n",
      "| Jones \t|Shorthand \t|114 Main Street|\n",
      "| Jones \t|Typing \t|114 Main Street|\n",
      "| Jones \t|Whittling \t|114 Main Street|\n",
      "\n",
      "Neither {Employee} nor {Skill} is a candidate key for the table. This is because a given Employee might need to appear more than once (he might have multiple Skills), and a given Skill might need to appear more than once (it might be possessed by multiple Employees). Only the composite key {Employee, Skill} qualifies as a candidate key for the table."
     ]
    },
    {
     "cell_type": "markdown",
     "metadata": {
      "slideshow": {
       "slide_type": "subslide"
      }
     },
     "source": [
      "The remaining attribute, Current Work Location, is dependent on only part of the candidate key, namely Employee. Therefore the table is not in 2NF. Note the redundancy in the way Current Work Locations are represented: we are told three times that Jones works at 114 Main Street, and twice that Brown works at 73 Industrial Way. This redundancy makes the table vulnerable to update anomalies: it is, for example, possible to update Jones' work location on his \"**Shorthand**\" and \"**Typing**\" records and not update his \"**Whittling**\" record. The resulting data would imply contradictory answers to the question \"What is Jones' current work location?\"\n",
      "\n",
      "### Employees' Skills \n",
      "\n",
      "| Employee \t|Skill \t|Current Work Location|\n",
      "| - | - | - |\n",
      "| Brown \t|Light Cleaning \t|73 Industrial Way|\n",
      "| Brown \t|Typing \t|73 Industrial Way|\n",
      "| Harrison \t|Light Cleaning \t|73 Industrial Way|\n",
      "| Jones \t|Shorthand \t|*414 Brannon Street* |\n",
      "| Jones \t|Typing \t|*414 Brannon Street* |\n",
      "| Jones \t|Whittling \t|114 Main Street|"
     ]
    },
    {
     "cell_type": "markdown",
     "metadata": {
      "slideshow": {
       "slide_type": "subslide"
      }
     },
     "source": [
      "A 2NF alternative to this design would represent the same information in two tables: an \"Employees\" table with candidate key {Employee}, and an \"Employees' Skills\" table with candidate key {Employee, Skill}:\n",
      "\n",
      "\n",
      "### Employees \n",
      "\n",
      "| Employee \t|Current Work Location\n",
      "| --- | ---\n",
      "| Brown \t|73 Industrial Way\n",
      "| Harrison \t|73 Industrial Way\n",
      "| Jones \t|114 Main Street\n",
      "\n",
      "\n",
      "### Employees' Skills\n",
      "\n",
      "|Employee \t|Skill\n",
      "| --- | ---\n",
      "|Brown \t|Light Cleaning\n",
      "|Brown \t|Typing\n",
      "|Harrison \t|Light Cleaning\n",
      "|Jones \t|Shorthand\n",
      "|Jones \t|Typing\n",
      "|Jones \t|Whittling\n",
      "\n",
      "Neither of these tables can suffer from update anomalies."
     ]
    },
    {
     "cell_type": "markdown",
     "metadata": {
      "slideshow": {
       "slide_type": "fragment"
      }
     },
     "source": [
      "Not all 2NF tables are free from update anomalies, however. This brings us to..."
     ]
    },
    {
     "cell_type": "markdown",
     "metadata": {
      "slideshow": {
       "slide_type": "slide"
      }
     },
     "source": [
      "Third normal form (3NF)\n",
      "---\n",
      "3NF was originally defined by E.F. Codd in 1971\n",
      "\n",
      "A table is in 3NF *if and only if* it is in 2NF and every *non-prime attribute* of the table is *non-transitively* (i.e. directly) dependent on *every superkey* of that table."
     ]
    },
    {
     "cell_type": "markdown",
     "metadata": {
      "slideshow": {
       "slide_type": "fragment"
      }
     },
     "source": [
      "Or...  \n",
      "*\"[Every] non-key [attribute] must provide a fact about the key, the whole key, and nothing but the key (so help me Codd).\"*\n"
     ]
    },
    {
     "cell_type": "markdown",
     "metadata": {
      "slideshow": {
       "slide_type": "fragment"
      }
     },
     "source": [
      "* Requiring existence of \"the key\" ensures that the table is in 1NF\n",
      "* Requiring that non-key attributes be dependent on \"the whole key\" ensures 2NF\n",
      "* Requiring that non-key attributes be dependent on \"nothing but the key\" ensures 3NF"
     ]
    },
    {
     "cell_type": "markdown",
     "metadata": {
      "slideshow": {
       "slide_type": "subslide"
      }
     },
     "source": [
      "##### An example of a 2NF table that fails to meet the requirements of 3NF is:\n",
      "\n",
      "###### Taken from [http://en.wikipedia.org/wiki/Third_normal_form](http://en.wikipedia.org/wiki/Third_normal_form)\n",
      "\n",
      "### Tournament Winners \n",
      "\n",
      "|Tournament \t|Year \t|Winner \t|Winner Date of Birth\n",
      "| --- | --- | --- | ---\n",
      "|Indiana Invitational \t|1998 \t|Al Fredrickson \t|21 July 1975\n",
      "|Cleveland Open \t|1999 \t|Bob Albertson \t|28 September 1968\n",
      "|Des Moines Masters \t|1999 \t|Al Fredrickson \t|21 July 1975\n",
      "|Indiana Invitational \t|1999 \t|Chip Masterson \t|14 March 1977\n",
      "\n",
      "Because each row in the table needs to tell us who won a particular Tournament in a particular Year, the composite key {Tournament, Year} is a minimal set of attributes guaranteed to uniquely identify a row. That is, {Tournament, Year} is a candidate key for the table.\n",
      "\n",
      "The breach of 3NF occurs because the non-prime attribute **Winner Date of Birth** is transitively dependent on the candidate key {Tournament, Year} via the non-prime attribute Winner. The fact that Winner Date of Birth is functionally dependent on Winner makes the table vulnerable to logical inconsistencies, as there is nothing to stop the same person from being shown with different dates of birth on different records."
     ]
    },
    {
     "cell_type": "markdown",
     "metadata": {
      "slideshow": {
       "slide_type": "subslide"
      }
     },
     "source": [
      "In order to express the same facts without violating 3NF, it is necessary to split the table into two:\n",
      "\n",
      "###Tournament Winners \n",
      "\n",
      "|Tournament \t|Year \t|Winner\n",
      "| --- | --- | ---\n",
      "|Indiana Invitational \t|1998 \t|Al Fredrickson\n",
      "|Cleveland Open \t|1999 \t|Bob Albertson\n",
      "|Des Moines Masters \t|1999 \t|Al Fredrickson\n",
      "|Indiana Invitational \t|1999 \t|Chip Masterson\n",
      "\n",
      "### Player Dates of Birth \n",
      "\n",
      "|Player \t|Date of Birth\n",
      "| --- | ---\n",
      "|Chip Masterson \t|14 March 1977\n",
      "|Al Fredrickson \t|21 July 1975\n",
      "|Bob Albertson \t|28 September 1968\n",
      "\n",
      "\n",
      "Update anomalies cannot occur in these tables, which are both in 3NF."
     ]
    },
    {
     "cell_type": "markdown",
     "metadata": {
      "slideshow": {
       "slide_type": "slide"
      }
     },
     "source": [
      "> I believe firmly that anything less than a fully normalized design is strongly contraindicated ... [Y]ou should \"denormalize\" only as a last resort. That is, you should back off from a fully normalized design only if all other strategies for improving performance have somehow failed to meet requirements.\n",
      "\n",
      "Date, C.J. Database in Depth: Relational Theory for Practitioners. O'Reilly (2005), p. 152"
     ]
    },
    {
     "cell_type": "heading",
     "level": 1,
     "metadata": {
      "slideshow": {
       "slide_type": "slide"
      }
     },
     "source": [
      "Example"
     ]
    },
    {
     "cell_type": "markdown",
     "metadata": {
      "slideshow": {
       "slide_type": "slide"
      }
     },
     "source": [
      "Enron\n",
      "=====\n",
      "\n",
      "<img src=\"http://upload.wikimedia.org/wikipedia/en/thumb/9/9a/Enron_Logo.svg/150px-Enron_Logo.svg.png\" />\n",
      "\n",
      "### Download the sample database at: [tinyurl.com/enron-db](https://github.com/eklypse/GA_DS_SF_2014_01/raw/master/enron.db)"
     ]
    },
    {
     "cell_type": "markdown",
     "metadata": {
      "slideshow": {
       "slide_type": "subslide"
      }
     },
     "source": [
      "`pip install ipython-sql`  \n",
      "**for sql magic**"
     ]
    },
    {
     "cell_type": "code",
     "collapsed": false,
     "input": [
      "%load_ext sql"
     ],
     "language": "python",
     "metadata": {
      "slideshow": {
       "slide_type": "subslide"
      }
     },
     "outputs": [],
     "prompt_number": 52
    },
    {
     "cell_type": "code",
     "collapsed": false,
     "input": [
      "%%bash\n",
      "sqlite3 enron.db .tables"
     ],
     "language": "python",
     "metadata": {
      "slideshow": {
       "slide_type": "slide"
      }
     },
     "outputs": [
      {
       "output_type": "stream",
       "stream": "stdout",
       "text": [
        "Employee          EmployeeWithVars  MessageBase       RecipientBase   \n",
        "EmployeeBase      Message           Recipient       \n"
       ]
      }
     ],
     "prompt_number": 243
    },
    {
     "cell_type": "markdown",
     "metadata": {
      "slideshow": {
       "slide_type": "fragment"
      }
     },
     "source": [
      "We only care about the `*Base` tables:\n",
      "\n",
      "- EmployeeBase\n",
      "- MessageBase\n",
      "- RecipientBase\n",
      "\n",
      "(The other tables are derived from those. We don't need them for this exercise.)"
     ]
    },
    {
     "cell_type": "code",
     "collapsed": false,
     "input": [
      "%%sql sqlite:///enron.db\n",
      "SELECT * FROM EmployeeBase LIMIT 5"
     ],
     "language": "python",
     "metadata": {
      "slideshow": {
       "slide_type": "slide"
      }
     },
     "outputs": [
      {
       "output_type": "stream",
       "stream": "stdout",
       "text": [
        "Done.\n"
       ]
      },
      {
       "html": [
        "<table>\n",
        "    <tr>\n",
        "        <th>eid</th>\n",
        "        <th>name</th>\n",
        "        <th>department</th>\n",
        "        <th>longdepartment</th>\n",
        "        <th>title</th>\n",
        "        <th>gender</th>\n",
        "        <th>seniority</th>\n",
        "    </tr>\n",
        "    <tr>\n",
        "        <td>1</td>\n",
        "        <td>John Arnold</td>\n",
        "        <td>Trading</td>\n",
        "        <td>ENA Gas Financial</td>\n",
        "        <td>VP Trading</td>\n",
        "        <td>Male</td>\n",
        "        <td>Senior</td>\n",
        "    </tr>\n",
        "    <tr>\n",
        "        <td>2</td>\n",
        "        <td>Harry Arora</td>\n",
        "        <td>Trading</td>\n",
        "        <td>ENA East Power</td>\n",
        "        <td>VP Trading</td>\n",
        "        <td>Male</td>\n",
        "        <td>Senior</td>\n",
        "    </tr>\n",
        "    <tr>\n",
        "        <td>3</td>\n",
        "        <td>Robert Badeer</td>\n",
        "        <td>Trading</td>\n",
        "        <td>ENA West Power</td>\n",
        "        <td>Mgr Trading</td>\n",
        "        <td>Male</td>\n",
        "        <td>Junior</td>\n",
        "    </tr>\n",
        "    <tr>\n",
        "        <td>4</td>\n",
        "        <td>Susan Bailey</td>\n",
        "        <td>Legal</td>\n",
        "        <td>ENA Legal</td>\n",
        "        <td>Specialist Legal</td>\n",
        "        <td>Female</td>\n",
        "        <td>Junior</td>\n",
        "    </tr>\n",
        "    <tr>\n",
        "        <td>5</td>\n",
        "        <td>Eric Bass</td>\n",
        "        <td>Trading</td>\n",
        "        <td>ENA Gas Texas</td>\n",
        "        <td>Trader</td>\n",
        "        <td>Male</td>\n",
        "        <td>Junior</td>\n",
        "    </tr>\n",
        "</table>"
       ],
       "metadata": {},
       "output_type": "pyout",
       "prompt_number": 68,
       "text": [
        "[(1, u'John Arnold', u'Trading', u'ENA Gas Financial', u'VP Trading', u'Male', u'Senior'),\n",
        " (2, u'Harry Arora', u'Trading', u'ENA East Power', u'VP Trading', u'Male', u'Senior'),\n",
        " (3, u'Robert Badeer', u'Trading', u'ENA West Power', u'Mgr Trading', u'Male', u'Junior'),\n",
        " (4, u'Susan Bailey', u'Legal', u'ENA Legal', u'Specialist Legal', u'Female', u'Junior'),\n",
        " (5, u'Eric Bass', u'Trading', u'ENA Gas Texas', u'Trader', u'Male', u'Junior')]"
       ]
      }
     ],
     "prompt_number": 68
    },
    {
     "cell_type": "code",
     "collapsed": false,
     "input": [
      "%%sql sqlite:///enron.db\n",
      "SELECT * FROM MessageBase LIMIT 5"
     ],
     "language": "python",
     "metadata": {
      "slideshow": {
       "slide_type": "subslide"
      }
     },
     "outputs": [
      {
       "output_type": "stream",
       "stream": "stdout",
       "text": [
        "Done.\n"
       ]
      },
      {
       "html": [
        "<table>\n",
        "    <tr>\n",
        "        <th>mid</th>\n",
        "        <th>filename</th>\n",
        "        <th>unix_time</th>\n",
        "        <th>subject</th>\n",
        "        <th>from_eid</th>\n",
        "    </tr>\n",
        "    <tr>\n",
        "        <td>1</td>\n",
        "        <td>taylor-m/sent/11</td>\n",
        "        <td>910930020</td>\n",
        "        <td>Cd$ CME letter</td>\n",
        "        <td>138</td>\n",
        "    </tr>\n",
        "    <tr>\n",
        "        <td>2</td>\n",
        "        <td>taylor-m/sent/17</td>\n",
        "        <td>911459940</td>\n",
        "        <td>Indemnification</td>\n",
        "        <td>138</td>\n",
        "    </tr>\n",
        "    <tr>\n",
        "        <td>3</td>\n",
        "        <td>taylor-m/sent/18</td>\n",
        "        <td>911463840</td>\n",
        "        <td>Re: Indemnification</td>\n",
        "        <td>138</td>\n",
        "    </tr>\n",
        "    <tr>\n",
        "        <td>4</td>\n",
        "        <td>taylor-m/sent/23</td>\n",
        "        <td>911874180</td>\n",
        "        <td>Re: Coral Energy, L.P.</td>\n",
        "        <td>138</td>\n",
        "    </tr>\n",
        "    <tr>\n",
        "        <td>5</td>\n",
        "        <td>taylor-m/sent/27</td>\n",
        "        <td>912396120</td>\n",
        "        <td>Bankruptcy Code revisions</td>\n",
        "        <td>138</td>\n",
        "    </tr>\n",
        "</table>"
       ],
       "metadata": {},
       "output_type": "pyout",
       "prompt_number": 67,
       "text": [
        "[(1, u'taylor-m/sent/11', 910930020, u'Cd$ CME letter', 138),\n",
        " (2, u'taylor-m/sent/17', 911459940, u'Indemnification', 138),\n",
        " (3, u'taylor-m/sent/18', 911463840, u'Re: Indemnification', 138),\n",
        " (4, u'taylor-m/sent/23', 911874180, u'Re: Coral Energy, L.P.', 138),\n",
        " (5, u'taylor-m/sent/27', 912396120, u'Bankruptcy Code revisions', 138)]"
       ]
      }
     ],
     "prompt_number": 67
    },
    {
     "cell_type": "markdown",
     "metadata": {
      "slideshow": {
       "slide_type": "fragment"
      }
     },
     "source": [
      "`from_eid` looks like a foreign key"
     ]
    },
    {
     "cell_type": "code",
     "collapsed": false,
     "input": [
      "%%sql sqlite:///enron.db\n",
      "SELECT unix_time, name, department, title, gender, seniority, subject, filename \n",
      "FROM EmployeeBase JOIN MessageBase ON eid = from_eid LIMIT 5"
     ],
     "language": "python",
     "metadata": {
      "slideshow": {
       "slide_type": "subslide"
      }
     },
     "outputs": [
      {
       "output_type": "stream",
       "stream": "stdout",
       "text": [
        "Done.\n"
       ]
      },
      {
       "html": [
        "<table>\n",
        "    <tr>\n",
        "        <th>unix_time</th>\n",
        "        <th>name</th>\n",
        "        <th>department</th>\n",
        "        <th>title</th>\n",
        "        <th>gender</th>\n",
        "        <th>seniority</th>\n",
        "        <th>subject</th>\n",
        "        <th>filename</th>\n",
        "    </tr>\n",
        "    <tr>\n",
        "        <td>910930020</td>\n",
        "        <td>Mark E. Taylor</td>\n",
        "        <td>Legal</td>\n",
        "        <td>VP &amp; Gen Cnsl</td>\n",
        "        <td>Male</td>\n",
        "        <td>Senior</td>\n",
        "        <td>Cd$ CME letter</td>\n",
        "        <td>taylor-m/sent/11</td>\n",
        "    </tr>\n",
        "    <tr>\n",
        "        <td>911459940</td>\n",
        "        <td>Mark E. Taylor</td>\n",
        "        <td>Legal</td>\n",
        "        <td>VP &amp; Gen Cnsl</td>\n",
        "        <td>Male</td>\n",
        "        <td>Senior</td>\n",
        "        <td>Indemnification</td>\n",
        "        <td>taylor-m/sent/17</td>\n",
        "    </tr>\n",
        "    <tr>\n",
        "        <td>911463840</td>\n",
        "        <td>Mark E. Taylor</td>\n",
        "        <td>Legal</td>\n",
        "        <td>VP &amp; Gen Cnsl</td>\n",
        "        <td>Male</td>\n",
        "        <td>Senior</td>\n",
        "        <td>Re: Indemnification</td>\n",
        "        <td>taylor-m/sent/18</td>\n",
        "    </tr>\n",
        "    <tr>\n",
        "        <td>911874180</td>\n",
        "        <td>Mark E. Taylor</td>\n",
        "        <td>Legal</td>\n",
        "        <td>VP &amp; Gen Cnsl</td>\n",
        "        <td>Male</td>\n",
        "        <td>Senior</td>\n",
        "        <td>Re: Coral Energy, L.P.</td>\n",
        "        <td>taylor-m/sent/23</td>\n",
        "    </tr>\n",
        "    <tr>\n",
        "        <td>912396120</td>\n",
        "        <td>Mark E. Taylor</td>\n",
        "        <td>Legal</td>\n",
        "        <td>VP &amp; Gen Cnsl</td>\n",
        "        <td>Male</td>\n",
        "        <td>Senior</td>\n",
        "        <td>Bankruptcy Code revisions</td>\n",
        "        <td>taylor-m/sent/27</td>\n",
        "    </tr>\n",
        "</table>"
       ],
       "metadata": {},
       "output_type": "pyout",
       "prompt_number": 247,
       "text": [
        "[(910930020, u'Mark E. Taylor', u'Legal', u'VP & Gen Cnsl', u'Male', u'Senior', u'Cd$ CME letter', u'taylor-m/sent/11'),\n",
        " (911459940, u'Mark E. Taylor', u'Legal', u'VP & Gen Cnsl', u'Male', u'Senior', u'Indemnification', u'taylor-m/sent/17'),\n",
        " (911463840, u'Mark E. Taylor', u'Legal', u'VP & Gen Cnsl', u'Male', u'Senior', u'Re: Indemnification', u'taylor-m/sent/18'),\n",
        " (911874180, u'Mark E. Taylor', u'Legal', u'VP & Gen Cnsl', u'Male', u'Senior', u'Re: Coral Energy, L.P.', u'taylor-m/sent/23'),\n",
        " (912396120, u'Mark E. Taylor', u'Legal', u'VP & Gen Cnsl', u'Male', u'Senior', u'Bankruptcy Code revisions', u'taylor-m/sent/27')]"
       ]
      }
     ],
     "prompt_number": 247
    },
    {
     "cell_type": "markdown",
     "metadata": {
      "slideshow": {
       "slide_type": "subslide"
      }
     },
     "source": [
      "Finally, `RecipientBase`:"
     ]
    },
    {
     "cell_type": "code",
     "collapsed": false,
     "input": [
      "%%sql sqlite:///enron.db\n",
      "SELECT * FROM RecipientBase LIMIT 9"
     ],
     "language": "python",
     "metadata": {
      "slideshow": {
       "slide_type": "-"
      }
     },
     "outputs": [
      {
       "output_type": "stream",
       "stream": "stdout",
       "text": [
        "Done.\n"
       ]
      },
      {
       "html": [
        "<table>\n",
        "    <tr>\n",
        "        <th>mid</th>\n",
        "        <th>rno</th>\n",
        "        <th>to_eid</th>\n",
        "    </tr>\n",
        "    <tr>\n",
        "        <td>1</td>\n",
        "        <td>1</td>\n",
        "        <td>59</td>\n",
        "    </tr>\n",
        "    <tr>\n",
        "        <td>2</td>\n",
        "        <td>1</td>\n",
        "        <td>15</td>\n",
        "    </tr>\n",
        "    <tr>\n",
        "        <td>3</td>\n",
        "        <td>1</td>\n",
        "        <td>15</td>\n",
        "    </tr>\n",
        "    <tr>\n",
        "        <td>4</td>\n",
        "        <td>1</td>\n",
        "        <td>109</td>\n",
        "    </tr>\n",
        "    <tr>\n",
        "        <td>4</td>\n",
        "        <td>2</td>\n",
        "        <td>49</td>\n",
        "    </tr>\n",
        "    <tr>\n",
        "        <td>4</td>\n",
        "        <td>3</td>\n",
        "        <td>120</td>\n",
        "    </tr>\n",
        "    <tr>\n",
        "        <td>4</td>\n",
        "        <td>4</td>\n",
        "        <td>59</td>\n",
        "    </tr>\n",
        "    <tr>\n",
        "        <td>5</td>\n",
        "        <td>1</td>\n",
        "        <td>45</td>\n",
        "    </tr>\n",
        "    <tr>\n",
        "        <td>5</td>\n",
        "        <td>2</td>\n",
        "        <td>53</td>\n",
        "    </tr>\n",
        "</table>"
       ],
       "metadata": {},
       "output_type": "pyout",
       "prompt_number": 64,
       "text": [
        "[(1, 1, 59),\n",
        " (2, 1, 15),\n",
        " (3, 1, 15),\n",
        " (4, 1, 109),\n",
        " (4, 2, 49),\n",
        " (4, 3, 120),\n",
        " (4, 4, 59),\n",
        " (5, 1, 45),\n",
        " (5, 2, 53)]"
       ]
      }
     ],
     "prompt_number": 64
    },
    {
     "cell_type": "markdown",
     "metadata": {
      "slideshow": {
       "slide_type": "fragment"
      }
     },
     "source": [
      "It looks like we can use this to determine how many recipients each message received  \n",
      "i.e. `MAX(rno)`"
     ]
    },
    {
     "cell_type": "code",
     "collapsed": false,
     "input": [
      "%%sql sqlite:///enron.db\n",
      "SELECT * FROM RecipientBase WHERE rno = 57"
     ],
     "language": "python",
     "metadata": {
      "slideshow": {
       "slide_type": "skip"
      }
     },
     "outputs": [
      {
       "output_type": "stream",
       "stream": "stdout",
       "text": [
        "Done.\n"
       ]
      },
      {
       "html": [
        "<table>\n",
        "    <tr>\n",
        "        <th>mid</th>\n",
        "        <th>rno</th>\n",
        "        <th>to_eid</th>\n",
        "    </tr>\n",
        "    <tr>\n",
        "        <td>12116</td>\n",
        "        <td>57</td>\n",
        "        <td>51</td>\n",
        "    </tr>\n",
        "    <tr>\n",
        "        <td>12151</td>\n",
        "        <td>57</td>\n",
        "        <td>51</td>\n",
        "    </tr>\n",
        "</table>"
       ],
       "metadata": {},
       "output_type": "pyout",
       "prompt_number": 80,
       "text": [
        "[(12116, 57, 51), (12151, 57, 51)]"
       ]
      }
     ],
     "prompt_number": 80
    },
    {
     "cell_type": "code",
     "collapsed": false,
     "input": [
      "%%sql sqlite:///enron.db\n",
      "SELECT * FROM MessageBase WHERE mid IN (12116, 12151)"
     ],
     "language": "python",
     "metadata": {
      "slideshow": {
       "slide_type": "skip"
      }
     },
     "outputs": [
      {
       "output_type": "stream",
       "stream": "stdout",
       "text": [
        "Done.\n"
       ]
      },
      {
       "html": [
        "<table>\n",
        "    <tr>\n",
        "        <th>mid</th>\n",
        "        <th>filename</th>\n",
        "        <th>unix_time</th>\n",
        "        <th>subject</th>\n",
        "        <th>from_eid</th>\n",
        "    </tr>\n",
        "    <tr>\n",
        "        <td>12116</td>\n",
        "        <td>baughman-d/all_documents/398</td>\n",
        "        <td>990510780</td>\n",
        "        <td></td>\n",
        "        <td>67</td>\n",
        "    </tr>\n",
        "    <tr>\n",
        "        <td>12151</td>\n",
        "        <td>baughman-d/ect_admin/22</td>\n",
        "        <td>990546780</td>\n",
        "        <td></td>\n",
        "        <td>67</td>\n",
        "    </tr>\n",
        "</table>"
       ],
       "metadata": {},
       "output_type": "pyout",
       "prompt_number": 81,
       "text": [
        "[(12116, u'baughman-d/all_documents/398', 990510780, u'', 67),\n",
        " (12151, u'baughman-d/ect_admin/22', 990546780, u'', 67)]"
       ]
      }
     ],
     "prompt_number": 81
    },
    {
     "cell_type": "code",
     "collapsed": false,
     "input": [
      "%%sql sqlite:///enron.db\n",
      "SELECT * FROM EmployeeBase WHERE eid=67"
     ],
     "language": "python",
     "metadata": {
      "slideshow": {
       "slide_type": "skip"
      }
     },
     "outputs": [
      {
       "output_type": "stream",
       "stream": "stdout",
       "text": [
        "Done.\n"
       ]
      },
      {
       "html": [
        "<table>\n",
        "    <tr>\n",
        "        <th>eid</th>\n",
        "        <th>name</th>\n",
        "        <th>department</th>\n",
        "        <th>longdepartment</th>\n",
        "        <th>title</th>\n",
        "        <th>gender</th>\n",
        "        <th>seniority</th>\n",
        "    </tr>\n",
        "    <tr>\n",
        "        <td>67</td>\n",
        "        <td>John J. Lavorato</td>\n",
        "        <td>Other</td>\n",
        "        <td>EWS</td>\n",
        "        <td>ENA President &amp; CEO</td>\n",
        "        <td>Male</td>\n",
        "        <td>Senior</td>\n",
        "    </tr>\n",
        "</table>"
       ],
       "metadata": {},
       "output_type": "pyout",
       "prompt_number": 82,
       "text": [
        "[(67, u'John J. Lavorato', u'Other', u'EWS', u'ENA President & CEO', u'Male', u'Senior')]"
       ]
      }
     ],
     "prompt_number": 82
    },
    {
     "cell_type": "markdown",
     "metadata": {
      "slideshow": {
       "slide_type": "subslide"
      }
     },
     "source": [
      "Who sent the email to the most recipients?"
     ]
    },
    {
     "cell_type": "code",
     "collapsed": false,
     "input": [
      "%%sql sqlite:///enron.db\n",
      "SELECT name, title, MAX(rno)\n",
      "FROM EmployeeBase \n",
      "JOIN MessageBase ON eid = from_eid \n",
      "JOIN RecipientBase USING(mid)"
     ],
     "language": "python",
     "metadata": {
      "slideshow": {
       "slide_type": "-"
      }
     },
     "outputs": [
      {
       "output_type": "stream",
       "stream": "stdout",
       "text": [
        "Done.\n"
       ]
      },
      {
       "html": [
        "<table>\n",
        "    <tr>\n",
        "        <th>name</th>\n",
        "        <th>title</th>\n",
        "        <th>MAX(rno)</th>\n",
        "    </tr>\n",
        "    <tr>\n",
        "        <td>John J. Lavorato</td>\n",
        "        <td>ENA President &amp; CEO</td>\n",
        "        <td>57</td>\n",
        "    </tr>\n",
        "</table>"
       ],
       "metadata": {},
       "output_type": "pyout",
       "prompt_number": 248,
       "text": [
        "[(u'John J. Lavorato', u'ENA President & CEO', 57)]"
       ]
      }
     ],
     "prompt_number": 248
    },
    {
     "cell_type": "markdown",
     "metadata": {
      "slideshow": {
       "slide_type": "subslide"
      }
     },
     "source": [
      "Who are the top five senders of mass emails?"
     ]
    },
    {
     "cell_type": "code",
     "collapsed": false,
     "input": [
      "%%sql sqlite:///enron.db\n",
      "SELECT name, title, MAX(rno) AS recipient_count\n",
      "FROM EmployeeBase \n",
      "JOIN MessageBase ON eid = from_eid \n",
      "JOIN RecipientBase USING(mid) \n",
      "GROUP BY name, title ORDER BY recipient_count DESC LIMIT 5"
     ],
     "language": "python",
     "metadata": {
      "slideshow": {
       "slide_type": "-"
      }
     },
     "outputs": [
      {
       "output_type": "stream",
       "stream": "stdout",
       "text": [
        "Done.\n"
       ]
      },
      {
       "html": [
        "<table>\n",
        "    <tr>\n",
        "        <th>name</th>\n",
        "        <th>title</th>\n",
        "        <th>recipient_count</th>\n",
        "    </tr>\n",
        "    <tr>\n",
        "        <td>John J. Lavorato</td>\n",
        "        <td>ENA President &amp; CEO</td>\n",
        "        <td>57</td>\n",
        "    </tr>\n",
        "    <tr>\n",
        "        <td>Kenneth Lay</td>\n",
        "        <td>President &amp; CEO</td>\n",
        "        <td>52</td>\n",
        "    </tr>\n",
        "    <tr>\n",
        "        <td>Sally Beck</td>\n",
        "        <td>VP</td>\n",
        "        <td>49</td>\n",
        "    </tr>\n",
        "    <tr>\n",
        "        <td>Monique Sanchez </td>\n",
        "        <td>Associate</td>\n",
        "        <td>24</td>\n",
        "    </tr>\n",
        "    <tr>\n",
        "        <td>Louise Kitchen</td>\n",
        "        <td>COO</td>\n",
        "        <td>21</td>\n",
        "    </tr>\n",
        "</table>"
       ],
       "metadata": {},
       "output_type": "pyout",
       "prompt_number": 84,
       "text": [
        "[(u'John J. Lavorato', u'ENA President & CEO', 57),\n",
        " (u'Kenneth Lay', u'President & CEO', 52),\n",
        " (u'Sally Beck', u'VP', 49),\n",
        " (u'Monique Sanchez ', u'Associate', 24),\n",
        " (u'Louise Kitchen', u'COO', 21)]"
       ]
      }
     ],
     "prompt_number": 84
    },
    {
     "cell_type": "heading",
     "level": 1,
     "metadata": {
      "slideshow": {
       "slide_type": "slide"
      }
     },
     "source": [
      "Pandas Data Frames"
     ]
    },
    {
     "cell_type": "code",
     "collapsed": false,
     "input": [
      "import sqlite3\n",
      "from pandas.io import sql\n",
      "conn = sqlite3.connect('enron.db')"
     ],
     "language": "python",
     "metadata": {
      "slideshow": {
       "slide_type": "subslide"
      }
     },
     "outputs": [],
     "prompt_number": 71
    },
    {
     "cell_type": "code",
     "collapsed": false,
     "input": [
      "sql.frame_query(\"\"\"SELECT mid, unix_time, subject, filename, from_eid \n",
      "                FROM MessageBase LIMIT 5\"\"\", conn, \"mid\")"
     ],
     "language": "python",
     "metadata": {
      "slideshow": {
       "slide_type": "slide"
      }
     },
     "outputs": [
      {
       "html": [
        "<div style=\"max-height:1000px;max-width:1500px;overflow:auto;\">\n",
        "<table border=\"1\" class=\"dataframe\">\n",
        "  <thead>\n",
        "    <tr style=\"text-align: right;\">\n",
        "      <th></th>\n",
        "      <th>unix_time</th>\n",
        "      <th>subject</th>\n",
        "      <th>filename</th>\n",
        "      <th>from_eid</th>\n",
        "    </tr>\n",
        "    <tr>\n",
        "      <th>mid</th>\n",
        "      <th></th>\n",
        "      <th></th>\n",
        "      <th></th>\n",
        "      <th></th>\n",
        "    </tr>\n",
        "  </thead>\n",
        "  <tbody>\n",
        "    <tr>\n",
        "      <th>1</th>\n",
        "      <td> 910930020</td>\n",
        "      <td>            Cd$ CME letter</td>\n",
        "      <td> taylor-m/sent/11</td>\n",
        "      <td> 138</td>\n",
        "    </tr>\n",
        "    <tr>\n",
        "      <th>2</th>\n",
        "      <td> 911459940</td>\n",
        "      <td>           Indemnification</td>\n",
        "      <td> taylor-m/sent/17</td>\n",
        "      <td> 138</td>\n",
        "    </tr>\n",
        "    <tr>\n",
        "      <th>3</th>\n",
        "      <td> 911463840</td>\n",
        "      <td>       Re: Indemnification</td>\n",
        "      <td> taylor-m/sent/18</td>\n",
        "      <td> 138</td>\n",
        "    </tr>\n",
        "    <tr>\n",
        "      <th>4</th>\n",
        "      <td> 911874180</td>\n",
        "      <td>    Re: Coral Energy, L.P.</td>\n",
        "      <td> taylor-m/sent/23</td>\n",
        "      <td> 138</td>\n",
        "    </tr>\n",
        "    <tr>\n",
        "      <th>5</th>\n",
        "      <td> 912396120</td>\n",
        "      <td> Bankruptcy Code revisions</td>\n",
        "      <td> taylor-m/sent/27</td>\n",
        "      <td> 138</td>\n",
        "    </tr>\n",
        "  </tbody>\n",
        "</table>\n",
        "<p>5 rows \u00d7 4 columns</p>\n",
        "</div>"
       ],
       "metadata": {},
       "output_type": "pyout",
       "prompt_number": 259,
       "text": [
        "     unix_time                    subject          filename  from_eid\n",
        "mid                                                                  \n",
        "1    910930020             Cd$ CME letter  taylor-m/sent/11       138\n",
        "2    911459940            Indemnification  taylor-m/sent/17       138\n",
        "3    911463840        Re: Indemnification  taylor-m/sent/18       138\n",
        "4    911874180     Re: Coral Energy, L.P.  taylor-m/sent/23       138\n",
        "5    912396120  Bankruptcy Code revisions  taylor-m/sent/27       138\n",
        "\n",
        "[5 rows x 4 columns]"
       ]
      }
     ],
     "prompt_number": 259
    },
    {
     "cell_type": "code",
     "collapsed": false,
     "input": [
      "MessageBase = sql.frame_query(\"\"\"SELECT mid, unix_time, subject, from_eid \n",
      "                FROM MessageBase\"\"\", conn, \"mid\")\n",
      "MessageBase.head()"
     ],
     "language": "python",
     "metadata": {
      "slideshow": {
       "slide_type": "fragment"
      }
     },
     "outputs": [
      {
       "html": [
        "<div style=\"max-height:1000px;max-width:1500px;overflow:auto;\">\n",
        "<table border=\"1\" class=\"dataframe\">\n",
        "  <thead>\n",
        "    <tr style=\"text-align: right;\">\n",
        "      <th></th>\n",
        "      <th>unix_time</th>\n",
        "      <th>subject</th>\n",
        "      <th>from_eid</th>\n",
        "    </tr>\n",
        "    <tr>\n",
        "      <th>mid</th>\n",
        "      <th></th>\n",
        "      <th></th>\n",
        "      <th></th>\n",
        "    </tr>\n",
        "  </thead>\n",
        "  <tbody>\n",
        "    <tr>\n",
        "      <th>1</th>\n",
        "      <td> 910930020</td>\n",
        "      <td>            Cd$ CME letter</td>\n",
        "      <td> 138</td>\n",
        "    </tr>\n",
        "    <tr>\n",
        "      <th>2</th>\n",
        "      <td> 911459940</td>\n",
        "      <td>           Indemnification</td>\n",
        "      <td> 138</td>\n",
        "    </tr>\n",
        "    <tr>\n",
        "      <th>3</th>\n",
        "      <td> 911463840</td>\n",
        "      <td>       Re: Indemnification</td>\n",
        "      <td> 138</td>\n",
        "    </tr>\n",
        "    <tr>\n",
        "      <th>4</th>\n",
        "      <td> 911874180</td>\n",
        "      <td>    Re: Coral Energy, L.P.</td>\n",
        "      <td> 138</td>\n",
        "    </tr>\n",
        "    <tr>\n",
        "      <th>5</th>\n",
        "      <td> 912396120</td>\n",
        "      <td> Bankruptcy Code revisions</td>\n",
        "      <td> 138</td>\n",
        "    </tr>\n",
        "  </tbody>\n",
        "</table>\n",
        "<p>5 rows \u00d7 3 columns</p>\n",
        "</div>"
       ],
       "metadata": {},
       "output_type": "pyout",
       "prompt_number": 268,
       "text": [
        "     unix_time                    subject  from_eid\n",
        "mid                                                \n",
        "1    910930020             Cd$ CME letter       138\n",
        "2    911459940            Indemnification       138\n",
        "3    911463840        Re: Indemnification       138\n",
        "4    911874180     Re: Coral Energy, L.P.       138\n",
        "5    912396120  Bankruptcy Code revisions       138\n",
        "\n",
        "[5 rows x 3 columns]"
       ]
      }
     ],
     "prompt_number": 268
    },
    {
     "cell_type": "markdown",
     "metadata": {
      "slideshow": {
       "slide_type": "subslide"
      }
     },
     "source": [
      "SQL JOIN (with `USING`):"
     ]
    },
    {
     "cell_type": "code",
     "collapsed": false,
     "input": [
      "sql.frame_query(\"\"\"SELECT mid, unix_time, subject, from_eid, rno, to_eid \n",
      "                FROM MessageBase JOIN RecipientBase USING (mid) LIMIT 5\"\"\", conn, \"mid\")"
     ],
     "language": "python",
     "metadata": {
      "slideshow": {
       "slide_type": "-"
      }
     },
     "outputs": [
      {
       "html": [
        "<div style=\"max-height:1000px;max-width:1500px;overflow:auto;\">\n",
        "<table border=\"1\" class=\"dataframe\">\n",
        "  <thead>\n",
        "    <tr style=\"text-align: right;\">\n",
        "      <th></th>\n",
        "      <th>unix_time</th>\n",
        "      <th>subject</th>\n",
        "      <th>from_eid</th>\n",
        "      <th>rno</th>\n",
        "      <th>to_eid</th>\n",
        "    </tr>\n",
        "    <tr>\n",
        "      <th>mid</th>\n",
        "      <th></th>\n",
        "      <th></th>\n",
        "      <th></th>\n",
        "      <th></th>\n",
        "      <th></th>\n",
        "    </tr>\n",
        "  </thead>\n",
        "  <tbody>\n",
        "    <tr>\n",
        "      <th>1</th>\n",
        "      <td> 910930020</td>\n",
        "      <td>         Cd$ CME letter</td>\n",
        "      <td> 138</td>\n",
        "      <td> 1</td>\n",
        "      <td>  59</td>\n",
        "    </tr>\n",
        "    <tr>\n",
        "      <th>2</th>\n",
        "      <td> 911459940</td>\n",
        "      <td>        Indemnification</td>\n",
        "      <td> 138</td>\n",
        "      <td> 1</td>\n",
        "      <td>  15</td>\n",
        "    </tr>\n",
        "    <tr>\n",
        "      <th>3</th>\n",
        "      <td> 911463840</td>\n",
        "      <td>    Re: Indemnification</td>\n",
        "      <td> 138</td>\n",
        "      <td> 1</td>\n",
        "      <td>  15</td>\n",
        "    </tr>\n",
        "    <tr>\n",
        "      <th>4</th>\n",
        "      <td> 911874180</td>\n",
        "      <td> Re: Coral Energy, L.P.</td>\n",
        "      <td> 138</td>\n",
        "      <td> 1</td>\n",
        "      <td> 109</td>\n",
        "    </tr>\n",
        "    <tr>\n",
        "      <th>4</th>\n",
        "      <td> 911874180</td>\n",
        "      <td> Re: Coral Energy, L.P.</td>\n",
        "      <td> 138</td>\n",
        "      <td> 2</td>\n",
        "      <td>  49</td>\n",
        "    </tr>\n",
        "  </tbody>\n",
        "</table>\n",
        "<p>5 rows \u00d7 5 columns</p>\n",
        "</div>"
       ],
       "metadata": {},
       "output_type": "pyout",
       "prompt_number": 269,
       "text": [
        "     unix_time                 subject  from_eid  rno  to_eid\n",
        "mid                                                          \n",
        "1    910930020          Cd$ CME letter       138    1      59\n",
        "2    911459940         Indemnification       138    1      15\n",
        "3    911463840     Re: Indemnification       138    1      15\n",
        "4    911874180  Re: Coral Energy, L.P.       138    1     109\n",
        "4    911874180  Re: Coral Energy, L.P.       138    2      49\n",
        "\n",
        "[5 rows x 5 columns]"
       ]
      }
     ],
     "prompt_number": 269
    },
    {
     "cell_type": "markdown",
     "metadata": {
      "slideshow": {
       "slide_type": "subslide"
      }
     },
     "source": [
      "pandas.DataFrame.join"
     ]
    },
    {
     "cell_type": "code",
     "collapsed": false,
     "input": [
      "RecipientBase = sql.frame_query(\"SELECT * FROM RecipientBase\", conn, \"mid\")\n",
      "MessageBase.join(RecipientBase).head()"
     ],
     "language": "python",
     "metadata": {
      "slideshow": {
       "slide_type": "-"
      }
     },
     "outputs": [
      {
       "html": [
        "<div style=\"max-height:1000px;max-width:1500px;overflow:auto;\">\n",
        "<table border=\"1\" class=\"dataframe\">\n",
        "  <thead>\n",
        "    <tr style=\"text-align: right;\">\n",
        "      <th></th>\n",
        "      <th>unix_time</th>\n",
        "      <th>subject</th>\n",
        "      <th>filename</th>\n",
        "      <th>from_eid</th>\n",
        "      <th>rno</th>\n",
        "      <th>to_eid</th>\n",
        "    </tr>\n",
        "    <tr>\n",
        "      <th>mid</th>\n",
        "      <th></th>\n",
        "      <th></th>\n",
        "      <th></th>\n",
        "      <th></th>\n",
        "      <th></th>\n",
        "      <th></th>\n",
        "    </tr>\n",
        "  </thead>\n",
        "  <tbody>\n",
        "    <tr>\n",
        "      <th>1</th>\n",
        "      <td> 910930020</td>\n",
        "      <td>         Cd$ CME letter</td>\n",
        "      <td> taylor-m/sent/11</td>\n",
        "      <td> 138</td>\n",
        "      <td> 1</td>\n",
        "      <td>  59</td>\n",
        "    </tr>\n",
        "    <tr>\n",
        "      <th>2</th>\n",
        "      <td> 911459940</td>\n",
        "      <td>        Indemnification</td>\n",
        "      <td> taylor-m/sent/17</td>\n",
        "      <td> 138</td>\n",
        "      <td> 1</td>\n",
        "      <td>  15</td>\n",
        "    </tr>\n",
        "    <tr>\n",
        "      <th>3</th>\n",
        "      <td> 911463840</td>\n",
        "      <td>    Re: Indemnification</td>\n",
        "      <td> taylor-m/sent/18</td>\n",
        "      <td> 138</td>\n",
        "      <td> 1</td>\n",
        "      <td>  15</td>\n",
        "    </tr>\n",
        "    <tr>\n",
        "      <th>4</th>\n",
        "      <td> 911874180</td>\n",
        "      <td> Re: Coral Energy, L.P.</td>\n",
        "      <td> taylor-m/sent/23</td>\n",
        "      <td> 138</td>\n",
        "      <td> 1</td>\n",
        "      <td> 109</td>\n",
        "    </tr>\n",
        "    <tr>\n",
        "      <th>4</th>\n",
        "      <td> 911874180</td>\n",
        "      <td> Re: Coral Energy, L.P.</td>\n",
        "      <td> taylor-m/sent/23</td>\n",
        "      <td> 138</td>\n",
        "      <td> 2</td>\n",
        "      <td>  49</td>\n",
        "    </tr>\n",
        "  </tbody>\n",
        "</table>\n",
        "<p>5 rows \u00d7 6 columns</p>\n",
        "</div>"
       ],
       "metadata": {},
       "output_type": "pyout",
       "prompt_number": 262,
       "text": [
        "     unix_time                 subject          filename  from_eid  rno  \\\n",
        "mid                                                                       \n",
        "1    910930020          Cd$ CME letter  taylor-m/sent/11       138    1   \n",
        "2    911459940         Indemnification  taylor-m/sent/17       138    1   \n",
        "3    911463840     Re: Indemnification  taylor-m/sent/18       138    1   \n",
        "4    911874180  Re: Coral Energy, L.P.  taylor-m/sent/23       138    1   \n",
        "4    911874180  Re: Coral Energy, L.P.  taylor-m/sent/23       138    2   \n",
        "\n",
        "     to_eid  \n",
        "mid          \n",
        "1        59  \n",
        "2        15  \n",
        "3        15  \n",
        "4       109  \n",
        "4        49  \n",
        "\n",
        "[5 rows x 6 columns]"
       ]
      }
     ],
     "prompt_number": 262
    },
    {
     "cell_type": "markdown",
     "metadata": {
      "slideshow": {
       "slide_type": "slide"
      }
     },
     "source": [
      "SQL JOIN (with `ON`):"
     ]
    },
    {
     "cell_type": "code",
     "collapsed": false,
     "input": [
      "sql.frame_query(\"\"\"SELECT mid, unix_time, name,  \n",
      "                          title, seniority, subject \n",
      "                     FROM EmployeeBase \n",
      "                     JOIN MessageBase ON eid = from_eid \n",
      "                    LIMIT 5\"\"\", conn, \"mid\")"
     ],
     "language": "python",
     "metadata": {
      "slideshow": {
       "slide_type": "-"
      }
     },
     "outputs": [
      {
       "html": [
        "<div style=\"max-height:1000px;max-width:1500px;overflow:auto;\">\n",
        "<table border=\"1\" class=\"dataframe\">\n",
        "  <thead>\n",
        "    <tr style=\"text-align: right;\">\n",
        "      <th></th>\n",
        "      <th>unix_time</th>\n",
        "      <th>name</th>\n",
        "      <th>title</th>\n",
        "      <th>seniority</th>\n",
        "      <th>subject</th>\n",
        "    </tr>\n",
        "    <tr>\n",
        "      <th>mid</th>\n",
        "      <th></th>\n",
        "      <th></th>\n",
        "      <th></th>\n",
        "      <th></th>\n",
        "      <th></th>\n",
        "    </tr>\n",
        "  </thead>\n",
        "  <tbody>\n",
        "    <tr>\n",
        "      <th>1</th>\n",
        "      <td> 910930020</td>\n",
        "      <td> Mark E. Taylor</td>\n",
        "      <td> VP &amp; Gen Cnsl</td>\n",
        "      <td> Senior</td>\n",
        "      <td>            Cd$ CME letter</td>\n",
        "    </tr>\n",
        "    <tr>\n",
        "      <th>2</th>\n",
        "      <td> 911459940</td>\n",
        "      <td> Mark E. Taylor</td>\n",
        "      <td> VP &amp; Gen Cnsl</td>\n",
        "      <td> Senior</td>\n",
        "      <td>           Indemnification</td>\n",
        "    </tr>\n",
        "    <tr>\n",
        "      <th>3</th>\n",
        "      <td> 911463840</td>\n",
        "      <td> Mark E. Taylor</td>\n",
        "      <td> VP &amp; Gen Cnsl</td>\n",
        "      <td> Senior</td>\n",
        "      <td>       Re: Indemnification</td>\n",
        "    </tr>\n",
        "    <tr>\n",
        "      <th>4</th>\n",
        "      <td> 911874180</td>\n",
        "      <td> Mark E. Taylor</td>\n",
        "      <td> VP &amp; Gen Cnsl</td>\n",
        "      <td> Senior</td>\n",
        "      <td>    Re: Coral Energy, L.P.</td>\n",
        "    </tr>\n",
        "    <tr>\n",
        "      <th>5</th>\n",
        "      <td> 912396120</td>\n",
        "      <td> Mark E. Taylor</td>\n",
        "      <td> VP &amp; Gen Cnsl</td>\n",
        "      <td> Senior</td>\n",
        "      <td> Bankruptcy Code revisions</td>\n",
        "    </tr>\n",
        "  </tbody>\n",
        "</table>\n",
        "<p>5 rows \u00d7 5 columns</p>\n",
        "</div>"
       ],
       "metadata": {},
       "output_type": "pyout",
       "prompt_number": 273,
       "text": [
        "     unix_time            name          title seniority  \\\n",
        "mid                                                       \n",
        "1    910930020  Mark E. Taylor  VP & Gen Cnsl    Senior   \n",
        "2    911459940  Mark E. Taylor  VP & Gen Cnsl    Senior   \n",
        "3    911463840  Mark E. Taylor  VP & Gen Cnsl    Senior   \n",
        "4    911874180  Mark E. Taylor  VP & Gen Cnsl    Senior   \n",
        "5    912396120  Mark E. Taylor  VP & Gen Cnsl    Senior   \n",
        "\n",
        "                       subject  \n",
        "mid                             \n",
        "1               Cd$ CME letter  \n",
        "2              Indemnification  \n",
        "3          Re: Indemnification  \n",
        "4       Re: Coral Energy, L.P.  \n",
        "5    Bankruptcy Code revisions  \n",
        "\n",
        "[5 rows x 5 columns]"
       ]
      }
     ],
     "prompt_number": 273
    },
    {
     "cell_type": "markdown",
     "metadata": {
      "slideshow": {
       "slide_type": "subslide"
      }
     },
     "source": [
      "pandas.DataFrame.merge"
     ]
    },
    {
     "cell_type": "code",
     "collapsed": false,
     "input": [
      "EmployeeBase = sql.frame_query(\"\"\"SELECT eid, name, title, seniority \n",
      "                                    FROM EmployeeBase\"\"\", conn, \"eid\")\n",
      "EmployeeBase.merge(MessageBase, right_on = 'from_eid', left_index = True).head()"
     ],
     "language": "python",
     "metadata": {
      "slideshow": {
       "slide_type": "-"
      }
     },
     "outputs": [
      {
       "html": [
        "<div style=\"max-height:1000px;max-width:1500px;overflow:auto;\">\n",
        "<table border=\"1\" class=\"dataframe\">\n",
        "  <thead>\n",
        "    <tr style=\"text-align: right;\">\n",
        "      <th></th>\n",
        "      <th>name</th>\n",
        "      <th>title</th>\n",
        "      <th>seniority</th>\n",
        "      <th>unix_time</th>\n",
        "      <th>subject</th>\n",
        "      <th>from_eid</th>\n",
        "    </tr>\n",
        "    <tr>\n",
        "      <th>mid</th>\n",
        "      <th></th>\n",
        "      <th></th>\n",
        "      <th></th>\n",
        "      <th></th>\n",
        "      <th></th>\n",
        "      <th></th>\n",
        "    </tr>\n",
        "  </thead>\n",
        "  <tbody>\n",
        "    <tr>\n",
        "      <th>1611</th>\n",
        "      <td> John Arnold</td>\n",
        "      <td> VP Trading</td>\n",
        "      <td> Senior</td>\n",
        "      <td> 954317280</td>\n",
        "      <td>        Re: Insurance Call Spread</td>\n",
        "      <td> 1</td>\n",
        "    </tr>\n",
        "    <tr>\n",
        "      <th>1615</th>\n",
        "      <td> John Arnold</td>\n",
        "      <td> VP Trading</td>\n",
        "      <td> Senior</td>\n",
        "      <td> 954328920</td>\n",
        "      <td> New curve generation methodology</td>\n",
        "      <td> 1</td>\n",
        "    </tr>\n",
        "    <tr>\n",
        "      <th>1722</th>\n",
        "      <td> John Arnold</td>\n",
        "      <td> VP Trading</td>\n",
        "      <td> Senior</td>\n",
        "      <td> 955447080</td>\n",
        "      <td> Option Analysis on NG Price Book</td>\n",
        "      <td> 1</td>\n",
        "    </tr>\n",
        "    <tr>\n",
        "      <th>1723</th>\n",
        "      <td> John Arnold</td>\n",
        "      <td> VP Trading</td>\n",
        "      <td> Senior</td>\n",
        "      <td> 955448160</td>\n",
        "      <td>                                 </td>\n",
        "      <td> 1</td>\n",
        "    </tr>\n",
        "    <tr>\n",
        "      <th>1763</th>\n",
        "      <td> John Arnold</td>\n",
        "      <td> VP Trading</td>\n",
        "      <td> Senior</td>\n",
        "      <td> 955701240</td>\n",
        "      <td>                      Re: options</td>\n",
        "      <td> 1</td>\n",
        "    </tr>\n",
        "  </tbody>\n",
        "</table>\n",
        "<p>5 rows \u00d7 6 columns</p>\n",
        "</div>"
       ],
       "metadata": {},
       "output_type": "pyout",
       "prompt_number": 274,
       "text": [
        "             name       title seniority  unix_time  \\\n",
        "mid                                                  \n",
        "1611  John Arnold  VP Trading    Senior  954317280   \n",
        "1615  John Arnold  VP Trading    Senior  954328920   \n",
        "1722  John Arnold  VP Trading    Senior  955447080   \n",
        "1723  John Arnold  VP Trading    Senior  955448160   \n",
        "1763  John Arnold  VP Trading    Senior  955701240   \n",
        "\n",
        "                               subject  from_eid  \n",
        "mid                                               \n",
        "1611         Re: Insurance Call Spread         1  \n",
        "1615  New curve generation methodology         1  \n",
        "1722  Option Analysis on NG Price Book         1  \n",
        "1723                                           1  \n",
        "1763                       Re: options         1  \n",
        "\n",
        "[5 rows x 6 columns]"
       ]
      }
     ],
     "prompt_number": 274
    },
    {
     "cell_type": "markdown",
     "metadata": {
      "slideshow": {
       "slide_type": "slide"
      }
     },
     "source": [
      "Histograms are a good way to get a feel for the data. For example:"
     ]
    },
    {
     "cell_type": "code",
     "collapsed": false,
     "input": [
      "MessageBase.unix_time.hist()"
     ],
     "language": "python",
     "metadata": {
      "slideshow": {
       "slide_type": "-"
      }
     },
     "outputs": [
      {
       "metadata": {},
       "output_type": "pyout",
       "prompt_number": 104,
       "text": [
        "<matplotlib.axes.AxesSubplot at 0x10800cd10>"
       ]
      },
      {
       "metadata": {},
       "output_type": "display_data",
       "png": "[encoded data removed]",
       "text": [
        "<matplotlib.figure.Figure at 0x107f278d0>"
       ]
      }
     ],
     "prompt_number": 104
    },
    {
     "cell_type": "code",
     "collapsed": false,
     "input": [
      "MessageBase.unix_time.mean()"
     ],
     "language": "python",
     "metadata": {
      "slideshow": {
       "slide_type": "skip"
      }
     },
     "outputs": [
      {
       "metadata": {},
       "output_type": "pyout",
       "prompt_number": 277,
       "text": [
        "985319365.65994918"
       ]
      }
     ],
     "prompt_number": 277
    },
    {
     "cell_type": "markdown",
     "metadata": {
      "slideshow": {
       "slide_type": "fragment"
      }
     },
     "source": [
      "What does this tell us? "
     ]
    },
    {
     "cell_type": "markdown",
     "metadata": {
      "slideshow": {
       "slide_type": "slide"
      }
     },
     "source": [
      "`unix_time` (i.e. `unixepoch`) is easy for computers to read, but difficult for humans. It is the number of seconds since midnight, January 1, 1970. To make it more readable, we will map datetime.fromtimestamp onto that value to return a datetime object. We can then downsample the data from seconds to weeks. "
     ]
    },
    {
     "cell_type": "code",
     "collapsed": false,
     "input": [
      "datetime.fromtimestamp(985319365)"
     ],
     "language": "python",
     "metadata": {
      "slideshow": {
       "slide_type": "skip"
      }
     },
     "outputs": [
      {
       "metadata": {},
       "output_type": "pyout",
       "prompt_number": 278,
       "text": [
        "datetime.datetime(2001, 3, 22, 19, 49, 25)"
       ]
      }
     ],
     "prompt_number": 278
    },
    {
     "cell_type": "code",
     "collapsed": false,
     "input": [
      "from datetime import datetime\n",
      "dt = MessageBase.unix_time.map(datetime.fromtimestamp)\n",
      "MessageBase.groupby(dt).unix_time.count().resample('1W', how='sum').plot()"
     ],
     "language": "python",
     "metadata": {
      "slideshow": {
       "slide_type": "-"
      }
     },
     "outputs": [
      {
       "metadata": {},
       "output_type": "pyout",
       "prompt_number": 184,
       "text": [
        "<matplotlib.axes.AxesSubplot at 0x10f277350>"
       ]
      },
      {
       "metadata": {},
       "output_type": "display_data",
       "png": "[encoded data removed]",
       "text": [
        "<matplotlib.figure.Figure at 0x10eea2b50>"
       ]
      }
     ],
     "prompt_number": 184
    },
    {
     "cell_type": "markdown",
     "metadata": {
      "slideshow": {
       "slide_type": "fragment"
      }
     },
     "source": [
      "What does this tell us?"
     ]
    },
    {
     "cell_type": "markdown",
     "metadata": {
      "slideshow": {
       "slide_type": "slide"
      }
     },
     "source": [
      "Perhaps the recipient counts would be interesting as well. This time we will cast `unix_time` to a datetime string in our query. Since this is a new query, we will also make sure it looks okay by calling `.head()` before we do anyting else:"
     ]
    },
    {
     "cell_type": "code",
     "collapsed": false,
     "input": [
      "recipient_counts = sql.frame_query(\"\"\"SELECT mid, datetime(unix_time, 'unixepoch') AS time_sent, MAX(rno) AS recipient_count \n",
      "                        FROM MessageBase JOIN RecipientBase USING (mid) GROUP BY mid, time_sent\"\"\", conn, \"mid\")\n",
      "recipient_counts.head()"
     ],
     "language": "python",
     "metadata": {
      "slideshow": {
       "slide_type": "fragment"
      }
     },
     "outputs": [
      {
       "html": [
        "<div style=\"max-height:1000px;max-width:1500px;overflow:auto;\">\n",
        "<table border=\"1\" class=\"dataframe\">\n",
        "  <thead>\n",
        "    <tr style=\"text-align: right;\">\n",
        "      <th></th>\n",
        "      <th>time_sent</th>\n",
        "      <th>recipient_count</th>\n",
        "    </tr>\n",
        "    <tr>\n",
        "      <th>mid</th>\n",
        "      <th></th>\n",
        "      <th></th>\n",
        "    </tr>\n",
        "  </thead>\n",
        "  <tbody>\n",
        "    <tr>\n",
        "      <th>1</th>\n",
        "      <td> 1998-11-13 04:07:00</td>\n",
        "      <td> 1</td>\n",
        "    </tr>\n",
        "    <tr>\n",
        "      <th>2</th>\n",
        "      <td> 1998-11-19 07:19:00</td>\n",
        "      <td> 1</td>\n",
        "    </tr>\n",
        "    <tr>\n",
        "      <th>3</th>\n",
        "      <td> 1998-11-19 08:24:00</td>\n",
        "      <td> 1</td>\n",
        "    </tr>\n",
        "    <tr>\n",
        "      <th>4</th>\n",
        "      <td> 1998-11-24 02:23:00</td>\n",
        "      <td> 4</td>\n",
        "    </tr>\n",
        "    <tr>\n",
        "      <th>5</th>\n",
        "      <td> 1998-11-30 03:22:00</td>\n",
        "      <td> 2</td>\n",
        "    </tr>\n",
        "  </tbody>\n",
        "</table>\n",
        "<p>5 rows \u00d7 2 columns</p>\n",
        "</div>"
       ],
       "metadata": {},
       "output_type": "pyout",
       "prompt_number": 218,
       "text": [
        "               time_sent  recipient_count\n",
        "mid                                      \n",
        "1    1998-11-13 04:07:00                1\n",
        "2    1998-11-19 07:19:00                1\n",
        "3    1998-11-19 08:24:00                1\n",
        "4    1998-11-24 02:23:00                4\n",
        "5    1998-11-30 03:22:00                2\n",
        "\n",
        "[5 rows x 2 columns]"
       ]
      }
     ],
     "prompt_number": 218
    },
    {
     "cell_type": "markdown",
     "metadata": {
      "slideshow": {
       "slide_type": "slide"
      }
     },
     "source": [
      "When using `pandas.DataFrame.groupby` it is sometimes useful to create a grouping object first. In this case, we will do it by mapping the datetime strings we received from SQLite to a weekly period. (This could also have been done in SQL, but it would have come across as a string. This way it exists as a `pandas.Period` object which has more intelligence.)"
     ]
    },
    {
     "cell_type": "code",
     "collapsed": false,
     "input": [
      "w = recipient_counts.time_sent.map(lambda dt: pd.Period(dt, freq='W'))\n",
      "recipient_counts.groupby(w).recipient_count.mean().plot(ylim=(0,10))"
     ],
     "language": "python",
     "metadata": {
      "slideshow": {
       "slide_type": "-"
      }
     },
     "outputs": [
      {
       "metadata": {},
       "output_type": "pyout",
       "prompt_number": 279,
       "text": [
        "<matplotlib.axes.AxesSubplot at 0x1135be150>"
       ]
      },
      {
       "metadata": {},
       "output_type": "display_data",
       "png": "[encoded data removed]",
       "text": [
        "<matplotlib.figure.Figure at 0x116dccf50>"
       ]
      }
     ],
     "prompt_number": 279
    },
    {
     "cell_type": "heading",
     "level": 1,
     "metadata": {
      "slideshow": {
       "slide_type": "slide"
      }
     },
     "source": [
      "Lab"
     ]
    },
    {
     "cell_type": "markdown",
     "metadata": {
      "slideshow": {
       "slide_type": "slide"
      }
     },
     "source": [
      "Your turn. Follow what I did at [http://nbviewer.ipython.org/github/eklypse/GA_DS_SF_2014_01/blob/master/DS_Lec05.ipynb](http://nbviewer.ipython.org/github/eklypse/GA_DS_SF_2014_01/blob/master/DS_Lec05.ipynb). Do the same thing but for `.max()` and `.median()` instead of `.mean()`. Also, try to find your own discoveries! (e.g. is there anything interesting you could say about the subjects of the emails. What about who sent the first ones and who sent the last ones? What about the recipients themselves? (hint: `to_eid` is a foreign key to `eid`)\n",
      "\n",
      "See [http://nbviewer.ipython.org/urls/bitbucket.org/hrojas/learn-pandas/raw/master/lessons/Pandas%20for%20SQL%20Developers.ipynb](http://nbviewer.ipython.org/urls/bitbucket.org/hrojas/learn-pandas/raw/master/lessons/Pandas%20for%20SQL%20Developers.ipynb) for more examples about how Pandas and SQL compare."
     ]
    },
    {
     "cell_type": "heading",
     "level": 1,
     "metadata": {
      "slideshow": {
       "slide_type": "slide"
      }
     },
     "source": [
      "Discussion"
     ]
    },
    {
     "cell_type": "markdown",
     "metadata": {
      "slideshow": {
       "slide_type": "slide"
      }
     },
     "source": [
      "### Next Time:\n",
      "\n",
      "#### R & ggplot2"
     ]
    }
   ],
   "metadata": {}
  }
 ]
}