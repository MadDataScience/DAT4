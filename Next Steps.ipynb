{
 "metadata": {
  "celltoolbar": "Slideshow",
  "name": "",
  "signature": "sha256:9e04e197e4d360b8f8bb1450d32650c2f2c5be74e1e65b8ef3a55a795ecdeab3"
 },
 "nbformat": 3,
 "nbformat_minor": 0,
 "worksheets": [
  {
   "cells": [
    {
     "cell_type": "markdown",
     "metadata": {
      "slideshow": {
       "slide_type": "slide"
      }
     },
     "source": [
      "Data Science\n",
      "============\n",
      "Review & Future Directions\n",
      "------------\n",
      "2014-04-07  \n",
      "Instructor: Alessandro Gagliardi  \n",
      "TA: Kevin Perko"
     ]
    },
    {
     "cell_type": "markdown",
     "metadata": {
      "slideshow": {
       "slide_type": "slide"
      }
     },
     "source": [
      "Agenda\n",
      "------------\n",
      "1. Review\n",
      "    - What we covered\n",
      "        - Data\n",
      "        - Science\n",
      "    - What we didn't\n",
      "        - Time Series Analysis\n",
      "        - Network Analysis\n",
      "2. Future Directions\n",
      "    - Types of Data Science\n",
      "        - <del>4, 5,</del> 8 types of data scientists\n",
      "    - From Hacker to Operator\n",
      "        - Experience\n",
      "        - Mentorship\n"
     ]
    },
    {
     "cell_type": "heading",
     "level": 1,
     "metadata": {
      "slideshow": {
       "slide_type": "slide"
      }
     },
     "source": [
      "Review"
     ]
    },
    {
     "cell_type": "markdown",
     "metadata": {
      "slideshow": {
       "slide_type": "slide"
      }
     },
     "source": [
      "What we covered:\n",
      "============\n",
      "Data\n",
      "------------\n",
      "1. Big Data\n",
      "    - Hadoop\n",
      "    - IPython.parallel & StarCluster\n",
      "2. APIs\n",
      "    - Twitter\n",
      "    - JSON\n",
      "3. Relational Databases\n",
      "    - SQL\n",
      "    - 1st, 2nd, and 3rd Normal Form\n",
      "4. Feature Vectors\n",
      "    - Data Frames\n",
      "    - Term-Document Matrices\n",
      "4. Visualization\n",
      "    - ggplot2"
     ]
    },
    {
     "cell_type": "markdown",
     "metadata": {
      "slideshow": {
       "slide_type": "subslide"
      }
     },
     "source": [
      "Science\n",
      "------------\n",
      "1. Regression\n",
      "    - Linear Regression\n",
      "2. Classification\n",
      "    - Logistic Regression\n",
      "    - k-Nearest Neighbors\n",
      "    - Decision Trees\n",
      "    - Artificial Neural Networks\n",
      "    - Support Vector Classifiers\n",
      "3. Dimensionality Reduction\n",
      "    - Principal Component Analysis\n",
      "4. Clustering\n",
      "    - k-Means Clustering"
     ]
    },
    {
     "cell_type": "markdown",
     "metadata": {
      "slideshow": {
       "slide_type": "slide"
      }
     },
     "source": [
      "What we didn't:\n",
      "============\n",
      "- Pig\n",
      "- Hive, Impala/Presto\n",
      "- Spark, Shark\n",
      "- Natural Language Processing\n",
      "- Time Series Analysis\n",
      "- Network (i.e. Graph) Analysis\n",
      "- Interactive Visualization (e.g. D3.js)\n",
      "- ..."
     ]
    },
    {
     "cell_type": "markdown",
     "metadata": {
      "slideshow": {
       "slide_type": "slide"
      }
     },
     "source": [
      "Briefly:\n",
      "--------------\n",
      "Time Series Analysis\n",
      "=============="
     ]
    },
    {
     "cell_type": "markdown",
     "metadata": {
      "slideshow": {
       "slide_type": "notes"
      }
     },
     "source": [
      "The main difference between time series analysis and other forms of analysis is that each instance is not independant of each other instance. (e.g. Sales on day $t$ may be related to sales on day $t-1$ while sales by clerk $x$ are (hopefully) independant of sales by clerk $x-1$)"
     ]
    },
    {
     "cell_type": "markdown",
     "metadata": {
      "slideshow": {
       "slide_type": "subslide"
      }
     },
     "source": [
      "Autoregression\n",
      "--------------\n",
      "\n",
      "The notation AR($p$) refers to the autoregressive model of order $p$. The AR($p$) model is written\n",
      "\n",
      "$$ X_t = c + \\sum_{i=1}^p \\varphi_i X_{t-i}+ \\varepsilon_t .\\, $$\n",
      "\n",
      "where $\\varphi_1, \\ldots, \\varphi_p$ are parameters, $c$ is a constant, and the random variable $\\varepsilon_t$ is white noise."
     ]
    },
    {
     "cell_type": "markdown",
     "metadata": {
      "slideshow": {
       "slide_type": "fragment"
      }
     },
     "source": [
      "Moving Average\n",
      "--------------\n",
      "\n",
      "The notation MA($q$) refers to the moving average model of order $q$:\n",
      "\n",
      "$$ X_t = \\mu + \\varepsilon_t + \\sum_{i=1}^q \\theta_i \\varepsilon_{t-i}\\, $$\n",
      "\n",
      "where the $\\theta_1, \\ldots, \\theta_q$ are the parameters of the model, $\\mu$ is the expectation of $X_t$ (often assumed to equal 0), and the $\\varepsilon_t$, $\\varepsilon_{t-1}$,... are again, white noise error terms. "
     ]
    },
    {
     "cell_type": "raw",
     "metadata": {
      "slideshow": {
       "slide_type": "notes"
      }
     },
     "source": [
      "The moving-average model is essentially a finite impulse response filter with some additional interpretation placed on it."
     ]
    },
    {
     "cell_type": "markdown",
     "metadata": {
      "slideshow": {
       "slide_type": "subslide"
      }
     },
     "source": [
      "ARMA model\n",
      "--------------\n",
      "The notation ARMA($p, q$) refers to the model with $p$ autoregressive terms and $q$ moving-average terms. This model contains the AR($p$) and MA($q$) models,\n",
      "\n",
      "$$ X_t = c + \\varepsilon_t +  \\sum_{i=1}^p \\varphi_i X_{t-i} + \\sum_{i=1}^q \\theta_i \\varepsilon_{t-i}.\\,$$\n",
      "\n",
      "\n",
      "<small>*(from [Wikipedia](http://en.wikipedia.org/wiki/Autoregressive_moving_average))*</small>"
     ]
    },
    {
     "cell_type": "markdown",
     "metadata": {
      "slideshow": {
       "slide_type": "fragment"
      }
     },
     "source": [
      "Extensions include:\n",
      "\n",
      "* ARIMA - Autoregressive *integrated* moving average\n",
      "* ARMAX - Autoregressive\u2013moving-average with *exogenous* inputs"
     ]
    },
    {
     "cell_type": "markdown",
     "metadata": {
      "slideshow": {
       "slide_type": "skip"
      }
     },
     "source": [
      "Other time series methods include:\n",
      "\n",
      "* Time Series Principal Component Analysis"
     ]
    },
    {
     "cell_type": "markdown",
     "metadata": {
      "slideshow": {
       "slide_type": "slide"
      }
     },
     "source": [
      "Briefly:\n",
      "--------------\n",
      "Network Analysis\n",
      "=============="
     ]
    },
    {
     "cell_type": "raw",
     "metadata": {
      "slideshow": {
       "slide_type": "notes"
      }
     },
     "source": [
      "Like text mining, network--or, graph--analysis involves big, sparse matrices."
     ]
    },
    {
     "cell_type": "markdown",
     "metadata": {
      "slideshow": {
       "slide_type": "subslide"
      }
     },
     "source": [
      "Graphs contain:\n",
      "\n",
      "- Nodes or Vertices\n",
      "- Links or Edges"
     ]
    },
    {
     "cell_type": "markdown",
     "metadata": {
      "slideshow": {
       "slide_type": "fragment"
      }
     },
     "source": [
      "Graphs can be:\n",
      "\n",
      "- Directed\n",
      "- Undirected\n",
      "    - Undirected graphs are directed graphs were all vertices are reciprocal"
     ]
    },
    {
     "cell_type": "markdown",
     "metadata": {
      "slideshow": {
       "slide_type": "fragment"
      }
     },
     "source": [
      "Directed graphs can be:\n",
      "\n",
      "- Cyclic\n",
      "- Acyclic\n",
      "\n",
      "(A tree is an example of an directed acyclic graph or DAG)"
     ]
    },
    {
     "cell_type": "markdown",
     "metadata": {
      "slideshow": {
       "slide_type": "skip"
      }
     },
     "source": [
      "<img src=\"http://upload.wikimedia.org/wikipedia/commons/5/5b/6n-graf.svg\" />"
     ]
    },
    {
     "cell_type": "markdown",
     "metadata": {
      "slideshow": {
       "slide_type": "skip"
      }
     },
     "source": [
      "...becomes...\n",
      "\n",
      "|     | 1 | 2 | 3 | 4 | 5 | 6 | \n",
      "|:---:|:-:|:-:|:-:|:-:|:-:|:-:|\n",
      "|**1**|   | 1 | 0 | 0 | 1 | 0 |\n",
      "|**2**|   |   | 1 | 0 | 1 | 0 |\n",
      "|**3**|   |   |   | 1 | 0 | 0 |\n",
      "|**4**|   |   |   |   | 1 | 1 |\n",
      "|**5**|   |   |   |   |   | 0 |\n"
     ]
    },
    {
     "cell_type": "markdown",
     "metadata": {
      "slideshow": {
       "slide_type": "subslide"
      }
     },
     "source": [
      "Small-World Networks\n",
      "--------------------\n",
      "A network where the typical distance $L$ between two randomly chosen nodes (the number of steps required) grows proportionally to the logarithm of the number of nodes $N$ in the network, that is:\n",
      "\n",
      "$$ L \\propto \\log N$$"
     ]
    },
    {
     "cell_type": "markdown",
     "metadata": {
      "slideshow": {
       "slide_type": "fragment"
      }
     },
     "source": [
      "<img src=\"http://images.scholarpedia.org/w/images/9/9c/Sw.png\" />"
     ]
    },
    {
     "cell_type": "markdown",
     "metadata": {
      "slideshow": {
       "slide_type": "subslide"
      }
     },
     "source": [
      "For fun:\n",
      "--------\n",
      "\n",
      "* **[inmaps.linkedinlabs.com](http://inmaps.linkedinlabs.com/)**  \n",
      "* **[wolframalpha.com/facebook](http://www.wolframalpha.com/facebook/)**"
     ]
    },
    {
     "cell_type": "heading",
     "level": 1,
     "metadata": {
      "slideshow": {
       "slide_type": "slide"
      }
     },
     "source": [
      "Future Directions"
     ]
    },
    {
     "cell_type": "markdown",
     "metadata": {
      "slideshow": {
       "slide_type": "slide"
      }
     },
     "source": [
      "<img src=\"http://www.adammcfarland.com/wp-content/uploads/2012/12/valve_t_shaped_people.png\" />"
     ]
    },
    {
     "cell_type": "markdown",
     "metadata": {
      "slideshow": {
       "slide_type": "slide"
      }
     },
     "source": [
      "<img src=\"assets/ds_types.jpg\" />"
     ]
    },
    {
     "cell_type": "markdown",
     "metadata": {
      "slideshow": {
       "slide_type": "slide"
      }
     },
     "source": [
      "Categories of data scientists\n",
      "-----------------------------\n",
      "<small>*(according to [Vincent Granville](http://www.datasciencecentral.com/profiles/blogs/six-categories-of-data-scientists))*</small>\n",
      "\n",
      "* Those strong in **statistics**: they are expert in statistical modeling, experimental design, sampling, clustering, data reduction, confidence intervals, testing, modeling, predictive modeling and other related techniques.\n",
      "* Those strong in **mathematics**: NSA or defense/military, astronomers, and operations research people doing analytic business optimization (inventory management and forecasting, pricing optimization, supply chain, quality control, yield optimization).\n",
      "* Those strong in **data engineering**, Hadoop, database/memory/file systems optimization and architecture, API's, Analytics as a Service, optimization of data flows, data plumbing.\n",
      "* Those strong in **machine learning** / computer science (algorithms, computational complexity)\n",
      "* Those strong in **business**, ROI optimization, decision sciences, involved in some of the tasks traditionally performed by business analysts in bigger companies (dashboards design, metric mix selection and metric definitions, ROI optimization, high-level database design)\n",
      "* Those strong in production code development, **software engineering** (they know a few programming languages)\n",
      "* Those strong in **visualization**\n",
      "* Those strong in GIS, **spatial data**, data modeled by graphs, graph databases\n",
      "* Those strong in a few of the above. "
     ]
    },
    {
     "cell_type": "markdown",
     "metadata": {
      "slideshow": {
       "slide_type": "slide"
      }
     },
     "source": [
      "<small>*(according to [Tomasz Tunguz](https://www.linkedin.com/today/post/article/20131002174328-4444200-which-of-the-five-types-of-data-science-does-your-startup-need))*</small>\n",
      "\n",
      "1. **Quantitative, exploratory** data scientists tend to have PhDs and use *theory* to understand behavior. Varian\u2019s team researches the advertiser dynamics within the ads auction and compares those dynamics to theoretical auction *models* like theVickery auction. By combining theory and exploratory research, these data scientists improve products.\n",
      "2. **Operational** data scientists often work in the *finance, sales or operations* teams at Google. In the AdSense ops . . . a star data analyst who each week would discuss our team\u2019s performance: our email response times, the satisfaction scores of our publishers, and changes in publisher behavior by segment. His work provided a feedback loop to improve the team\u2019s tactics and efficiency.\n",
      "3. **Product** data scientists tend to belong to product management or engineering. PMs and engineers *sift through logs and analysis tools to understand the way users interact* a product and leverage that knowledge to refine the product. At Google, the ads quality team analyzed user clicks data to improve ad targeting.\n",
      "4. **Marketing** data scientists *segment* the user base, *evaluate* the performance of advertising campaigns, *match* product features to customer segments, and *design* content marketing campaigns. The marketing data scientist creates awareness and leads for the sales team, helping generate revenue.\n",
      "5. **Research** data scientists create *insights as a product*. Nate Silver is arguably the most famous of them. Silver\u2019s work doesn\u2019t influence a product; the analysis is the product itself. Sometimes the data science leads to a thought leadership whitepaper, or a blog post, or a financial report. \n",
      "\n",
      "<small>*(emphasis mine)*</small>"
     ]
    },
    {
     "cell_type": "markdown",
     "metadata": {
      "slideshow": {
       "slide_type": "slide"
      }
     },
     "source": [
      "<small>*(according to [Harlan D. Harris](http://strata.oreilly.com/2013/06/theres-more-than-one-kind-of-data-scientist.html))*</small>\n",
      "\n",
      "* **Data Businesspeople** are the product and profit-focused data scientists. They\u2019re leaders, managers, and entrepreneurs, but with a technical bent. A common educational path is an engineering degree paired with an MBA.\n",
      "* **Data Creatives** are eclectic jacks-of-all-trades, able to work with a broad range of data and tools. They may think of themselves as artists or hackers, and excel at visualization and open source technologies.\n",
      "* **Data Developers** are focused on writing software to do analytic, statistical, and machine learning tasks, often in production environments. They often have computer science degrees, and often work with so-called \u201cbig data\u201d.\n",
      "* **Data Researchers** apply their scientific training, and the tools and techniques they learned in academia, to organizational data. They may have PhDs, and their creative applications of mathematical tools yields valuable insights and products."
     ]
    },
    {
     "cell_type": "markdown",
     "metadata": {
      "slideshow": {
       "slide_type": "subslide"
      }
     },
     "source": [
      "<img src=\"http://s.radar.oreilly.com/wp-files/5/2013/06/Screen-Shot-2013-06-24-at-12.05.55-PM.png\" />"
     ]
    },
    {
     "cell_type": "markdown",
     "metadata": {
      "slideshow": {
       "slide_type": "slide"
      }
     },
     "source": [
      "<small>*(according to [Brendan Tierney](http://www.oralytics.com/2013/03/type-i-and-type-ii-data-scientists.html))*</small>\n",
      "\n",
      "1. **The Type I Data Scientist** specializes in...\n",
      "    - Statisticians\n",
      "    - Data Miners\n",
      "    - Predictive Modellers\n",
      "    - Machine Learning\n",
      "    - Data Warehousing\n",
      "    - Business Intelligence & Visualization\n",
      "    - Big Data\n",
      "    - R / Oracle / SAS / SPSS / etc.  \n",
      "      \n",
      "2. **The Type II Data Scientist** approaches the types of problems that organisations are facing in a different way. They will concentrate on the business goals and business problems that the organisation are facing. Based on these they will identify what the data scientist project will focus on, ensuring that there is a measurable outcome and business goal. The Type II Data Scientist will be a good communicator, being able to translate between the business problem and the technical environment necessary to deliver what is needed. During the project the data science team will discovery various insight about the data. The Type II Data Scientist will prioritise these and feed them back to the various business units. Some of these insights can range from something new, verifying business knowledge beliefs, areas where better data capture is needed, improvements in applications, etc."
     ]
    },
    {
     "cell_type": "markdown",
     "metadata": {
      "slideshow": {
       "slide_type": "subslide"
      }
     },
     "source": [
      "<img src=\"http://lh6.ggpht.com/-SOSvAkRFd4I/UUx-s_62PzI/AAAAAAAAKew/ZCJkI7OWNGM/s1600/image%25255B3%25255D.png\" />"
     ]
    },
    {
     "cell_type": "markdown",
     "metadata": {
      "slideshow": {
       "slide_type": "slide"
      }
     },
     "source": [
      "<del>Types</del> Levels of Data Science\n",
      "----------------\n",
      "<small>*(according to [Steve Jones](http://service-architecture.blogspot.com/2014/03/what-are-types-of-data-scientist.html))*</small>\n",
      "\n",
      "1. **Data Science Bluffers** They are the people who get a spreadsheet with a bunch of data, apply a very basic statistical function and claim 'Hey its Data Science'.\n",
      "2. **Data Hackers**  *'the one eyed man in the kingdom of the blind'*...people with a bit of skill, maybe a bit of training, but they aren't at the level of sophistication of an operator...don't mistake knowing how to apply one Machine Learning technique for actual knowledge. \n",
      "3. **Data Operators** *or* **Resident Data Scientists** take predefined algorithms, statistical or machine learning, and then apply them to a specific company scenario and most crucially keep the parameters up to date so the algorithm continues to perform. \n",
      "4. **Data Magicians** normally have mathematical or physics centric PhDs (often several), often focused in specific areas such as fluid dynamics, economics or super specific such as wind-turbines... The reason its science is because its testable and provable.  They can show that their algorithm would have produced 5% improvement in performance over the past 5 years, and as it moves forward show how their approach has made a difference to the performance of a business."
     ]
    },
    {
     "cell_type": "raw",
     "metadata": {
      "slideshow": {
       "slide_type": "notes"
      }
     },
     "source": [
      "You are probably at the \"Data Hacker\" level right now and should strive to become an Operator or Resident Data Scientist.  \n",
      "(I'm at the Operator level and striving to become a Magician.)"
     ]
    },
    {
     "cell_type": "markdown",
     "metadata": {
      "slideshow": {
       "slide_type": "slide"
      }
     },
     "source": [
      "Q. How do I go from *Data Hacker* to a *Data Operator* or *Resident Data Scientist*?"
     ]
    },
    {
     "cell_type": "markdown",
     "metadata": {
      "slideshow": {
       "slide_type": "fragment"
      }
     },
     "source": [
      "1. ***Experience*** - Challenge yourself with projects just outside of your ability and learn the techniques you need to achieve it. \n",
      "2. ***Mentorship*** - Ideally someone in your organization invested in your growth. \n",
      "    - Also: the greater Data Science community"
     ]
    },
    {
     "cell_type": "markdown",
     "metadata": {
      "slideshow": {
       "slide_type": "slide"
      }
     },
     "source": [
      "<img src=assets/dsmeetup.jpg />"
     ]
    },
    {
     "cell_type": "markdown",
     "metadata": {
      "slideshow": {
       "slide_type": "skip"
      }
     },
     "source": [
      "Tools to keep an eye on:\n",
      "------------------\n",
      "\n",
      "- D3.js\n",
      "- Spark\n",
      "- Julia\n"
     ]
    },
    {
     "cell_type": "markdown",
     "metadata": {
      "slideshow": {
       "slide_type": "skip"
      }
     },
     "source": [
      "Useful Languages (besides Python, R, and SQL)\n",
      "------------------\n",
      "\n",
      "- Julia\n",
      "- Scala\n",
      "- Pig\n",
      "- JavaScript\n",
      "- Java (sorry)"
     ]
    },
    {
     "cell_type": "heading",
     "level": 1,
     "metadata": {
      "slideshow": {
       "slide_type": "slide"
      }
     },
     "source": [
      "Questions?"
     ]
    }
   ],
   "metadata": {}
  }
 ]
}