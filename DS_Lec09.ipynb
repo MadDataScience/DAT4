{
 "metadata": {
  "celltoolbar": "Slideshow",
  "name": "",
  "signature": "sha256:b2fd002dcd669a8ab70b261c703302f80a983033c89dd635d83c005a75544d2f"
 },
 "nbformat": 3,
 "nbformat_minor": 0,
 "worksheets": [
  {
   "cells": [
    {
     "cell_type": "markdown",
     "metadata": {
      "slideshow": {
       "slide_type": "slide"
      }
     },
     "source": [
      "Data Science\n",
      "====\n",
      "### Classification I: K-Nearest Neighbors\n",
      "\n",
      "Instructor: Alessandro Gagliardi  \n",
      "TA: Kevin Perko"
     ]
    },
    {
     "cell_type": "markdown",
     "metadata": {
      "slideshow": {
       "slide_type": "slide"
      }
     },
     "source": [
      "### Last Time:\n",
      "\n",
      "1. R\n",
      "    1. History of R\n",
      "    2. Comparing Python and R\n",
      "2. Machine Learning\n",
      "    1. What is Machine learning?\n",
      "    2. Machine Learning Problems\n",
      "\n",
      "#### Questions?"
     ]
    },
    {
     "cell_type": "markdown",
     "metadata": {
      "slideshow": {
       "slide_type": "slide"
      }
     },
     "source": [
      "### Agenda\n",
      "\n",
      "1. Project Discussion\n",
      "2. Readiness Assessment\n",
      "1. Classification Problems\n",
      "2. Building Effective Classifiers\n",
      "3. Lab: the KNN classification Model"
     ]
    },
    {
     "cell_type": "heading",
     "level": 1,
     "metadata": {
      "slideshow": {
       "slide_type": "slide"
      }
     },
     "source": [
      "Project Discussion"
     ]
    },
    {
     "cell_type": "heading",
     "level": 1,
     "metadata": {
      "slideshow": {
       "slide_type": "slide"
      }
     },
     "source": [
      "Readiness Assessment"
     ]
    },
    {
     "cell_type": "markdown",
     "metadata": {
      "slideshow": {
       "slide_type": "slide"
      }
     },
     "source": [
      "#### Teams:\n",
      "\n",
      "<TABLE>\n",
      "    <TR><TD></TD><TD></TD><TD></TD>\n",
      "        <TD bgcolor='red'>A</TD><TD bgcolor='red'>A</TD><TD></TD>\n",
      "        <TD bgcolor='blue'>B</TD><TD bgcolor='blue'>B</TD></TR>\n",
      "    <TR><TD></TD><TD></TD><TD></TD>\n",
      "        <TD bgcolor='red'>A</TD><TD bgcolor='green'>C</TD><TD></TD>\n",
      "        <TD bgcolor='green'>C</TD><TD bgcolor='blue'>B</TD></TR>\n",
      "    <TR><TD bgcolor='purple'>E</TD><TD bgcolor='purple'>E</TD><TD></TD>\n",
      "        <TD bgcolor='yellow'>F</TD><TD bgcolor='green'>C</TD><TD></TD>\n",
      "        <TD bgcolor='orange'>D</TD><TD bgcolor='orange'>D</TD></TR>\n",
      "    <TR><TD></TD><TD bgcolor='purple'>E</TD><TD></TD>\n",
      "        <TD bgcolor='yellow'>F</TD><TD bgcolor='yellow'>F</TD><TD></TD>\n",
      "        <TD bgcolor='orange'>D</TD><TD></TD></TR>\n",
      "    <TR></TR>\n",
      "</TABLE>"
     ]
    },
    {
     "cell_type": "markdown",
     "metadata": {
      "slideshow": {
       "slide_type": "subslide"
      }
     },
     "source": [
      "Fill in the Blank\n",
      "----\n",
      "\n",
      "|         | ??? | ??? |\n",
      "|:-------:|:-------:|:-------:|\n",
      "| **???** | regression | classification |\n",
      "| **???** | dimension reduction | clustering|"
     ]
    },
    {
     "cell_type": "heading",
     "level": 1,
     "metadata": {
      "slideshow": {
       "slide_type": "slide"
      }
     },
     "source": [
      "Classification Problems"
     ]
    },
    {
     "cell_type": "markdown",
     "metadata": {
      "slideshow": {
       "slide_type": "subslide"
      }
     },
     "source": [
      "### Goals\n",
      "\n",
      "* Clarify what a **classification problem** is\n",
      "* Understand what data looks like for a classification problem\n",
      "* Review **supervised learning**\n",
      "* Determine steps required for classification"
     ]
    },
    {
     "cell_type": "markdown",
     "metadata": {
      "slideshow": {
       "slide_type": "slide"
      }
     },
     "source": [
      "<img src=\"assets/machine_learning4.png\" width=\"800\" />"
     ]
    },
    {
     "cell_type": "markdown",
     "metadata": {
      "slideshow": {
       "slide_type": "subslide"
      }
     },
     "source": [
      "<img src=\"assets/machine_learning3.png\" width=\"800\" />"
     ]
    },
    {
     "cell_type": "markdown",
     "metadata": {
      "slideshow": {
       "slide_type": "subslide"
      }
     },
     "source": [
      "<img src=\"assets/machine_learning5.png\" width=\"800\" />"
     ]
    },
    {
     "cell_type": "heading",
     "level": 2,
     "metadata": {
      "slideshow": {
       "slide_type": "slide"
      }
     },
     "source": [
      "Example Data"
     ]
    },
    {
     "cell_type": "code",
     "collapsed": false,
     "input": [
      "%load_ext rmagic"
     ],
     "language": "python",
     "metadata": {
      "slideshow": {
       "slide_type": "skip"
      }
     },
     "outputs": [],
     "prompt_number": 1
    },
    {
     "cell_type": "code",
     "collapsed": false,
     "input": [
      "%%R \n",
      "head(iris, 10)"
     ],
     "language": "python",
     "metadata": {
      "slideshow": {
       "slide_type": "-"
      }
     },
     "outputs": [
      {
       "metadata": {},
       "output_type": "display_data",
       "text": [
        "   Sepal.Length Sepal.Width Petal.Length Petal.Width Species\n",
        "1           5.1         3.5          1.4         0.2  setosa\n",
        "2           4.9         3.0          1.4         0.2  setosa\n",
        "3           4.7         3.2          1.3         0.2  setosa\n",
        "4           4.6         3.1          1.5         0.2  setosa\n",
        "5           5.0         3.6          1.4         0.2  setosa\n",
        "6           5.4         3.9          1.7         0.4  setosa\n",
        "7           4.6         3.4          1.4         0.3  setosa\n",
        "8           5.0         3.4          1.5         0.2  setosa\n",
        "9           4.4         2.9          1.4         0.2  setosa\n",
        "10          4.9         3.1          1.5         0.1  setosa\n"
       ]
      }
     ],
     "prompt_number": 2
    },
    {
     "cell_type": "markdown",
     "metadata": {
      "slideshow": {
       "slide_type": "notes"
      }
     },
     "source": [
      "Here we have 4 independent variables, and a class label (note, not a dependent variable here!)\n",
      "Q: What kind of data is is the \"Species\" label? Quantitative or Qualitative?\n",
      "Q: Given these features and label, what do you think we will be trying to predict?"
     ]
    },
    {
     "cell_type": "markdown",
     "metadata": {
      "slideshow": {
       "slide_type": "subslide"
      }
     },
     "source": [
      "What does \"supervised\" mean?\n",
      "----\n",
      "We already know the labels we are attempting to classify."
     ]
    },
    {
     "cell_type": "code",
     "collapsed": false,
     "input": [
      "%%R \n",
      "summary(iris)"
     ],
     "language": "python",
     "metadata": {
      "slideshow": {
       "slide_type": "-"
      }
     },
     "outputs": [
      {
       "metadata": {},
       "output_type": "display_data",
       "text": [
        "  Sepal.Length    Sepal.Width     Petal.Length    Petal.Width   \n",
        " Min.   :4.300   Min.   :2.000   Min.   :1.000   Min.   :0.100  \n",
        " 1st Qu.:5.100   1st Qu.:2.800   1st Qu.:1.600   1st Qu.:0.300  \n",
        " Median :5.800   Median :3.000   Median :4.350   Median :1.300  \n",
        " Mean   :5.843   Mean   :3.057   Mean   :3.758   Mean   :1.199  \n",
        " 3rd Qu.:6.400   3rd Qu.:3.300   3rd Qu.:5.100   3rd Qu.:1.800  \n",
        " Max.   :7.900   Max.   :4.400   Max.   :6.900   Max.   :2.500  \n",
        "       Species  \n",
        " setosa    :50  \n",
        " versicolor:50  \n",
        " virginica :50  \n",
        "                \n",
        "                \n",
        "                \n"
       ]
      }
     ],
     "prompt_number": 3
    },
    {
     "cell_type": "markdown",
     "metadata": {
      "slideshow": {
       "slide_type": "subslide"
      }
     },
     "source": [
      "How does a classification problem work?\n",
      "----\n",
      "Input data, output predicted labels.\n",
      "<img src=\"assets/classification_io.png\" width=\"800\" />"
     ]
    },
    {
     "cell_type": "markdown",
     "metadata": {
      "slideshow": {
       "slide_type": "subslide"
      }
     },
     "source": [
      "What steps does a classification problem require?\n",
      "----\n",
      "1. Split the dataset\n",
      "2. Train the model\n",
      "3. Test the model\n",
      "4. Make predictions with new data"
     ]
    },
    {
     "cell_type": "markdown",
     "metadata": {
      "slideshow": {
       "slide_type": "subslide"
      }
     },
     "source": [
      "### Model of breaking apart data for train, test, and output\n",
      "<img src=\"assets/test_train.png\" width=\"800\" />"
     ]
    },
    {
     "cell_type": "heading",
     "level": 1,
     "metadata": {
      "slideshow": {
       "slide_type": "slide"
      }
     },
     "source": [
      "Building Effective Classifiers"
     ]
    },
    {
     "cell_type": "markdown",
     "metadata": {
      "slideshow": {
       "slide_type": "subslide"
      }
     },
     "source": [
      "###Goals:  \n",
      "\n",
      "* Determine types of **prediction errors**\n",
      "* Explain why we use **training and test sets**\n",
      "* Explain what **\"overfitting\"** and **\"underfitting\"** mean\n",
      "* Describe the basic process of **n-fold cross validation**"
     ]
    },
    {
     "cell_type": "markdown",
     "metadata": {
      "slideshow": {
       "slide_type": "slide"
      }
     },
     "source": [
      "Life with errors\n",
      "====\n",
      "aka \"why predictive analytics is hard\""
     ]
    },
    {
     "cell_type": "markdown",
     "metadata": {
      "slideshow": {
       "slide_type": "subslide"
      }
     },
     "source": [
      "Types of errors we'll run into\n",
      "-----\n",
      "Training error  \n",
      "Generalization error  \n",
      "Out of Sample (new data) error  "
     ]
    },
    {
     "cell_type": "markdown",
     "metadata": {
      "slideshow": {
       "slide_type": "notes"
      }
     },
     "source": [
      "Note to comment about how all of these should be predicted, particularly OOS error"
     ]
    },
    {
     "cell_type": "markdown",
     "metadata": {
      "slideshow": {
       "slide_type": "skip"
      }
     },
     "source": [
      "Training error\n",
      "--------\n",
      "What happens if we had no test data and only used a training set?"
     ]
    },
    {
     "cell_type": "markdown",
     "metadata": {
      "slideshow": {
       "slide_type": "subslide"
      }
     },
     "source": [
      "#### Q: Why should we use training & test sets?"
     ]
    },
    {
     "cell_type": "markdown",
     "metadata": {
      "slideshow": {
       "slide_type": "fragment"
      }
     },
     "source": [
      "*Thought experiment:  \n",
      "Suppose instead, we train our model using the entire dataset*"
     ]
    },
    {
     "cell_type": "markdown",
     "metadata": {
      "slideshow": {
       "slide_type": "fragment"
      }
     },
     "source": [
      "*Q: How low can we push the training error?*"
     ]
    },
    {
     "cell_type": "markdown",
     "metadata": {
      "slideshow": {
       "slide_type": "fragment"
      }
     },
     "source": [
      "* *We can make the model arbitrarily complex (effectively \u201cmemorizing\u201d the entire training set).*"
     ]
    },
    {
     "cell_type": "markdown",
     "metadata": {
      "slideshow": {
       "slide_type": "fragment"
      }
     },
     "source": [
      "*A: Down to zero!*"
     ]
    },
    {
     "cell_type": "markdown",
     "metadata": {
      "slideshow": {
       "slide_type": "fragment"
      }
     },
     "source": [
      "#### This phenomenon is called overfitting."
     ]
    },
    {
     "cell_type": "markdown",
     "metadata": {
      "slideshow": {
       "slide_type": "subslide"
      }
     },
     "source": [
      "<img src=\"assets/overfitting_fig.png\" />\n",
      "_source: Data Analysis with Open Source Tools, by Philipp K. Janert. O\u2019Reilly Media, 2011_"
     ]
    },
    {
     "cell_type": "markdown",
     "metadata": {
      "slideshow": {
       "slide_type": "subslide"
      }
     },
     "source": [
      "<img src=\"assets/under_overfit.png\" />  \n",
      "_source: [dtreg.com](http://www.dtreg.com)_"
     ]
    },
    {
     "cell_type": "markdown",
     "metadata": {
      "slideshow": {
       "slide_type": "subslide"
      }
     },
     "source": [
      "<img src=\"assets/overfitting_ex.png\" width=\"600\" />  \n",
      "_source: [dtreg.com](http://www.dtreg.com)_"
     ]
    },
    {
     "cell_type": "markdown",
     "metadata": {
      "slideshow": {
       "slide_type": "notes"
      }
     },
     "source": [
      "The most significant reason why we'd consider generalization over \"overfitting\" is the cost of an algorithm. Notice how much less complicated the natural fit is compared to the \"overfit\" in this example, with only minor errors. This is much more effective for us as data scientists.\n",
      "Note that at times we might deal with \"underfitting\" as well, where we generalize our data too much.\n",
      "Let's strive to find the right fit for our data."
     ]
    },
    {
     "cell_type": "markdown",
     "metadata": {
      "slideshow": {
       "slide_type": "subslide"
      }
     },
     "source": [
      "#### Q: Why should we use training & test sets?\n",
      "\n",
      "*Thought experiment:  \n",
      "Suppose instead, we train our model using the entire dataset.*\n",
      "\n",
      "*Q: How low can we push the training error?*  \n",
      "\n",
      "* *We can make the model arbitrarily complex (effectively \u201cmemorizing\u201d the entire training set).*\n",
      "*A: Down to zero!*\n",
      "\n",
      "#### A: Training error is not a good estimate of OOS accuracy."
     ]
    },
    {
     "cell_type": "markdown",
     "metadata": {
      "slideshow": {
       "slide_type": "slide"
      }
     },
     "source": [
      "Generalization Error\n",
      "-----\n",
      "How well does the model generalize to **unseen** data?"
     ]
    },
    {
     "cell_type": "markdown",
     "metadata": {
      "slideshow": {
       "slide_type": "subslide"
      }
     },
     "source": [
      "Generalization Error\n",
      "----\n",
      "### Try training the model on a subset of the data:  \n",
      "\n",
      "<img src=\"assets/generalization-error-pace-subset1.png\"/>  \n",
      "\n",
      "### Does the error remain the same with different training data?"
     ]
    },
    {
     "cell_type": "markdown",
     "metadata": {
      "slideshow": {
       "slide_type": "subslide"
      }
     },
     "source": [
      "Generalization Error\n",
      "-----  \n",
      "<img src=\"assets/generalization-error-pace-subset2.png\"/>  \n",
      "\n",
      "### NO!"
     ]
    },
    {
     "cell_type": "markdown",
     "metadata": {
      "slideshow": {
       "slide_type": "subslide"
      }
     },
     "source": [
      "Generalization Error\n",
      "------\n",
      "* Generalization error gives a high variance estimate of OOS error\n",
      "* Insufficient training can lead to incorrect model selection"
     ]
    },
    {
     "cell_type": "markdown",
     "metadata": {
      "slideshow": {
       "slide_type": "subslide"
      }
     },
     "source": [
      "Generalization Error\n",
      "------\n",
      "### Something is still missing!"
     ]
    },
    {
     "cell_type": "markdown",
     "metadata": {
      "slideshow": {
       "slide_type": "fragment"
      }
     },
     "source": [
      "#### Q: How can we do better?"
     ]
    },
    {
     "cell_type": "markdown",
     "metadata": {
      "slideshow": {
       "slide_type": "fragment"
      }
     },
     "source": [
      "*Thought experiment:  \n",
      "Different train/test splits will give us different generalization errors.*"
     ]
    },
    {
     "cell_type": "markdown",
     "metadata": {
      "slideshow": {
       "slide_type": "fragment"
      }
     },
     "source": [
      "*Q: What if we did a bunch of these and took the average?*"
     ]
    },
    {
     "cell_type": "markdown",
     "metadata": {
      "slideshow": {
       "slide_type": "fragment"
      }
     },
     "source": [
      "*A: Now you\u2019re talking!*"
     ]
    },
    {
     "cell_type": "markdown",
     "metadata": {
      "slideshow": {
       "slide_type": "fragment"
      }
     },
     "source": [
      "#### A: Cross-validation."
     ]
    },
    {
     "cell_type": "markdown",
     "metadata": {
      "slideshow": {
       "slide_type": "slide"
      }
     },
     "source": [
      "Cross Validation\n",
      "-----\n",
      "Assessing a model using different subsets of the data for training and testing\n",
      "\n",
      "#### Examples of Cross Validation\n",
      "\n",
      "* N-fold cross validation\n",
      "* Random sub-sampling validation\n",
      "* Leave-one-out cross validation"
     ]
    },
    {
     "cell_type": "markdown",
     "metadata": {
      "slideshow": {
       "slide_type": "subslide"
      }
     },
     "source": [
      "N-fold cross validation\n",
      "------\n",
      "\n",
      "1. Randomly split the dataset into n equal groups\n",
      "2. Use partition 1 as test set & union of other groups as training \n",
      "3. Find generalization error\n",
      "4. Repeat steps 2-3 using different group as test set at each iteration\n",
      "5. Take average generalization error as estimate of OOS accuracy\n",
      "<img src=\"assets/cross-validation.jpg\" width=\"600\"/>"
     ]
    },
    {
     "cell_type": "markdown",
     "metadata": {
      "slideshow": {
       "slide_type": "skip"
      }
     },
     "source": [
      "Features of n-fold cross-validation:\n",
      "-------\n",
      "\n",
      "1. More accurate estimate of OOS prediction error.  \n",
      "\n",
      "2. More efficient use of data than single train/test split.\n",
      "    - Each record in our dataset is used for both training and testing.\n",
      "3. Presents tradeoff between efficiency and computational expense.\n",
      "    - 10-fold CV is 10x more expensive than a single train/test split\n",
      "4. Can be used for model selection."
     ]
    },
    {
     "cell_type": "heading",
     "level": 1,
     "metadata": {
      "slideshow": {
       "slide_type": "slide"
      }
     },
     "source": [
      "k-Nearest Neighbor (KNN) Classification"
     ]
    },
    {
     "cell_type": "markdown",
     "metadata": {
      "slideshow": {
       "slide_type": "subslide"
      }
     },
     "source": [
      "###Goals  \n",
      "\n",
      "* Define KNN Classification  \n",
      "* Practice KNN Classification using Training and Test Set data"
     ]
    },
    {
     "cell_type": "markdown",
     "metadata": {
      "slideshow": {
       "slide_type": "slide"
      }
     },
     "source": [
      "### What is KNN Classification?\n",
      "\n",
      "> KNN is an *non-parametric lazy* learning algorithm."
     ]
    },
    {
     "cell_type": "markdown",
     "metadata": {
      "slideshow": {
       "slide_type": "fragment"
      }
     },
     "source": [
      "#### **non-parametric**: \n",
      "does not make any assumptions on the underlying data distribution."
     ]
    },
    {
     "cell_type": "markdown",
     "metadata": {
      "slideshow": {
       "slide_type": "fragment"
      }
     },
     "source": [
      "#### **lazy**: \n",
      "does not use the training data points to do any generalization"
     ]
    },
    {
     "cell_type": "markdown",
     "metadata": {
      "slideshow": {
       "slide_type": "subslide"
      }
     },
     "source": [
      "### Parametric vs. Non-parametric\n",
      "\n",
      "Say you have the following dataset:"
     ]
    },
    {
     "cell_type": "code",
     "collapsed": false,
     "input": [
      "%%R\n",
      "c(0.001, 23.4, 17.3, 26.8, 32.8, 31.3, 34.5, 7352.3)"
     ],
     "language": "python",
     "metadata": {
      "slideshow": {
       "slide_type": "-"
      }
     },
     "outputs": [
      {
       "metadata": {},
       "output_type": "display_data",
       "text": [
        "[1]    0.001   23.400   17.300   26.800   32.800   31.300   34.500 7352.300\n"
       ]
      }
     ],
     "prompt_number": 4
    },
    {
     "cell_type": "markdown",
     "metadata": {
      "slideshow": {
       "slide_type": "fragment"
      }
     },
     "source": [
      "Because of one outlier (7352.3), standard metrics like `mean` and `sd` become meaningless."
     ]
    },
    {
     "cell_type": "code",
     "collapsed": false,
     "input": [
      "%%R\n",
      "mean(c(0.001, 23.4, 17.3, 26.8, 32.8, 31.3, 34.5, 7352.3))"
     ],
     "language": "python",
     "metadata": {
      "slideshow": {
       "slide_type": "fragment"
      }
     },
     "outputs": [
      {
       "metadata": {},
       "output_type": "display_data",
       "text": [
        "[1] 939.8001\n"
       ]
      }
     ],
     "prompt_number": 5
    },
    {
     "cell_type": "code",
     "collapsed": false,
     "input": [
      "%%R\n",
      "sd(c(0.001, 23.4, 17.3, 26.8, 32.8, 31.3, 34.5, 7352.3))"
     ],
     "language": "python",
     "metadata": {
      "slideshow": {
       "slide_type": "fragment"
      }
     },
     "outputs": [
      {
       "metadata": {},
       "output_type": "display_data",
       "text": [
        "[1] 2591.065\n"
       ]
      }
     ],
     "prompt_number": 6
    },
    {
     "cell_type": "markdown",
     "metadata": {
      "slideshow": {
       "slide_type": "subslide"
      }
     },
     "source": [
      "### Non-parametric \n",
      "\n",
      "ignore the actual value and compare only relative position, i.e. the rank.\n",
      "\n",
      "Imagine the following are the distances to eight points:\n",
      "\n",
      "    0.001, 23.4, 17.3, 26.8, 32.8, 31.3, 34.5, 7352.3\n",
      "\n",
      "is treated the same as\n",
      "\n",
      "    1, 3, 2, 4, 6, 5, 7, 8"
     ]
    },
    {
     "cell_type": "markdown",
     "metadata": {
      "slideshow": {
       "slide_type": "subslide"
      }
     },
     "source": [
      "Suppose we want to predict the color of the gray dot.\n",
      "------\n",
      "* Pick value for k\n",
      "* Find colors of k nearest neighbors\n",
      "* Assign most common color to gray dot\n",
      "<img src=\"assets/knn_example.png\" width=\"400\" />"
     ]
    },
    {
     "cell_type": "markdown",
     "metadata": {
      "slideshow": {
       "slide_type": "subslide"
      }
     },
     "source": [
      "Distance\n",
      "====\n",
      "\n",
      "* How we measure distance is very important in KNN.\n",
      "* By default, we use Euclidean distance: $d = \\sqrt{\\sum(x_i - p_i)^2}$\n",
      "* Any problems with this?"
     ]
    },
    {
     "cell_type": "markdown",
     "metadata": {
      "slideshow": {
       "slide_type": "notes"
      }
     },
     "source": [
      "What if one dimension is scaled much differently than another? (Say height in feet and weight in pounds)"
     ]
    },
    {
     "cell_type": "code",
     "collapsed": false,
     "input": [
      "%%R\n",
      "d <- data.frame(heights=c(5.42, 5.67, 5.75, 4.83), weights=c(120, 150, 110, 90))\n",
      "plot(d, pch=16)\n",
      "text(d$heights, y = d$weights + 2, labels = seq(4))\n",
      "points(x=c(4.9), y=c(101), col=2, pch=16)\n",
      "text(4.9, y = 103, labels = \"?\", col=2)"
     ],
     "language": "python",
     "metadata": {
      "slideshow": {
       "slide_type": "subslide"
      }
     },
     "outputs": [
      {
       "metadata": {},
       "output_type": "display_data",
       "png": "[encoded data removed]"
      }
     ],
     "prompt_number": 7
    },
    {
     "cell_type": "markdown",
     "metadata": {},
     "source": [
      "Which black dot is closest to the red one?"
     ]
    },
    {
     "cell_type": "code",
     "collapsed": false,
     "input": [
      "%%R\n",
      "sqrt((4.9 - d$heights)^2 + (101 - d$weights)^2)"
     ],
     "language": "python",
     "metadata": {
      "slideshow": {
       "slide_type": "subslide"
      }
     },
     "outputs": [
      {
       "metadata": {},
       "output_type": "display_data",
       "text": [
        "[1] 19.00711 49.00605  9.04005 11.00022\n"
       ]
      }
     ],
     "prompt_number": 8
    },
    {
     "cell_type": "markdown",
     "metadata": {
      "slideshow": {
       "slide_type": "subslide"
      }
     },
     "source": [
      "Moral:\n",
      "=====\n",
      "### Scale your data first!\n",
      "\n",
      "$$ x_{scaled} = \\frac{x - \\bar{x}}{\\sigma_x} $$"
     ]
    },
    {
     "cell_type": "code",
     "collapsed": false,
     "input": [
      "%%R\n",
      "d2 <- data.frame(scale(d))\n",
      "sqrt((((4.9 - mean(d$heights)) / sd(d$heights)) - d2$heights)^2 + \n",
      "     (((101 - mean(d$weights)) / sd(d$weights)) - d2$weights)^2)"
     ],
     "language": "python",
     "metadata": {
      "slideshow": {
       "slide_type": "fragment"
      }
     },
     "outputs": [
      {
       "metadata": {},
       "output_type": "display_data",
       "text": [
        "[1] 1.4625924 2.6954840 2.0741460 0.4710603\n"
       ]
      }
     ],
     "prompt_number": 9
    },
    {
     "cell_type": "markdown",
     "metadata": {
      "slideshow": {
       "slide_type": "fragment"
      }
     },
     "source": [
      "...or use a different distance metric (depending on the data)"
     ]
    },
    {
     "cell_type": "markdown",
     "metadata": {
      "slideshow": {
       "slide_type": "notes"
      }
     },
     "source": [
      "Define: Imputation"
     ]
    },
    {
     "cell_type": "markdown",
     "metadata": {
      "slideshow": {
       "slide_type": "slide"
      }
     },
     "source": [
      "Lab\n",
      "========\n",
      "1. Look at [tinyurl.com/iris-knn](https://github.com/eklypse/GA_DS_SF_2014_01/blob/master/iris_knn.r)\n",
      "2. Try it on your own categorical data.\n",
      "    1. Hold out a portion of your dataset.\n",
      "    2. See how well kNN can predict unknown labels\n",
      "    3. If it does poorly, why?\n",
      "        - Scaling?\n",
      "        - Nonlinear relationships?"
     ]
    },
    {
     "cell_type": "markdown",
     "metadata": {
      "slideshow": {
       "slide_type": "slide"
      }
     },
     "source": [
      "## Next Time:\n",
      "\n",
      "### NA\u00cfVE BAYES CLASSIFICATION"
     ]
    }
   ],
   "metadata": {}
  }
 ]
}