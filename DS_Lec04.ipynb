{
 "metadata": {
  "celltoolbar": "Slideshow",
  "name": "",
  "signature": "sha256:4888f137b809aa222d3cef41995bfa2ca596ef59a4e1c2378a4115b7e01dfbdd"
 },
 "nbformat": 3,
 "nbformat_minor": 0,
 "worksheets": [
  {
   "cells": [
    {
     "cell_type": "markdown",
     "metadata": {
      "slideshow": {
       "slide_type": "slide"
      }
     },
     "source": [
      "Data Science\n",
      "====\n",
      "### APIs, JSON, NoSQL Databases\n",
      "\n",
      "Alessandro Gagliardi  \n",
      "Sr. Data Scientist, [Glassdoor.com](Glassdoor.com)"
     ]
    },
    {
     "cell_type": "markdown",
     "metadata": {
      "slideshow": {
       "slide_type": "slide"
      }
     },
     "source": [
      "### Last Time:\n",
      "\n",
      "- #### Amazon Web Services  \n",
      "- #### StarCluster  \n",
      "- #### IPython.parallel  \n",
      "\n",
      "#### Questions?"
     ]
    },
    {
     "cell_type": "markdown",
     "metadata": {
      "slideshow": {
       "slide_type": "slide"
      }
     },
     "source": [
      "### Agenda\n",
      "\n",
      "1. APIs & JSON Lecture\n",
      "2. NoSQL Databases\n",
      "3. Lab: Twitter & MongoDB"
     ]
    },
    {
     "cell_type": "heading",
     "level": 1,
     "metadata": {
      "slideshow": {
       "slide_type": "slide"
      }
     },
     "source": [
      "A. APIs & JSON"
     ]
    },
    {
     "cell_type": "markdown",
     "metadata": {
      "slideshow": {
       "slide_type": "slide"
      }
     },
     "source": [
      "Speaking broadly:\n",
      "\n",
      "> An application programming interface (API) specifies how some software components should interact with each other.\n",
      "\n",
      "More specifically:\n",
      "\n",
      "> A web API is a programmatic interface to a defined request-response message system, typically expressed in JSON or XML, which is exposed via the web\u2014most commonly by means of an HTTP-based web server.\n",
      "\n",
      "from [Wikipedia](http://en.wikipedia.org/wiki/Application_programming_interface)"
     ]
    },
    {
     "cell_type": "markdown",
     "metadata": {
      "slideshow": {
       "slide_type": "slide"
      }
     },
     "source": [
      "Web APIs allow people to interact with the structures of an application to: \n",
      "\n",
      "- get\n",
      "- put\n",
      "- delete \n",
      "- update data"
     ]
    },
    {
     "cell_type": "markdown",
     "metadata": {
      "slideshow": {
       "slide_type": "fragment"
      }
     },
     "source": [
      "Best practices for web APIs are to use RESTful principles."
     ]
    },
    {
     "cell_type": "markdown",
     "metadata": {
      "slideshow": {
       "slide_type": "fragment"
      }
     },
     "source": [
      "REST = REpresentational State Transfer"
     ]
    },
    {
     "cell_type": "markdown",
     "metadata": {
      "slideshow": {
       "slide_type": "slide"
      }
     },
     "source": [
      "REST vs. SQL\n",
      "    \n",
      "`GET    ( ~ SELECT)`  \n",
      "`POST   ( ~ UPDATE)`  \n",
      "`PUT    ( ~ INSERT)`  \n",
      "`DELETE ( ~ DELETE)`  "
     ]
    },
    {
     "cell_type": "markdown",
     "metadata": {
      "slideshow": {
       "slide_type": "fragment"
      }
     },
     "source": [
      "<H3>RESTful web API HTTP methods</H3>\n",
      "<TABLE>\n",
      "<TR><TH>Resource</TH><TH>GET</TH><TH>PUT</TH><TH>POST</TH><TH>DELETE</TH></TR>\n",
      "<TR><TH>Collection URI, such as http://example.com/resources</TH><TD><B>List</B> the URIs and perhaps other details of the collection's members.</TD><TD><B>Replace</B> the entire collection with another collection.</TD><TD><B>Create</B> a new entry in the collection. The new entry's URI is assigned automatically and is usually returned by the operation.</TD><TD><B>Delete</B> the entire collection.</TD></TR>\n",
      "<TR><TH>Element URI, such as http://example.com/resources/item17</TH><TD><B>Retrieve</B> a representation of the addressed member of the collection, expressed in an appropriate Internet media type.</TD><TD><B>Replace</B> the addressed member of the collection, or if it doesn't exist, create it.</TD><TD>Not generally used. Treat the addressed member as a collection in its own right and create a new entry in it.</TD><TD><B>Delete</B> the addressed member of the collection.</TD></TR>\n",
      "</TABLE>\n",
      "<SMALL><I>From http://en.wikipedia.org/wiki/Representational_state_transfer</I></SMALL>"
     ]
    },
    {
     "cell_type": "markdown",
     "metadata": {
      "slideshow": {
       "slide_type": "slide"
      }
     },
     "source": [
      "#### HTTP requests can be handled easily using Python's `requests` library.\n",
      "\n",
      "First we will load our credentials which we keep in a [YAML](http://www.yaml.org/) file for safe keeping."
     ]
    },
    {
     "cell_type": "code",
     "collapsed": false,
     "input": [
      "import yaml\n",
      "credentials = yaml.load(open('/Users/alessandro.gagliardi/api_cred.yml'))"
     ],
     "language": "python",
     "metadata": {
      "slideshow": {
       "slide_type": "fragment"
      }
     },
     "outputs": [],
     "prompt_number": 1
    },
    {
     "cell_type": "markdown",
     "metadata": {
      "slideshow": {
       "slide_type": "fragment"
      }
     },
     "source": [
      "Then we pass those credentials in to a GET request using the requests library. In this case, I am querying my own user data from Github:"
     ]
    },
    {
     "cell_type": "code",
     "collapsed": false,
     "input": [
      "import requests\n",
      "r = requests.get('https://api.github.com/user', \n",
      "                 auth=(credentials['USER'], credentials['PASS']))"
     ],
     "language": "python",
     "metadata": {
      "slideshow": {
       "slide_type": "fragment"
      }
     },
     "outputs": [],
     "prompt_number": 3
    },
    {
     "cell_type": "markdown",
     "metadata": {
      "slideshow": {
       "slide_type": "fragment"
      }
     },
     "source": [
      "Requests gives us an object from which we can read its content."
     ]
    },
    {
     "cell_type": "code",
     "collapsed": false,
     "input": [
      "r.content"
     ],
     "language": "python",
     "metadata": {
      "slideshow": {
       "slide_type": "fragment"
      }
     },
     "outputs": [
      {
       "metadata": {},
       "output_type": "pyout",
       "prompt_number": 4,
       "text": [
        "'{\"login\":\"eklypse\",\"id\":896607,\"avatar_url\":\"https://gravatar.com/avatar/42c577edc388cc9d1050927da89d47cc?d=https%3A%2F%2Fidenticons.github.com%2F8ecc0615aa5020371b8eb9e4538960e6.png&r=x\",\"gravatar_id\":\"42c577edc388cc9d1050927da89d47cc\",\"url\":\"https://api.github.com/users/eklypse\",\"html_url\":\"https://github.com/eklypse\",\"followers_url\":\"https://api.github.com/users/eklypse/followers\",\"following_url\":\"https://api.github.com/users/eklypse/following{/other_user}\",\"gists_url\":\"https://api.github.com/users/eklypse/gists{/gist_id}\",\"starred_url\":\"https://api.github.com/users/eklypse/starred{/owner}{/repo}\",\"subscriptions_url\":\"https://api.github.com/users/eklypse/subscriptions\",\"organizations_url\":\"https://api.github.com/users/eklypse/orgs\",\"repos_url\":\"https://api.github.com/users/eklypse/repos\",\"events_url\":\"https://api.github.com/users/eklypse/events{/privacy}\",\"received_events_url\":\"https://api.github.com/users/eklypse/received_events\",\"type\":\"User\",\"site_admin\":false,\"name\":\"Alessandro D. Gagliardi\",\"company\":\"Glassdoor.com\",\"blog\":\"twitter.com/MadDataScience\",\"location\":\"San Francisco\",\"email\":null,\"hireable\":false,\"bio\":null,\"public_repos\":6,\"public_gists\":1,\"followers\":3,\"following\":21,\"created_at\":\"2011-07-05T20:17:04Z\",\"updated_at\":\"2014-03-05T23:50:05Z\",\"private_gists\":1,\"total_private_repos\":2,\"owned_private_repos\":0,\"disk_usage\":50178,\"collaborators\":0,\"plan\":{\"name\":\"free\",\"space\":307200,\"collaborators\":0,\"private_repos\":0}}'"
       ]
      }
     ],
     "prompt_number": 4
    },
    {
     "cell_type": "markdown",
     "metadata": {
      "slideshow": {
       "slide_type": "subslide"
      }
     },
     "source": [
      "#### One of the reasons we like JSON is that it is easy to transform into a Python `dict` object using the `json` library:"
     ]
    },
    {
     "cell_type": "code",
     "collapsed": false,
     "input": [
      "import json\n",
      "user = json.loads(r.content)\n",
      "user"
     ],
     "language": "python",
     "metadata": {
      "slideshow": {
       "slide_type": "fragment"
      }
     },
     "outputs": [
      {
       "metadata": {},
       "output_type": "pyout",
       "prompt_number": 5,
       "text": [
        "{u'avatar_url': u'https://gravatar.com/avatar/42c577edc388cc9d1050927da89d47cc?d=https%3A%2F%2Fidenticons.github.com%2F8ecc0615aa5020371b8eb9e4538960e6.png&r=x',\n",
        " u'bio': None,\n",
        " u'blog': u'twitter.com/MadDataScience',\n",
        " u'collaborators': 0,\n",
        " u'company': u'Glassdoor.com',\n",
        " u'created_at': u'2011-07-05T20:17:04Z',\n",
        " u'disk_usage': 50178,\n",
        " u'email': None,\n",
        " u'events_url': u'https://api.github.com/users/eklypse/events{/privacy}',\n",
        " u'followers': 3,\n",
        " u'followers_url': u'https://api.github.com/users/eklypse/followers',\n",
        " u'following': 21,\n",
        " u'following_url': u'https://api.github.com/users/eklypse/following{/other_user}',\n",
        " u'gists_url': u'https://api.github.com/users/eklypse/gists{/gist_id}',\n",
        " u'gravatar_id': u'42c577edc388cc9d1050927da89d47cc',\n",
        " u'hireable': False,\n",
        " u'html_url': u'https://github.com/eklypse',\n",
        " u'id': 896607,\n",
        " u'location': u'San Francisco',\n",
        " u'login': u'eklypse',\n",
        " u'name': u'Alessandro D. Gagliardi',\n",
        " u'organizations_url': u'https://api.github.com/users/eklypse/orgs',\n",
        " u'owned_private_repos': 0,\n",
        " u'plan': {u'collaborators': 0,\n",
        "  u'name': u'free',\n",
        "  u'private_repos': 0,\n",
        "  u'space': 307200},\n",
        " u'private_gists': 1,\n",
        " u'public_gists': 1,\n",
        " u'public_repos': 6,\n",
        " u'received_events_url': u'https://api.github.com/users/eklypse/received_events',\n",
        " u'repos_url': u'https://api.github.com/users/eklypse/repos',\n",
        " u'site_admin': False,\n",
        " u'starred_url': u'https://api.github.com/users/eklypse/starred{/owner}{/repo}',\n",
        " u'subscriptions_url': u'https://api.github.com/users/eklypse/subscriptions',\n",
        " u'total_private_repos': 2,\n",
        " u'type': u'User',\n",
        " u'updated_at': u'2014-03-05T23:50:05Z',\n",
        " u'url': u'https://api.github.com/users/eklypse'}"
       ]
      }
     ],
     "prompt_number": 5
    },
    {
     "cell_type": "code",
     "collapsed": false,
     "input": [
      "print user.keys()"
     ],
     "language": "python",
     "metadata": {
      "slideshow": {
       "slide_type": "skip"
      }
     },
     "outputs": [
      {
       "output_type": "stream",
       "stream": "stdout",
       "text": [
        "[u'disk_usage', u'private_gists', u'public_repos', u'site_admin', u'subscriptions_url', u'gravatar_id', u'hireable', u'id', u'followers_url', u'following_url', u'collaborators', u'total_private_repos', u'blog', u'followers', u'location', u'type', u'email', u'bio', u'gists_url', u'owned_private_repos', u'company', u'events_url', u'html_url', u'updated_at', u'plan', u'received_events_url', u'starred_url', u'public_gists', u'name', u'organizations_url', u'url', u'created_at', u'avatar_url', u'repos_url', u'following', u'login']\n"
       ]
      }
     ],
     "prompt_number": 6
    },
    {
     "cell_type": "markdown",
     "metadata": {
      "slideshow": {
       "slide_type": "subslide"
      }
     },
     "source": [
      "We can access values in this dict directly (such as my hireable status) and even render the url of my avatar:"
     ]
    },
    {
     "cell_type": "code",
     "collapsed": false,
     "input": [
      "from IPython.display import HTML\n",
      "print \"Hireable: {}\".format(user.get('hireable'))\n",
      "HTML('<img src={} />'.format(user.get('avatar_url')))"
     ],
     "language": "python",
     "metadata": {
      "slideshow": {
       "slide_type": "fragment"
      }
     },
     "outputs": [
      {
       "output_type": "stream",
       "stream": "stdout",
       "text": [
        "Hireable: False\n"
       ]
      },
      {
       "html": [
        "<img src=https://gravatar.com/avatar/42c577edc388cc9d1050927da89d47cc?d=https%3A%2F%2Fidenticons.github.com%2F8ecc0615aa5020371b8eb9e4538960e6.png&r=x />"
       ],
       "metadata": {},
       "output_type": "pyout",
       "prompt_number": 7,
       "text": [
        "<IPython.core.display.HTML at 0x1061abfd0>"
       ]
      }
     ],
     "prompt_number": 7
    },
    {
     "cell_type": "heading",
     "level": 1,
     "metadata": {
      "slideshow": {
       "slide_type": "slide"
      }
     },
     "source": [
      "Twitter API"
     ]
    },
    {
     "cell_type": "markdown",
     "metadata": {
      "slideshow": {
       "slide_type": "slide"
      }
     },
     "source": [
      "<img src=\"assets/twitter.png\" />"
     ]
    },
    {
     "cell_type": "markdown",
     "metadata": {
      "slideshow": {
       "slide_type": "slide"
      }
     },
     "source": [
      "<img src=assets/twitterlib.png />"
     ]
    },
    {
     "cell_type": "markdown",
     "metadata": {
      "slideshow": {
       "slide_type": "notes"
      }
     },
     "source": [
      "Twitter has no less than 10 python libraries. We'll be using Python Twitter Tools because it's what's used in Mining the Social Web."
     ]
    },
    {
     "cell_type": "markdown",
     "metadata": {
      "slideshow": {
       "slide_type": "skip"
      }
     },
     "source": [
      "#### Some services (like Twitter) have released Python libraries of their own to make using their API even easier."
     ]
    },
    {
     "cell_type": "code",
     "collapsed": false,
     "input": [
      "import twitter\n",
      "\n",
      "auth = twitter.oauth.OAuth(credentials['OAUTH_TOKEN'], \n",
      "                           credentials['OAUTH_TOKEN_SECRET'],\n",
      "                           credentials['CONSUMER_KEY'],\n",
      "                           credentials['CONSUMER_SECRET'])\n",
      "\n",
      "twitter_api = twitter.Twitter(auth=auth)\n",
      "\n",
      "print twitter_api"
     ],
     "language": "python",
     "metadata": {
      "slideshow": {
       "slide_type": "slide"
      }
     },
     "outputs": [
      {
       "output_type": "stream",
       "stream": "stdout",
       "text": [
        "<twitter.api.Twitter object at 0x1061fd590>\n"
       ]
      }
     ],
     "prompt_number": 9
    },
    {
     "cell_type": "markdown",
     "metadata": {
      "slideshow": {
       "slide_type": "skip"
      }
     },
     "source": [
      "#### Using a library like this, we don't even need to specify the URL (that's handled internally)."
     ]
    },
    {
     "cell_type": "markdown",
     "metadata": {
      "slideshow": {
       "slide_type": "slide"
      }
     },
     "source": [
      "Using a library like this, it's easy to do something like search for tweets mentioning `#bigdata`  \n",
      "\n",
      "The results are transformed into a Python object (which in this case is a thin wrapper around a `dict`)"
     ]
    },
    {
     "cell_type": "code",
     "collapsed": false,
     "input": [
      "bigdata = twitter_api.search.tweets(q='#bigdata', count=5)\n",
      "type(bigdata)"
     ],
     "language": "python",
     "metadata": {
      "slideshow": {
       "slide_type": "fragment"
      }
     },
     "outputs": [
      {
       "metadata": {},
       "output_type": "pyout",
       "prompt_number": 10,
       "text": [
        "twitter.api.WrappedTwitterResponse"
       ]
      }
     ],
     "prompt_number": 10
    },
    {
     "cell_type": "code",
     "collapsed": false,
     "input": [
      "for status in bigdata['statuses']:\n",
      "    print status.get('text')"
     ],
     "language": "python",
     "metadata": {
      "slideshow": {
       "slide_type": "fragment"
      }
     },
     "outputs": [
      {
       "output_type": "stream",
       "stream": "stdout",
       "text": [
        "Meet @BrotherOffice #OmniJoin at #CloudExpo NY! #Cloud #Storage #BigData #IoT #API #CloudComputing #InternetOfThings http://t.co/ZC4k0V88bl\n",
        "RT @chrswng: watch @anildash @katecrawford @alondra @stevenhodas @shaminasingh on #bigdata at @nyulaw @data_society @WhiteHouse http://t.co\u2026\n",
        "RT @katecrawford: Ten points to Alessandro Acquisti for starting his talk with this: http://t.co/ngEMOu4rrt #BigData #Measure\n",
        "Gamification comes to clinicians http://t.co/KsPk9mEiBk #gaming #bigdata #analytics\n",
        "RT @CraigMilroy: #RBS chief #analytics officer calls for \u2018UK financial services #cloud\u2019 - http://t.co/yo6khUrBmq #bigdata\n"
       ]
      }
     ],
     "prompt_number": 11
    },
    {
     "cell_type": "markdown",
     "metadata": {
      "slideshow": {
       "slide_type": "skip"
      }
     },
     "source": [
      "<img src=assets/twitterapp.png />"
     ]
    },
    {
     "cell_type": "heading",
     "level": 1,
     "metadata": {
      "slideshow": {
       "slide_type": "slide"
      }
     },
     "source": [
      "NoSQL"
     ]
    },
    {
     "cell_type": "markdown",
     "metadata": {
      "slideshow": {
       "slide_type": "slide"
      }
     },
     "source": [
      "NoSQL databases are a new trend in databases"
     ]
    },
    {
     "cell_type": "markdown",
     "metadata": {
      "slideshow": {
       "slide_type": "fragment"
      }
     },
     "source": [
      "The name **NoSQL** refers to the lack of a relational structure between stored objects. Data are *semi-structured*."
     ]
    },
    {
     "cell_type": "markdown",
     "metadata": {
      "slideshow": {
       "slide_type": "fragment"
      }
     },
     "source": [
      "Most importantly they attempt to minimize the need for **JOIN** operations, or solve other data needs"
     ]
    },
    {
     "cell_type": "markdown",
     "metadata": {
      "slideshow": {
       "slide_type": "fragment"
      }
     },
     "source": [
      "This is good for engineers but bad for data scientists."
     ]
    },
    {
     "cell_type": "markdown",
     "metadata": {
      "slideshow": {
       "slide_type": "fragment"
      }
     },
     "source": [
      "Still, NoSQL databases have their uses."
     ]
    },
    {
     "cell_type": "markdown",
     "metadata": {
      "slideshow": {
       "slide_type": "slide"
      }
     },
     "source": [
      "### What makes a NoSQL database?\n",
      "\n",
      "* Doesn't use SQL as query language\n",
      "    - usually more primitive query langauge\n",
      "    - sometimes key/value only\n",
      "* BASE rather than ACID\n",
      "    - that is, sacrifices consistency for availability\n",
      "* Schemaless\n",
      "    - that is, data need not conform to a predefined schema (i.e. *semi-structured*)"
     ]
    },
    {
     "cell_type": "markdown",
     "metadata": {
      "slideshow": {
       "slide_type": "subslide"
      }
     },
     "source": [
      "### BASE vs ACID\n",
      "\n",
      "* ACID\n",
      "    - Atomicity\n",
      "    - Consistency\n",
      "    - Isolation\n",
      "    - Durability\n",
      "* BASE\n",
      "    - Basically Available\n",
      "    - Soft-state\n",
      "    - Eventual consistency"
     ]
    },
    {
     "cell_type": "markdown",
     "metadata": {
      "slideshow": {
       "slide_type": "subslide"
      }
     },
     "source": [
      "## CAP\n",
      "\n",
      "* Consistency\n",
      "    - all nodes always give the same answer\n",
      "* Availability\n",
      "    - nodes always answer queries and accept updates\n",
      "* Partition-tolerance\n",
      "    - system continues working even if one or more nodes go down"
     ]
    },
    {
     "cell_type": "markdown",
     "metadata": {
      "slideshow": {
       "slide_type": "fragment"
      }
     },
     "source": [
      "### CAP Theorem: Pick two"
     ]
    },
    {
     "cell_type": "markdown",
     "metadata": {
      "slideshow": {
       "slide_type": "subslide"
      }
     },
     "source": [
      "### Eventual consistency\n",
      "\n",
      "* A key property of non-ACID systems\n",
      "* Means\n",
      "    - if no further changes made,\n",
      "    - eventually all nodes will be consistent\n",
      "* In itself eventual consistency is a very weak guarantee\n",
      "    - when is \"eventually\"?\n",
      "    - in practice it means the system can be inconsetent at any time\n",
      "* Stronger guarantees are sometimes made\n",
      "    - with prediction and measuring, actual behavior can be quantified\n",
      "    - in practice, systems often *appear* strongly consistent"
     ]
    },
    {
     "cell_type": "markdown",
     "metadata": {
      "slideshow": {
       "slide_type": "slide"
      }
     },
     "source": [
      "### NoSQL Examples\n",
      "\n",
      "* Memcached\n",
      "* Apache HBase\n",
      "* Cassandra\n",
      "* MongoDB\n",
      "* CouchDB\n",
      "* DynamoDB"
     ]
    },
    {
     "cell_type": "markdown",
     "metadata": {
      "slideshow": {
       "slide_type": "slide"
      }
     },
     "source": [
      "Memcached was:\n",
      "\n",
      " - Developed by LiveJournal\n",
      " - Distributed key-value store (like a Python Dict)\n",
      " - Supports two **very fast** operations: **get** and **set**\n",
      "\n",
      "Memcached is best used for storing application configuration settings, and essential \u2022\u2022caching\u2022\u2022 those settings."
     ]
    },
    {
     "cell_type": "markdown",
     "metadata": {
      "slideshow": {
       "slide_type": "slide"
      }
     },
     "source": [
      "Cassandra was:\n",
      "\n",
      " - Developed by Facebook\n",
      " - Messages application and Inbox Search\n",
      " - Key-Value (ish)\n",
      "      - Supports query by key or key range\n",
      " - Very fast writing speeds\n",
      " - Useful for record keeping, logging\n"
     ]
    },
    {
     "cell_type": "markdown",
     "metadata": {
      "slideshow": {
       "slide_type": "skip"
      }
     },
     "source": [
      "Mongo was:\n",
      "\n",
      " - Developed by 10Gen (now MongoDB, Inc)\n",
      " - Document and Collection Structure\n",
      " - BSON (JSON-like) Storage system\n",
      " - Aggregation Framework\n"
     ]
    },
    {
     "cell_type": "heading",
     "level": 1,
     "metadata": {
      "slideshow": {
       "slide_type": "slide"
      }
     },
     "source": [
      "Mongo"
     ]
    },
    {
     "cell_type": "markdown",
     "metadata": {
      "slideshow": {
       "slide_type": "slide"
      }
     },
     "source": [
      "### What is MongoDB?\n",
      "\n",
      "MongoDB is an open-source document database that provides high performance, high availability, and automatic scaling."
     ]
    },
    {
     "cell_type": "markdown",
     "metadata": {
      "slideshow": {
       "slide_type": "fragment"
      }
     },
     "source": [
      "#### Document Database\n",
      "\n",
      "A record in MongoDB is a document, which is a data structure composed of field and value pairs. MongoDB documents are similar to JSON objects. The values of fields may include other documents, arrays, and arrays of documents.\n",
      "\n",
      "<img src=http://docs.mongodb.org/v2.4/_images/crud-annotated-document.png />\n",
      "\n",
      "A MongoDB document.\n",
      "\n",
      "The advantages of using documents are:\n",
      "\n",
      "-   Documents (i.e. objects) correspond to native data types in many programming language.\n",
      "-   Embedded documents and arrays reduce need for expensive joins.\n",
      "-   Dynamic schema supports fluent polymorphism."
     ]
    },
    {
     "cell_type": "markdown",
     "metadata": {
      "slideshow": {
       "slide_type": "notes"
      }
     },
     "source": [
      "Notice how similar this looks to a Python dictionary."
     ]
    },
    {
     "cell_type": "markdown",
     "metadata": {
      "slideshow": {
       "slide_type": "slide"
      }
     },
     "source": [
      "### Let's get started:"
     ]
    },
    {
     "cell_type": "code",
     "collapsed": false,
     "input": [
      "%%bash\n",
      "mkdir -p data/db\n",
      "mongod --dbpath data/db"
     ],
     "language": "python",
     "metadata": {
      "slideshow": {
       "slide_type": "skip"
      }
     },
     "outputs": []
    },
    {
     "cell_type": "markdown",
     "metadata": {
      "slideshow": {
       "slide_type": "skip"
      }
     },
     "source": [
      "#### Let's connect to our Mongo database management server (DBMS):"
     ]
    },
    {
     "cell_type": "code",
     "collapsed": false,
     "input": [
      "from pymongo import MongoClient\n",
      "c = MongoClient()"
     ],
     "language": "python",
     "metadata": {
      "slideshow": {
       "slide_type": "fragment"
      }
     },
     "outputs": [],
     "prompt_number": 19
    },
    {
     "cell_type": "markdown",
     "metadata": {
      "slideshow": {
       "slide_type": "fragment"
      }
     },
     "source": [
      "#### Let's create a database called 'twitter':"
     ]
    },
    {
     "cell_type": "code",
     "collapsed": false,
     "input": [
      "db = c.twitter"
     ],
     "language": "python",
     "metadata": {
      "slideshow": {
       "slide_type": "fragment"
      }
     },
     "outputs": [],
     "prompt_number": 20
    },
    {
     "cell_type": "markdown",
     "metadata": {
      "slideshow": {
       "slide_type": "fragment"
      }
     },
     "source": [
      "##### Yes, it's that easy."
     ]
    },
    {
     "cell_type": "markdown",
     "metadata": {
      "slideshow": {
       "slide_type": "slide"
      }
     },
     "source": [
      "### Now let's insert the results we pulled from Twitter and store them as a document in a collection named `tweets`:"
     ]
    },
    {
     "cell_type": "code",
     "collapsed": false,
     "input": [
      "collection = db.tweets"
     ],
     "language": "python",
     "metadata": {
      "slideshow": {
       "slide_type": "fragment"
      }
     },
     "outputs": [],
     "prompt_number": 21
    },
    {
     "cell_type": "code",
     "collapsed": false,
     "input": [
      "bigdata = twitter_api.search.tweets(q='#bigdata', count=10)\n",
      "collection.insert(bigdata.get('statuses'))"
     ],
     "language": "python",
     "metadata": {
      "slideshow": {
       "slide_type": "fragment"
      }
     },
     "outputs": [
      {
       "metadata": {},
       "output_type": "pyout",
       "prompt_number": 24,
       "text": [
        "[ObjectId('532776be04295427bbc049c8'),\n",
        " ObjectId('532776be04295427bbc049c9'),\n",
        " ObjectId('532776be04295427bbc049ca'),\n",
        " ObjectId('532776be04295427bbc049cb'),\n",
        " ObjectId('532776be04295427bbc049cc'),\n",
        " ObjectId('532776be04295427bbc049cd'),\n",
        " ObjectId('532776be04295427bbc049ce'),\n",
        " ObjectId('532776be04295427bbc049cf'),\n",
        " ObjectId('532776be04295427bbc049d0'),\n",
        " ObjectId('532776be04295427bbc049d1')]"
       ]
      }
     ],
     "prompt_number": 24
    },
    {
     "cell_type": "markdown",
     "metadata": {
      "slideshow": {
       "slide_type": "slide"
      }
     },
     "source": [
      "Notice that MongoDB returns with something called an `ObjectId` for each document we insert."
     ]
    },
    {
     "cell_type": "markdown",
     "metadata": {
      "slideshow": {
       "slide_type": "fragment"
      }
     },
     "source": [
      "**ObjectId** is a 12-byte **BSON** type, constructed using:\n",
      "\n",
      "-    a 4-byte value representing the seconds since the Unix epoch,\n",
      "-    a 3-byte machine identifier,\n",
      "-    a 2-byte process id, and\n",
      "-    a 3-byte counter, starting with a random value.\n",
      "\n",
      "In MongoDB, documents stored in a collection require a unique `_id` field that acts as a **primary key**. Because ObjectIds are small, most likely unique, and fast to generate, MongoDB uses ObjectIds as the default value for the `_id` field if the `_id` field is not specified. \n",
      "\n",
      "<!--small><i>from http://docs.mongodb.org/manual/reference/object-id/</i></small-->"
     ]
    },
    {
     "cell_type": "markdown",
     "metadata": {
      "slideshow": {
       "slide_type": "slide"
      }
     },
     "source": [
      "### Now let's test the contents of our database:"
     ]
    },
    {
     "cell_type": "code",
     "collapsed": false,
     "input": [
      "c.database_names()"
     ],
     "language": "python",
     "metadata": {
      "slideshow": {
       "slide_type": "fragment"
      }
     },
     "outputs": [
      {
       "metadata": {},
       "output_type": "pyout",
       "prompt_number": 25,
       "text": [
        "[u'local', u'test_database', u'twitter']"
       ]
      }
     ],
     "prompt_number": 25
    },
    {
     "cell_type": "code",
     "collapsed": false,
     "input": [
      "c.twitter.collection_names()"
     ],
     "language": "python",
     "metadata": {
      "slideshow": {
       "slide_type": "fragment"
      }
     },
     "outputs": [
      {
       "metadata": {},
       "output_type": "pyout",
       "prompt_number": 26,
       "text": [
        "[u'system.indexes', u'tweets']"
       ]
      }
     ],
     "prompt_number": 26
    },
    {
     "cell_type": "code",
     "collapsed": false,
     "input": [
      "c.twitter.tweets.find_one()"
     ],
     "language": "python",
     "metadata": {
      "slideshow": {
       "slide_type": "fragment"
      }
     },
     "outputs": [
      {
       "metadata": {},
       "output_type": "pyout",
       "prompt_number": 27,
       "text": [
        "{u'_id': ObjectId('52e5ee2062964a1140834b6e'),\n",
        " u'contributors': None,\n",
        " u'coordinates': None,\n",
        " u'created_at': u'Sun Jan 26 15:11:20 +0000 2014',\n",
        " u'entities': {u'hashtags': [{u'indices': [21, 51],\n",
        "    u'text': u'MentionSomeoneImportantForYou'}],\n",
        "  u'symbols': [],\n",
        "  u'urls': [],\n",
        "  u'user_mentions': [{u'id': 357831966,\n",
        "    u'id_str': u'357831966',\n",
        "    u'indices': [3, 19],\n",
        "    u'name': u'Shanelly Mancera\\u221e',\n",
        "    u'screen_name': u'ShanellyMancera'}]},\n",
        " u'favorite_count': 0,\n",
        " u'favorited': False,\n",
        " u'geo': None,\n",
        " u'id': 427458742427193345L,\n",
        " u'id_str': u'427458742427193345',\n",
        " u'in_reply_to_screen_name': None,\n",
        " u'in_reply_to_status_id': None,\n",
        " u'in_reply_to_status_id_str': None,\n",
        " u'in_reply_to_user_id': None,\n",
        " u'in_reply_to_user_id_str': None,\n",
        " u'lang': u'de',\n",
        " u'metadata': {u'iso_language_code': u'de', u'result_type': u'recent'},\n",
        " u'place': None,\n",
        " u'retweet_count': 2,\n",
        " u'retweeted': False,\n",
        " u'retweeted_status': {u'contributors': None,\n",
        "  u'coordinates': None,\n",
        "  u'created_at': u'Thu Mar 28 01:40:23 +0000 2013',\n",
        "  u'entities': {u'hashtags': [{u'indices': [0, 30],\n",
        "     u'text': u'MentionSomeoneImportantForYou'}],\n",
        "   u'symbols': [],\n",
        "   u'urls': [],\n",
        "   u'user_mentions': []},\n",
        "  u'favorite_count': 1,\n",
        "  u'favorited': False,\n",
        "  u'geo': None,\n",
        "  u'id': 317088747084726272L,\n",
        "  u'id_str': u'317088747084726272',\n",
        "  u'in_reply_to_screen_name': None,\n",
        "  u'in_reply_to_status_id': None,\n",
        "  u'in_reply_to_status_id_str': None,\n",
        "  u'in_reply_to_user_id': None,\n",
        "  u'in_reply_to_user_id_str': None,\n",
        "  u'lang': u'de',\n",
        "  u'metadata': {u'iso_language_code': u'de', u'result_type': u'recent'},\n",
        "  u'place': None,\n",
        "  u'retweet_count': 2,\n",
        "  u'retweeted': False,\n",
        "  u'source': u'<a href=\"http://blackberry.com/twitter\" rel=\"nofollow\">Twitter for BlackBerry\\xae</a>',\n",
        "  u'text': u'#MentionSomeoneImportantForYou. @MaiiraAgamez*.*',\n",
        "  u'truncated': False,\n",
        "  u'user': {u'contributors_enabled': False,\n",
        "   u'created_at': u'Thu Aug 18 23:54:04 +0000 2011',\n",
        "   u'default_profile': False,\n",
        "   u'default_profile_image': False,\n",
        "   u'description': u'I find your lips so kissable\\u2661.',\n",
        "   u'entities': {u'description': {u'urls': []}},\n",
        "   u'favourites_count': 123,\n",
        "   u'follow_request_sent': False,\n",
        "   u'followers_count': 107,\n",
        "   u'following': False,\n",
        "   u'friends_count': 66,\n",
        "   u'geo_enabled': False,\n",
        "   u'id': 357831966,\n",
        "   u'id_str': u'357831966',\n",
        "   u'is_translator': False,\n",
        "   u'lang': u'es',\n",
        "   u'listed_count': 2,\n",
        "   u'location': u'Colombia ',\n",
        "   u'name': u'Shanelly Mancera\\u221e',\n",
        "   u'notifications': False,\n",
        "   u'profile_background_color': u'FFFFFF',\n",
        "   u'profile_background_image_url': u'http://a0.twimg.com/profile_background_images/378800000116854775/2a48a1dc6b3d112b1ec0d8d79b524183.png',\n",
        "   u'profile_background_image_url_https': u'https://si0.twimg.com/profile_background_images/378800000116854775/2a48a1dc6b3d112b1ec0d8d79b524183.png',\n",
        "   u'profile_background_tile': True,\n",
        "   u'profile_banner_url': u'https://pbs.twimg.com/profile_banners/357831966/1389731941',\n",
        "   u'profile_image_url': u'http://pbs.twimg.com/profile_images/413890256362954753/HruWzpvE_normal.jpeg',\n",
        "   u'profile_image_url_https': u'https://pbs.twimg.com/profile_images/413890256362954753/HruWzpvE_normal.jpeg',\n",
        "   u'profile_link_color': u'7925F7',\n",
        "   u'profile_sidebar_border_color': u'FFFFFF',\n",
        "   u'profile_sidebar_fill_color': u'DDEEF6',\n",
        "   u'profile_text_color': u'333333',\n",
        "   u'profile_use_background_image': True,\n",
        "   u'protected': False,\n",
        "   u'screen_name': u'ShanellyMancera',\n",
        "   u'statuses_count': 6765,\n",
        "   u'time_zone': None,\n",
        "   u'url': None,\n",
        "   u'utc_offset': None,\n",
        "   u'verified': False}},\n",
        " u'source': u'web',\n",
        " u'text': u'RT @ShanellyMancera: #MentionSomeoneImportantForYou. @MaiiraAgamez*.*',\n",
        " u'truncated': False,\n",
        " u'user': {u'contributors_enabled': False,\n",
        "  u'created_at': u'Sat Jun 18 18:35:09 +0000 2011',\n",
        "  u'default_profile': False,\n",
        "  u'default_profile_image': False,\n",
        "  u'description': u'29-10-13 MEJOR DIA DE MI VIDA LO VI A EL MEJOR IDOLO',\n",
        "  u'entities': {u'description': {u'urls': []}},\n",
        "  u'favourites_count': 342,\n",
        "  u'follow_request_sent': False,\n",
        "  u'followers_count': 464,\n",
        "  u'following': False,\n",
        "  u'friends_count': 349,\n",
        "  u'geo_enabled': True,\n",
        "  u'id': 319778294,\n",
        "  u'id_str': u'319778294',\n",
        "  u'is_translator': False,\n",
        "  u'lang': u'es',\n",
        "  u'listed_count': 1,\n",
        "  u'location': u'',\n",
        "  u'name': u'HERE FOR JUSTIN',\n",
        "  u'notifications': False,\n",
        "  u'profile_background_color': u'FF6699',\n",
        "  u'profile_background_image_url': u'http://abs.twimg.com/images/themes/theme11/bg.gif',\n",
        "  u'profile_background_image_url_https': u'https://abs.twimg.com/images/themes/theme11/bg.gif',\n",
        "  u'profile_background_tile': True,\n",
        "  u'profile_banner_url': u'https://pbs.twimg.com/profile_banners/319778294/1386618466',\n",
        "  u'profile_image_url': u'http://pbs.twimg.com/profile_images/427388457049407489/NyDqsaxn_normal.jpeg',\n",
        "  u'profile_image_url_https': u'https://pbs.twimg.com/profile_images/427388457049407489/NyDqsaxn_normal.jpeg',\n",
        "  u'profile_link_color': u'B40B43',\n",
        "  u'profile_sidebar_border_color': u'CC3366',\n",
        "  u'profile_sidebar_fill_color': u'E5507E',\n",
        "  u'profile_text_color': u'362720',\n",
        "  u'profile_use_background_image': True,\n",
        "  u'protected': False,\n",
        "  u'screen_name': u'Mayra__S',\n",
        "  u'statuses_count': 22149,\n",
        "  u'time_zone': u'Central Time (US & Canada)',\n",
        "  u'url': None,\n",
        "  u'utc_offset': -21600,\n",
        "  u'verified': False}}"
       ]
      }
     ],
     "prompt_number": 27
    },
    {
     "cell_type": "markdown",
     "metadata": {
      "slideshow": {
       "slide_type": "notes"
      }
     },
     "source": [
      "Notice the `_id` included in the document along with the values we already saw before."
     ]
    },
    {
     "cell_type": "markdown",
     "metadata": {
      "slideshow": {
       "slide_type": "slide"
      }
     },
     "source": [
      "Now that we have our data in MongoDB, we can use some of it's search functionality. For example:"
     ]
    },
    {
     "cell_type": "code",
     "collapsed": false,
     "input": [
      "popular_tweets = collection.find({'retweet_count': {\"$gte\": 3}})\n",
      "popular_tweets.count()"
     ],
     "language": "python",
     "metadata": {
      "slideshow": {
       "slide_type": "fragment"
      }
     },
     "outputs": [
      {
       "metadata": {},
       "output_type": "pyout",
       "prompt_number": 59,
       "text": [
        "6"
       ]
      }
     ],
     "prompt_number": 59
    },
    {
     "cell_type": "markdown",
     "metadata": {
      "slideshow": {
       "slide_type": "skip"
      }
     },
     "source": [
      "Using ObjectIds for the `_id` field provides the following additional benefits:\n",
      "\n",
      "- you can access the insertion time of the ObjectId, using the `.generation_time` property in pymongo. \n",
      "- sorting on an `_id` field that stores ObjectId values is roughly equivalent to sorting by insertion time."
     ]
    },
    {
     "cell_type": "markdown",
     "metadata": {
      "slideshow": {
       "slide_type": "slide"
      }
     },
     "source": [
      "#Lab\n",
      "## Basic:\n",
      "1. Twitter\n",
      "    * [http://tinyurl.com/GAtwitterlab](http://nbviewer.ipython.org/github/ptwobrussell/Mining-the-Social-Web-2nd-Edition/blob/master/ipynb/Chapter%201%20-%20Mining%20Twitter.ipynb) up through Exercise 5  \n",
      "2. Mongo\n",
      "    * `pip install pymongo`\n",
      "    * [http://tinyurl.com/GAmongolab](https://github.com/mongolab/mongodb-driver-examples/blob/master/python/pymongo_simple_example.py)\n",
      "3. Twitter + Mongo\n",
      "    * insert `search_results['statuses']` from Exercise 5 into a new Mongo database named `tweets`\n",
      "    * `find_one` where `retweet_count` is greater than or equal to `\"$gte\": 3`  \n",
      "    \n",
      "## Advanced:\n",
      "1. Finish: [http://tinyurl.com/GAtwitterlab](http://nbviewer.ipython.org/github/ptwobrussell/Mining-the-Social-Web-2nd-Edition/blob/master/ipynb/Chapter%201%20-%20Mining%20Twitter.ipynb)\n",
      "2. Use the Aggregation Framework in Mongo: [http://docs.mongodb.org/manual/aggregation/](http://docs.mongodb.org/manual/aggregation/)\n"
     ]
    },
    {
     "cell_type": "markdown",
     "metadata": {
      "slideshow": {
       "slide_type": "slide"
      }
     },
     "source": [
      "### Next week:\n",
      "\n",
      "Monday: Structured Data\n",
      "\n",
      "- Relational Theory and SQL\n",
      "- Data Frames\n",
      "\n",
      "Wednesday: Exploring Data\n",
      "\n",
      "- Visualization and Summary Statistics\n",
      "- R & ggplot2"
     ]
    }
   ],
   "metadata": {}
  }
 ]
}