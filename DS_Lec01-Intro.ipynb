{
 "metadata": {
  "celltoolbar": "Slideshow",
  "name": ""
 },
 "nbformat": 3,
 "nbformat_minor": 0,
 "worksheets": [
  {
   "cells": [
    {
     "cell_type": "markdown",
     "metadata": {
      "slideshow": {
       "slide_type": "slide"
      }
     },
     "source": [
      "Data Science\n",
      "====\n",
      "### Introduction and Overview\n",
      "\n",
      "Alessandro Gagliardi  \n",
      "Sr. Data Scientist, [Glassdoor.com](Glassdoor.com)"
     ]
    },
    {
     "cell_type": "heading",
     "level": 1,
     "metadata": {
      "slideshow": {
       "slide_type": "slide"
      }
     },
     "source": [
      "Welcome!"
     ]
    },
    {
     "cell_type": "markdown",
     "metadata": {
      "slideshow": {
       "slide_type": "notes"
      }
     },
     "source": [
      "Welcome to General Assembly's Data Science course."
     ]
    },
    {
     "cell_type": "markdown",
     "metadata": {
      "slideshow": {
       "slide_type": "slide"
      }
     },
     "source": [
      "<table border=\"0\" style=\"border-collapse:collapse;\" cellspacing=\"0\">\n",
      "<tr><td>Instructor:<td>Alessandro Gagliardi</td></tr>\n",
      "<tr><td></td><td>[ADFGagliardi+GA@Gmail.com](mailto:adfgagliardi+ga@gmail.com)</td></tr>\n",
      "<tr><td>TA:<td>Kevin Perko</td></tr>\n",
      "<tr><td></td><td>[KevinJPerko+GA@Gmail.com](mailto:kevinjperko+ga@gmail.com)</td></tr>\n",
      "<tr><td>Classes:<td>6:00pm-9:00pm, Mondays and Wednesdays</td></tr>\n",
      "<tr><td></td><td>January 20 \u2013 April 7, 2014 (no class February 17)</td></tr>\n",
      "<tr><td>Office Hours:<td>9:00pm-10:00pm Wednesdays after class</td></tr>\n",
      "<tr><td></td><td>or by appointment</td></tr>\n",
      "<!--tr><td>Outside of classwork:<td>Roughly 3 hours a week.-->\n",
      "</table>"
     ]
    },
    {
     "cell_type": "markdown",
     "metadata": {
      "slideshow": {
       "slide_type": "notes"
      }
     },
     "source": [
      "The class will meet every Monday and Wednesday until April 7 except for February 17 which is Presidents' Day.  \n",
      "\n",
      "Kevin, your TA, will hold office hours will be held immediately following class on Wednesdays and either of us will be available by appointment."
     ]
    },
    {
     "cell_type": "markdown",
     "metadata": {
      "slideshow": {
       "slide_type": "slide"
      }
     },
     "source": [
      "## Who am I?\n",
      "\n",
      "- 1997 - 2001 - Studied Computer Science at UC Santa Cruz  \n",
      "- 2001 - 2002 - Developed web-based educational CRM at TMP.Worldwide in New York  \n",
      "- 2002 - 2003 - Took some time off  \n",
      "- 2003 - 2005 - Worked as a independent consultant for startups in New York\n",
      "- 2005 - 2010 - Studient Integrative Neuroscience at Rutgers\n",
      "- 2010 - 2011 - Taught Psychology and Neuroscience at USF, NDNU, CIIS \n",
      "- 2011 - 2014 - Returned to industry as a Data Scientist at Socialize (R.I.P.), Path, and Glassdoor"
     ]
    },
    {
     "cell_type": "markdown",
     "metadata": {
      "slideshow": {
       "slide_type": "slide"
      }
     },
     "source": [
      "## Who are you?\n",
      "\n",
      "- Your name\n",
      "- Where you work and what you do there\n",
      "- What you hope to get out of this course (in 1 sentence, please)"
     ]
    },
    {
     "cell_type": "markdown",
     "metadata": {
      "slideshow": {
       "slide_type": "slide"
      }
     },
     "source": [
      "1. Lecture  \n",
      "    A. What is Data Science?  \n",
      "    B. Goals of the Course  \n",
      "2. Lab  \n",
      "    A. Git setup  \n",
      "    B. IPython Notebook setup  \n",
      "    C. Working in Python"
     ]
    },
    {
     "cell_type": "markdown",
     "metadata": {
      "slideshow": {
       "slide_type": "slide"
      }
     },
     "source": [
      "But first..."
     ]
    },
    {
     "cell_type": "markdown",
     "metadata": {
      "slideshow": {
       "slide_type": "notes"
      }
     },
     "source": [
      "Since today's my birthday, I thought I might have us warm up our brains with..."
     ]
    },
    {
     "cell_type": "markdown",
     "metadata": {
      "slideshow": {
       "slide_type": "subslide"
      }
     },
     "source": [
      "# The Birthday Paradox!\n",
      "(credit to [Balthazar Rouberol](https://gist.github.com/brouberol/6524605) for preparing what follows)\n",
      "\n",
      "Given a sample of _n_ people, we would like to calculate the probability _p_ that _at least_ one person has the same birthday as _any_ other person in the group.  \n",
      "<br />"
     ]
    },
    {
     "cell_type": "markdown",
     "metadata": {
      "slideshow": {
       "slide_type": "notes"
      }
     },
     "source": [
      "First: how many know this paradox? Keep the answer to yourselves.  \n",
      "\n",
      "The rest of you: how big do you think this class would have to be in order for there to be >50% chance that two people have the same birthday?  \n",
      "\n",
      "Alternatively, what are the chances that two people in this class have the same birthday (including the TA and me)."
     ]
    },
    {
     "cell_type": "markdown",
     "metadata": {
      "slideshow": {
       "slide_type": "fragment"
      }
     },
     "source": [
      "### Assumptions:\n",
      "\n",
      "* the probability distribution is uniform\n",
      "* all events are independant from each other  \n",
      "<br />"
     ]
    },
    {
     "cell_type": "markdown",
     "metadata": {
      "slideshow": {
       "slide_type": "fragment"
      }
     },
     "source": [
      "P(A) is the probability of at least two people sharing the same birthday.\n",
      "P(A') is the probability that all birthdays are different.\n",
      "\n",
      "\\begin{equation}\n",
      "    P(A') = 1 - P(A)\n",
      "\\end{equation}"
     ]
    },
    {
     "cell_type": "markdown",
     "metadata": {
      "slideshow": {
       "slide_type": "subslide"
      }
     },
     "source": [
      "## Calculating the probability\n",
      "\n",
      "From [Wikipedia](http://en.wikipedia.org/wiki/Birthday_problem)\n",
      "\n",
      "P(A') could be calculated as P(1) \u00d7 P(2) \u00d7 P(3) \u00d7 ... \u00d7 P(20).\n",
      "\n",
      "The 20 independent events correspond to the 20 people, and can be defined in order. Each event can be defined as the corresponding person not sharing his/her birthday with any of the previously analyzed people. For Event 1, there are no previously analyzed people. Therefore, the probability, P(1), that person number 1 does not share his/her birthday with previously analyzed people is 1, or 100%. Ignoring leap years for this analysis, the probability of 1 can also be written as 365/365, for reasons that will become clear below.\n",
      "    \n",
      "For Event 2, the only previously analyzed people is Person 1. Assuming that birthdays are equally likely to happen on each of the 365 days of the year, the probability, P(2), that Person 2 has a different birthday than Person 1 is 364/365. This is because, if Person 2 was born on any of the other 364 days of the year, Persons 1 and 2 will not share the same birthday."
     ]
    },
    {
     "cell_type": "markdown",
     "metadata": {
      "slideshow": {
       "slide_type": "subslide"
      }
     },
     "source": [
      "Similarly, if Person 3 is born on any of the 363 days of the year other than the birthdays of Persons 1 and 2, Person 3 will not share their birthday. This makes the probability P(3) = 363/365.\n",
      "    \n",
      "This analysis continues until Person 20 is reached, whose probability of not sharing his/her birthday with people analyzed before, P(20), is 346/365.\n",
      "    \n",
      "P(A') is equal to the product of these individual probabilities:\n",
      "\n",
      "        (1) P(A') = 365/365 \u00d7 364/365 \u00d7 363/365 \u00d7 362/365 \u00d7 ... \u00d7 346/365\n",
      "\n",
      "The terms of equation (1) can be collected to arrive at:\n",
      "\n",
      "        (2) P(A') = (1/365)^23 \u00d7 (365 \u00d7 364 \u00d7 363 \u00d7 ... \u00d7 346)\n",
      "                  = 0.588\n",
      "\n",
      "        (3) P(A) = 1 - P(A') = 0.411 = 41.1%"
     ]
    },
    {
     "cell_type": "markdown",
     "metadata": {
      "slideshow": {
       "slide_type": "skip"
      }
     },
     "source": [
      "## Generalization"
     ]
    },
    {
     "cell_type": "markdown",
     "metadata": {
      "slideshow": {
       "slide_type": "skip"
      }
     },
     "source": [
      "\\begin{eqnarray}\n",
      "P(n') &=& 1 \\times (1 - \\dfrac{1}{365}) \\times (1 - \\dfrac{2}{365}) \\times ... \\times (1 - \\dfrac{n+1}{365}) \\\\\n",
      "      &=& \\dfrac{365 \\times 364 \\times ... \\times (365 - n + 1)}{365^{n}} \\\\\n",
      "      &=& \\dfrac{365!}{365^{n} . (365 - n)!}\\\\\n",
      "\\end{eqnarray}"
     ]
    },
    {
     "cell_type": "markdown",
     "metadata": {
      "slideshow": {
       "slide_type": "skip"
      }
     },
     "source": [
      "\\begin{equation}\n",
      "P(n) = 1 - P(n') = 1 - \\dfrac{365!}{365^{n} . (365 - n)!}\n",
      "             \\end{equation}"
     ]
    },
    {
     "cell_type": "code",
     "collapsed": false,
     "input": [
      "from __future__ import division\n",
      "\n",
      "import math\n",
      "\n",
      "def pn_dash(n):\n",
      "    \"\"\"Returns probability that no birthday occur the same day in a group of n people.\"\"\"\n",
      "    return math.factorial(365) / (365**n * math.factorial(365 - n)) \n",
      "\n",
      "def pn(n):\n",
      "    \"\"\"Returns probability that birthday of at least 2 people occur same day in group of n people.\"\"\"\n",
      "    return 1 - pn_dash(n)"
     ],
     "language": "python",
     "metadata": {
      "slideshow": {
       "slide_type": "subslide"
      }
     },
     "outputs": [],
     "prompt_number": 1
    },
    {
     "cell_type": "code",
     "collapsed": false,
     "input": [
      "# Let's calculate it for 20 people\n",
      "print '{:0.2f}%' . format(pn(20) * 100)"
     ],
     "language": "python",
     "metadata": {
      "slideshow": {
       "slide_type": "fragment"
      }
     },
     "outputs": [
      {
       "output_type": "stream",
       "stream": "stdout",
       "text": [
        "41.14%\n"
       ]
      }
     ],
     "prompt_number": 2
    },
    {
     "cell_type": "code",
     "collapsed": false,
     "input": [
      "nb_people = range(0, 85, 5)\n",
      "p_birthday = [pn(n) for n in nb_people]\n",
      "\n",
      "for n, p in zip(nb_people, p_birthday):\n",
      "    print 'n = {:2} -> p = {:.2f}%'.format(n, p * 100)"
     ],
     "language": "python",
     "metadata": {
      "slideshow": {
       "slide_type": "subslide"
      }
     },
     "outputs": [
      {
       "output_type": "stream",
       "stream": "stdout",
       "text": [
        "n =  0 -> p = 0.00%\n",
        "n =  5 -> p = 2.71%\n",
        "n = 10 -> p = 11.69%\n",
        "n = 15 -> p = 25.29%\n",
        "n = 20 -> p = 41.14%\n",
        "n = 25 -> p = 56.87%\n",
        "n = 30 -> p = 70.63%\n",
        "n = 35 -> p = 81.44%\n",
        "n = 40 -> p = 89.12%\n",
        "n = 45 -> p = 94.10%\n",
        "n = 50 -> p = 97.04%\n",
        "n = 55 -> p = 98.63%\n",
        "n = 60 -> p = 99.41%\n",
        "n = 65 -> p = 99.77%\n",
        "n = 70 -> p = 99.92%\n",
        "n = 75 -> p = 99.97%\n",
        "n = 80 -> p = 99.99%\n"
       ]
      }
     ],
     "prompt_number": 3
    },
    {
     "cell_type": "code",
     "collapsed": false,
     "input": [
      "%pylab inline"
     ],
     "language": "python",
     "metadata": {
      "slideshow": {
       "slide_type": "skip"
      }
     },
     "outputs": [
      {
       "output_type": "stream",
       "stream": "stdout",
       "text": [
        "Populating the interactive namespace from numpy and matplotlib\n"
       ]
      }
     ],
     "prompt_number": 4
    },
    {
     "cell_type": "code",
     "collapsed": false,
     "input": [
      "# Main plot layout\n",
      "f, ax = plt.subplots()\n",
      "ax.set_yticks(np.arange(0, 1.1, 0.1))\n",
      "plt.ylabel('probability')\n",
      "f.text(x=0.5, y=0.975, s='Probability distribution of birthday collision for a sample of n people', horizontalalignment='center', verticalalignment='top')\n",
      "\n",
      "plt.plot(nb_people, p_birthday, label='$p(n)$', color='r')\n",
      "plt.plot(nb_people, [pn_dash(n) for n in nb_people],label='$p(\\overline{n})$',color='b')\n",
      "\n",
      "n_p50, p50 = [(n, pn(n)) for n in xrange(0, 100) if round(pn(n), 2) in [0.5, 0.51]][0]\n",
      "plt.axhline(y=p50, xmax=n_p50/80., linestyle='--', color='grey')\n",
      "plt.axvline(x=n_p50, ymax=p50, linestyle='--', color=\"grey\")\n",
      "\n",
      "plt.legend(loc='center right')\n",
      "plt.text(n_p50 - 1, -0.055, '23')"
     ],
     "language": "python",
     "metadata": {
      "slideshow": {
       "slide_type": "subslide"
      }
     },
     "outputs": [
      {
       "metadata": {},
       "output_type": "pyout",
       "prompt_number": 5,
       "text": [
        "<matplotlib.text.Text at 0x105bd0ad0>"
       ]
      },
      {
       "metadata": {},
       "output_type": "display_data",
       "png": "[encoded data removed]",
       "text": [
        "<matplotlib.figure.Figure at 0x10579f1d0>"
       ]
      }
     ],
     "prompt_number": 5
    },
    {
     "cell_type": "markdown",
     "metadata": {
      "slideshow": {
       "slide_type": "subslide"
      }
     },
     "source": [
      "## Conclusion\n",
      "\n",
      "In a group of 23 people, there is a probability of approximately 50% of finding at least two people with the same birthday, contrary to what your intuition could tell you! "
     ]
    },
    {
     "cell_type": "markdown",
     "metadata": {
      "slideshow": {
       "slide_type": "slide"
      }
     },
     "source": [
      "A. What is Data Science?\n",
      "====\n",
      "(And what does the birthday paradox have to do with it?)"
     ]
    },
    {
     "cell_type": "markdown",
     "metadata": {
      "slideshow": {
       "slide_type": "notes"
      }
     },
     "source": [
      "List examples:  \n",
      "\n",
      "- Recommendation Engines\n",
      "    - Collaborative Filtering (Amazon, Netflix)\n",
      "    - PYMK (LinkedIn, etc.)\n",
      "    - Other (Pandora, etc.)\n",
      "- Data Viz (NYT, etc.)\n",
      "- Fraud detection\n",
      "- Business Intelligence (Obama 2012, etc.)"
     ]
    },
    {
     "cell_type": "heading",
     "level": 2,
     "metadata": {
      "slideshow": {
       "slide_type": "slide"
      }
     },
     "source": [
      "Data Science = Data + Science"
     ]
    },
    {
     "cell_type": "markdown",
     "metadata": {
      "slideshow": {
       "slide_type": "subslide"
      }
     },
     "source": [
      "## Data can be:"
     ]
    },
    {
     "cell_type": "markdown",
     "metadata": {
      "slideshow": {
       "slide_type": "notes"
      }
     },
     "source": [
      "1. Most data does not conform to any predetermined schema. Must ETL it first. Will cover next class.\n",
      "2. Machine-readable but unpredictable. Good for communication. Bad for analysis. Mongo, XML, JSON, etc. Will cover Monday.\n",
      "3. Must be structured prior to analysis. Fields always there, always same type. SQL, R, Pandas. Next week and beyond.\n",
      "    - Excel is semi-structured but has some structured capabilities. Special case."
     ]
    },
    {
     "cell_type": "markdown",
     "metadata": {
      "slideshow": {
       "slide_type": "fragment"
      }
     },
     "source": [
      "### Unstructured (e.g. Email, Photos, Books, etc.)"
     ]
    },
    {
     "cell_type": "markdown",
     "metadata": {
      "slideshow": {
       "slide_type": "fragment"
      }
     },
     "source": [
      "### Semi-Structured (e.g. XML, JSON, NoSQL, APIs, etc.)"
     ]
    },
    {
     "cell_type": "markdown",
     "metadata": {
      "slideshow": {
       "slide_type": "fragment"
      }
     },
     "source": [
      "### Structured (e.g. SQL, Data Frames, etc.)"
     ]
    },
    {
     "cell_type": "markdown",
     "metadata": {
      "slideshow": {
       "slide_type": "skip"
      }
     },
     "source": [
      "1. Most data in the world is unstructured. That is, it does not conform to any predetermined computer-readable form. Before we can work with this sort of data, we need to extract it, transform it into something usable, and load it into our system, whatever that system may be. Extract, transform, load is ETL and its one of the less glamorous and more time consuming parts of the job, so it is important to know how to do it efficiently. We will cover this in the next class.\n",
      "2. Semi-structured data is a relatively new thing and has a lot to do with the web. Semi-structured data is machine readable but does not conform to a rigid structure. This is both a blessing and a curse. The flexibility it provides makes it a lot easier for different systems to talk to one another. But that same flexibility makes working with the data in aggregate more difficult. Many \"NoSQL\" databases use a semi-structured schema. Those of you who are over 30 probably remember XML which was a popular standard for semi-structured in the late 90's and early 2000's. Fortunately, XML has largely been replaced by JSON which is easier to read by both humans (because it doesn't have so many angle brackets) and computers (because it is less flexible and therefore less ambiguous). We will be covering how to work with this sort of data next Monday. \n",
      "3. Ultimately, Data Scientists need our data to be structured before we can do anything with it. Relational databases are structured. And once we get into Pandas and R, we will learn about data frames which are also structured. Structured data are consistent throughout. For example, a given field will have the same data type no matter what. This is extremely important because it makes it possible to work across all of the data in aggregate. This opens up the possibility to do everything from calculate sums so measuring relationships and predicting outcomes. We will cover the basics of how to work with this kind of data next week and for the most part, the rest of this course will deal with data in this form. \n",
      "    1. As an aside, you might be wondering where Excel spreadsheets would fit in this list. I would place it somewhere between Structured and Semi-structured. We might call it \"mostly structured\". Unlike fully structured data, an Excel spreadsheet can accept different datatypes in a column. But unlike semi-structured data, it will complain when you do this (at least, as soon as you try to do an operation on that column). It probably belongs in the semi-structured category but because of the ability to do structured operations in a spreadsheet, I'm reluctant to put it there."
     ]
    },
    {
     "cell_type": "markdown",
     "metadata": {
      "slideshow": {
       "slide_type": "subslide"
      }
     },
     "source": [
      "## Science can be:"
     ]
    },
    {
     "cell_type": "markdown",
     "metadata": {
      "slideshow": {
       "slide_type": "notes"
      }
     },
     "source": [
      "1. Once we've got data in a form we can use, first we look at it. Sometimes that is enough to derive valuable insights. Time permitting, we will begin this week 3.\n",
      "2. Then we might try to model the data which can be useful for making inferences and predictions"
     ]
    },
    {
     "cell_type": "markdown",
     "metadata": {
      "slideshow": {
       "slide_type": "fragment"
      }
     },
     "source": [
      "### Explorations / Explanations\n",
      "- Data Visualization (e.g. ggplot2, Tableau, d3.js, etc.)\n",
      "- Unsupervised Machine Learning (e.g. clustering, etc.)\n",
      "- etc....\n",
      "<br />"
     ]
    },
    {
     "cell_type": "markdown",
     "metadata": {
      "slideshow": {
       "slide_type": "fragment"
      }
     },
     "source": [
      "### Inferences / Predictions\n",
      "- Regression Models (e.g. Linear Models, Logistic Regression)\n",
      "- Supervised Machine Learning (e.g. Neural Nets, Genetic Algorithms)\n",
      "- etc....  \n",
      "<br />"
     ]
    },
    {
     "cell_type": "markdown",
     "metadata": {
      "slideshow": {
       "slide_type": "slide"
      }
     },
     "source": [
      "Data Science Workflow\n",
      "=====================\n",
      "From [a Taxonomy of Data Science](http://www.dataists.com/2010/09/a-taxonomy-of-data-science/) (by Dataists)"
     ]
    },
    {
     "cell_type": "markdown",
     "metadata": {
      "slideshow": {
       "slide_type": "fragment"
      }
     },
     "source": [
      "A. Obtain"
     ]
    },
    {
     "cell_type": "markdown",
     "metadata": {
      "slideshow": {
       "slide_type": "fragment"
      }
     },
     "source": [
      "B. Scrub"
     ]
    },
    {
     "cell_type": "markdown",
     "metadata": {
      "slideshow": {
       "slide_type": "fragment"
      }
     },
     "source": [
      "C. Explore"
     ]
    },
    {
     "cell_type": "markdown",
     "metadata": {
      "slideshow": {
       "slide_type": "fragment"
      }
     },
     "source": [
      "D. Model"
     ]
    },
    {
     "cell_type": "markdown",
     "metadata": {
      "slideshow": {
       "slide_type": "fragment"
      }
     },
     "source": [
      "E. Interpret"
     ]
    },
    {
     "cell_type": "markdown",
     "metadata": {
      "slideshow": {
       "slide_type": "subslide"
      }
     },
     "source": [
      "## Workflow Example:\n",
      "### Problem: what are the leading indicators that a user will make a new purchase?"
     ]
    },
    {
     "cell_type": "markdown",
     "metadata": {
      "slideshow": {
       "slide_type": "fragment"
      }
     },
     "source": [
      "A. Collect data around user retention, user actions within the product, potentially find data outside of company"
     ]
    },
    {
     "cell_type": "markdown",
     "metadata": {
      "slideshow": {
       "slide_type": "fragment"
      }
     },
     "source": [
      "B. Extract aggregated values from raw data  \n",
      "\n",
      "1. How many times did a user share through Facebook within a week? A month?\n",
      "2. How often did they open up our emails?"
     ]
    },
    {
     "cell_type": "markdown",
     "metadata": {
      "slideshow": {
       "slide_type": "fragment"
      }
     },
     "source": [
      "C. Examine data to find common distributions and correlations"
     ]
    },
    {
     "cell_type": "markdown",
     "metadata": {
      "slideshow": {
       "slide_type": "fragment"
      }
     },
     "source": [
      "D. Extract new meaning to predict if user would purchase again"
     ]
    },
    {
     "cell_type": "markdown",
     "metadata": {
      "slideshow": {
       "slide_type": "fragment"
      }
     },
     "source": [
      "E. Share results (and probably also go back to the drawing board)"
     ]
    },
    {
     "cell_type": "heading",
     "level": 1,
     "metadata": {
      "slideshow": {
       "slide_type": "slide"
      }
     },
     "source": [
      "B. Goals of the Course"
     ]
    },
    {
     "cell_type": "markdown",
     "metadata": {
      "slideshow": {
       "slide_type": "skip"
      }
     },
     "source": [
      "At the completion of this course, you will be able to:\n",
      "\n",
      "- Employ the Map/Reduce paradigm to transform big unstructured data\n",
      "- Access data from web-based application programming interfaces (APIs)\n",
      "- Use Structured Query Language (SQL) functions like JOIN and GROUP\n",
      "- Explore and present data through visualizations\n",
      "- Apply generalized linear models (GLMs)\n",
      "- Detect clusters in multivariate data\n",
      "- Predict categories using supervised machine learning techniques"
     ]
    },
    {
     "cell_type": "markdown",
     "metadata": {
      "slideshow": {
       "slide_type": "subslide"
      }
     },
     "source": [
      "### At the completion of this course, you will be able to:"
     ]
    },
    {
     "cell_type": "markdown",
     "metadata": {
      "slideshow": {
       "slide_type": "fragment"
      }
     },
     "source": [
      "- Employ the Map/Reduce paradigm to transform big unstructured data"
     ]
    },
    {
     "cell_type": "markdown",
     "metadata": {
      "slideshow": {
       "slide_type": "fragment"
      }
     },
     "source": [
      "- Access data from web-based application programming interfaces (APIs)"
     ]
    },
    {
     "cell_type": "markdown",
     "metadata": {
      "slideshow": {
       "slide_type": "fragment"
      }
     },
     "source": [
      "- Use Structured Query Language (SQL) functions like JOIN and GROUP"
     ]
    },
    {
     "cell_type": "markdown",
     "metadata": {
      "slideshow": {
       "slide_type": "fragment"
      }
     },
     "source": [
      "- Explore and present data through visualizations"
     ]
    },
    {
     "cell_type": "markdown",
     "metadata": {
      "slideshow": {
       "slide_type": "fragment"
      }
     },
     "source": [
      "- Apply generalized linear models (GLMs)"
     ]
    },
    {
     "cell_type": "markdown",
     "metadata": {
      "slideshow": {
       "slide_type": "fragment"
      }
     },
     "source": [
      "- Detect clusters in multivariate data"
     ]
    },
    {
     "cell_type": "markdown",
     "metadata": {
      "slideshow": {
       "slide_type": "fragment"
      }
     },
     "source": [
      "- Predict categories using supervised machine learning techniques"
     ]
    },
    {
     "cell_type": "markdown",
     "metadata": {
      "slideshow": {
       "slide_type": "slide"
      }
     },
     "source": [
      "### Tentative Course outline:\n",
      "\n",
      "1. Intro and Overview\n",
      "2. Big Data I: Hadoop\n",
      "3. Big Data II: IPython.parallel\n",
      "4. APIs and semi-structured data - First Project Proposals Due 1/27\n",
      "5. SQL and Data Frames\n",
      "6. Data Exploration & Visualization (feedback on proposals returned)\n",
      "7. Linear Regression\n",
      "8. Logistic Regression - Formal Project Proposals Due 2/3 (including data and methods chosen) \n",
      "9. Dimensionality Reduction\n",
      "10. Unsupervised Machine Learning: K-Means Clustering (feedback on proposals returned)\n",
      "11. Network Analysis\n",
      "12. Supervised Machine Learning: K-Nearest Neighbors - Project live on Github 2/19 (no class 2/17)\n",
      "13. Supervised Machine Learning: Naive Bayes\n",
      "14. Machine Learning in Python: Scikit-Learn \n",
      "15. Supervised Machine Learning: Decision Trees & Random Forests - Peer Feedback Due 3/3\n",
      "16. Ensemble Techniques\n",
      "17. Recommendation Systems\n",
      "18. Final Project Working Session\n",
      "19. Final Project Working Session\n",
      "20. Where to Go Next\n",
      "21. Final Project Presentations (10 min. each)\n",
      "22. Final Project Presentations (10 min. each)"
     ]
    },
    {
     "cell_type": "heading",
     "level": 1,
     "metadata": {
      "slideshow": {
       "slide_type": "slide"
      }
     },
     "source": [
      "C. Lab"
     ]
    },
    {
     "cell_type": "markdown",
     "metadata": {},
     "source": [
      "### Checklist\n",
      "\n",
      "- Install Anaconda\n",
      "- Setup Git\n"
     ]
    },
    {
     "cell_type": "markdown",
     "metadata": {
      "slideshow": {
       "slide_type": "slide"
      }
     },
     "source": [
      "<small><i>The following was put together by [Jake Vanderplas](http://www.vanderplas.com)</i></small>\n",
      "\n",
      "# Getting Started: Four Ways to Use Python\n",
      "\n",
      "### 1. The Python command-line interpreter\n",
      "\n",
      "### 2. Editing Python (.py) files\n",
      "\n",
      "### 3. The IPython command-line interpreter\n",
      "\n",
      "### 4. The IPython notebook"
     ]
    },
    {
     "cell_type": "markdown",
     "metadata": {
      "slideshow": {
       "slide_type": "slide"
      }
     },
     "source": [
      "## 1. The Python command-line Interpreter\n",
      "\n",
      "If you have never used the command-line, you're in for a treat\n",
      "\n",
      "- Mac OSX: in Finder/Applications, search for \"Terminal\"\n",
      "\n",
      "- Linux/Unix: ``Ctrl-Alt-t``\n",
      "\n",
      "- Windows: run \"cmd\"\n",
      "\n",
      "<img src=\"assets/OSX_terminal.png\">"
     ]
    },
    {
     "cell_type": "markdown",
     "metadata": {
      "slideshow": {
       "slide_type": "subslide"
      }
     },
     "source": [
      "## 1. The Python command-line Interpreter\n",
      "\n",
      "Type ``python`` at the command-line to start the interpreter\n",
      "\n",
      "<img src=\"assets/OSX_terminal_python.png\">"
     ]
    },
    {
     "cell_type": "markdown",
     "metadata": {
      "slideshow": {
       "slide_type": "subslide"
      }
     },
     "source": [
      "## 1. The Python Command-line Interpreter\n",
      "\n",
      "Execute a command: Type ``print \"hello world\"``\n",
      "\n",
      "<img src=\"assets/OSX_terminal_hello.png\">"
     ]
    },
    {
     "cell_type": "markdown",
     "metadata": {
      "slideshow": {
       "slide_type": "subslide"
      }
     },
     "source": [
      "## 1. The Python Command-line Interpreter\n",
      "\n",
      "Closing the terminal:\n",
      "\n",
      "- Either type ``exit()`` or type ``Ctrl-d``\n",
      "\n",
      "<img src=\"assets/OSX_terminal_exit.png\">"
     ]
    },
    {
     "cell_type": "markdown",
     "metadata": {
      "slideshow": {
       "slide_type": "slide"
      }
     },
     "source": [
      "## 2. Editing Python (.py) files\n",
      "\n",
      "### This requires a text editor.\n",
      "\n",
      "The best option is one which includes code highlighting\n",
      "\n",
      "- Linux: gedit, emacs, nano, vim...\n",
      "-  Mac OSX: textmate, emacs, nano, vim...\n",
      "-  Windows: NotePad...\n",
      "\n",
      "### GUI-based editors with bells & whistles\n",
      "\n",
      "-  Linux: KWrite, Scribes, eggy\n",
      "-  Mac OSX: TextWrangler, SublimeText\n",
      "-  Windows: NotePad++, SublimeText"
     ]
    },
    {
     "cell_type": "markdown",
     "metadata": {
      "slideshow": {
       "slide_type": "subslide"
      }
     },
     "source": [
      "## 2. Editing Python (.py) files\n",
      "\n",
      "Use your editor to open ``hello_world.py`` (here we use OSX's ``mate`` though any text editor will do)\n",
      "\n",
      "<img src=\"assets/OSX_mate.png\">\n",
      "\n",
      "Edit the file to say ``print \"hello world\"``\n",
      "\n",
      "<img src=\"assets/mate_hello_world.png\">\n",
      "\n",
      "In the terminal, run ``python hello_world.py``\n",
      "\n",
      "<img src=\"assets/run_hello_world.png\">"
     ]
    },
    {
     "cell_type": "markdown",
     "metadata": {
      "slideshow": {
       "slide_type": "slide"
      }
     },
     "source": [
      "## 3. The IPython command-line Interpreter\n",
      "\n",
      "IPython provides an enhanced command-line interface\n",
      "\n",
      "It can be started by typing ``ipython``:\n",
      "\n",
      "<img src=\"assets/ipython_start.png\">\n",
      "\n",
      "Useful features include tab completion, help (``?``), etc."
     ]
    },
    {
     "cell_type": "markdown",
     "metadata": {
      "slideshow": {
       "slide_type": "subslide"
      }
     },
     "source": [
      "## 3. The IPython command-line Interpreter\n",
      "\n",
      "Basic use is just like the standard interpreter:\n",
      "\n",
      "<img src=\"assets/ipython_hello.png\">"
     ]
    },
    {
     "cell_type": "markdown",
     "metadata": {
      "slideshow": {
       "slide_type": "slide"
      }
     },
     "source": [
      "## 4. The IPython Notebook\n",
      "\n",
      "The IPython notebook can be started by typing ``ipython notebook``:\n",
      "\n",
      "<img src=\"assets/ipynb_command.png\">\n"
     ]
    },
    {
     "cell_type": "markdown",
     "metadata": {
      "slideshow": {
       "slide_type": "subslide"
      }
     },
     "source": [
      "## 4. The IPython Notebook\n",
      "\n",
      "\n",
      "Your web browser should open to an interactive notebook page\n",
      "\n",
      "<img src=\"assets/ipynb_start_page.png\">\n",
      "\n",
      "Notice that this slideshow is written as an IPython notebook!\n"
     ]
    },
    {
     "cell_type": "markdown",
     "metadata": {
      "slideshow": {
       "slide_type": "slide"
      }
     },
     "source": [
      "The most basic data structure is the `None` type. This is the equivalent of `NULL` in other languages.  \n",
      "There are four numeric types: **`int, float, bool, complex`**."
     ]
    },
    {
     "cell_type": "code",
     "collapsed": false,
     "input": [
      "type(1)"
     ],
     "language": "python",
     "metadata": {
      "slideshow": {
       "slide_type": "fragment"
      }
     },
     "outputs": [
      {
       "metadata": {},
       "output_type": "pyout",
       "prompt_number": 6,
       "text": [
        "int"
       ]
      }
     ],
     "prompt_number": 6
    },
    {
     "cell_type": "code",
     "collapsed": false,
     "input": [
      "type(2.5)"
     ],
     "language": "python",
     "metadata": {
      "slideshow": {
       "slide_type": "fragment"
      }
     },
     "outputs": [
      {
       "metadata": {},
       "output_type": "pyout",
       "prompt_number": 7,
       "text": [
        "float"
       ]
      }
     ],
     "prompt_number": 7
    },
    {
     "cell_type": "code",
     "collapsed": false,
     "input": [
      "type(True)"
     ],
     "language": "python",
     "metadata": {
      "slideshow": {
       "slide_type": "fragment"
      }
     },
     "outputs": [
      {
       "metadata": {},
       "output_type": "pyout",
       "prompt_number": 8,
       "text": [
        "bool"
       ]
      }
     ],
     "prompt_number": 8
    },
    {
     "cell_type": "code",
     "collapsed": false,
     "input": [
      "type(2+3j)"
     ],
     "language": "python",
     "metadata": {
      "slideshow": {
       "slide_type": "fragment"
      }
     },
     "outputs": [
      {
       "metadata": {},
       "output_type": "pyout",
       "prompt_number": 9,
       "text": [
        "complex"
       ]
      }
     ],
     "prompt_number": 9
    },
    {
     "cell_type": "markdown",
     "metadata": {
      "slideshow": {
       "slide_type": "slide"
      }
     },
     "source": [
      "The next basic data type is the Python list.  \n",
      "**A list is an ordered collection of elements, and these elements can be of arbitrary type. Lists are mutable, meaning they can be changed in-place.**"
     ]
    },
    {
     "cell_type": "code",
     "collapsed": false,
     "input": [
      "k = [1, 'b', True]"
     ],
     "language": "python",
     "metadata": {
      "slideshow": {
       "slide_type": "fragment"
      }
     },
     "outputs": [],
     "prompt_number": 10
    },
    {
     "cell_type": "code",
     "collapsed": false,
     "input": [
      "k[2]"
     ],
     "language": "python",
     "metadata": {
      "slideshow": {
       "slide_type": "fragment"
      }
     },
     "outputs": [
      {
       "metadata": {},
       "output_type": "pyout",
       "prompt_number": 11,
       "text": [
        "True"
       ]
      }
     ],
     "prompt_number": 11
    },
    {
     "cell_type": "code",
     "collapsed": false,
     "input": [
      "k[1] = 'a'"
     ],
     "language": "python",
     "metadata": {
      "slideshow": {
       "slide_type": "fragment"
      }
     },
     "outputs": [],
     "prompt_number": 12
    },
    {
     "cell_type": "code",
     "collapsed": false,
     "input": [
      "k"
     ],
     "language": "python",
     "metadata": {
      "slideshow": {
       "slide_type": "fragment"
      }
     },
     "outputs": [
      {
       "metadata": {},
       "output_type": "pyout",
       "prompt_number": 13,
       "text": [
        "[1, 'a', True]"
       ]
      }
     ],
     "prompt_number": 13
    },
    {
     "cell_type": "markdown",
     "metadata": {
      "slideshow": {
       "slide_type": "slide"
      }
     },
     "source": [
      "Likewise, **tuples are immutable arrays of arbitrary elements.**"
     ]
    },
    {
     "cell_type": "code",
     "collapsed": false,
     "input": [
      "x = (1, 'a', 2.5)"
     ],
     "language": "python",
     "metadata": {
      "slideshow": {
       "slide_type": "fragment"
      }
     },
     "outputs": [],
     "prompt_number": 14
    },
    {
     "cell_type": "code",
     "collapsed": false,
     "input": [
      "x"
     ],
     "language": "python",
     "metadata": {
      "slideshow": {
       "slide_type": "fragment"
      }
     },
     "outputs": [
      {
       "metadata": {},
       "output_type": "pyout",
       "prompt_number": 15,
       "text": [
        "(1, 'a', 2.5)"
       ]
      }
     ],
     "prompt_number": 15
    },
    {
     "cell_type": "code",
     "collapsed": false,
     "input": [
      "x[0]"
     ],
     "language": "python",
     "metadata": {
      "slideshow": {
       "slide_type": "fragment"
      }
     },
     "outputs": [
      {
       "metadata": {},
       "output_type": "pyout",
       "prompt_number": 16,
       "text": [
        "1"
       ]
      }
     ],
     "prompt_number": 16
    },
    {
     "cell_type": "code",
     "collapsed": false,
     "input": [
      "x[0] = 'b'"
     ],
     "language": "python",
     "metadata": {
      "slideshow": {
       "slide_type": "fragment"
      }
     },
     "outputs": [
      {
       "ename": "TypeError",
       "evalue": "'tuple' object does not support item assignment",
       "output_type": "pyerr",
       "traceback": [
        "\u001b[0;31m---------------------------------------------------------------------------\u001b[0m\n\u001b[0;31mTypeError\u001b[0m                                 Traceback (most recent call last)",
        "\u001b[0;32m<ipython-input-17-1d938b100406>\u001b[0m in \u001b[0;36m<module>\u001b[0;34m()\u001b[0m\n\u001b[0;32m----> 1\u001b[0;31m \u001b[0mx\u001b[0m\u001b[0;34m[\u001b[0m\u001b[0;36m0\u001b[0m\u001b[0;34m]\u001b[0m \u001b[0;34m=\u001b[0m \u001b[0;34m'b'\u001b[0m\u001b[0;34m\u001b[0m\u001b[0m\n\u001b[0m",
        "\u001b[0;31mTypeError\u001b[0m: 'tuple' object does not support item assignment"
       ]
      }
     ],
     "prompt_number": 17
    },
    {
     "cell_type": "markdown",
     "metadata": {
      "slideshow": {
       "slide_type": "slide"
      }
     },
     "source": [
      "The string type in Python represents an immutable ordered array of characters (note there is no char type).\n",
      "\n",
      "**Strings support slicing and indexing operations like arrays, and have many other string-specific functions as well.**\n",
      "\n",
      "String processing is one area where Python excels."
     ]
    },
    {
     "cell_type": "markdown",
     "metadata": {
      "slideshow": {
       "slide_type": "slide"
      }
     },
     "source": [
      "Associative arrays (or hash tables) are implemented in Python as the dictionary type."
     ]
    },
    {
     "cell_type": "code",
     "collapsed": false,
     "input": [
      "this_class = {'subject': 'Data Science', 'instructor': 'Alessandro', 'time': 1800, 'is_cool': True}"
     ],
     "language": "python",
     "metadata": {
      "slideshow": {
       "slide_type": "fragment"
      }
     },
     "outputs": [],
     "prompt_number": 18
    },
    {
     "cell_type": "code",
     "collapsed": false,
     "input": [
      "this_class['subject']"
     ],
     "language": "python",
     "metadata": {
      "slideshow": {
       "slide_type": "fragment"
      }
     },
     "outputs": [
      {
       "metadata": {},
       "output_type": "pyout",
       "prompt_number": 19,
       "text": [
        "'Data Science'"
       ]
      }
     ],
     "prompt_number": 19
    },
    {
     "cell_type": "code",
     "collapsed": false,
     "input": [
      "this_class['is_cool']"
     ],
     "language": "python",
     "metadata": {
      "slideshow": {
       "slide_type": "fragment"
      }
     },
     "outputs": [
      {
       "metadata": {},
       "output_type": "pyout",
       "prompt_number": 20,
       "text": [
        "True"
       ]
      }
     ],
     "prompt_number": 20
    },
    {
     "cell_type": "markdown",
     "metadata": {
      "slideshow": {
       "slide_type": "fragment"
      }
     },
     "source": [
      "**Dictionaries are unordered collections of key-value pairs, and dictionary keys must be immutable.**"
     ]
    },
    {
     "cell_type": "markdown",
     "metadata": {
      "slideshow": {
       "slide_type": "slide"
      }
     },
     "source": [
      "Another basic Python data type is the set. Sets are unordered mutable collections of distinct elements."
     ]
    },
    {
     "cell_type": "code",
     "collapsed": false,
     "input": [
      "y = set([1, 1, 2, 3, 5, 8])"
     ],
     "language": "python",
     "metadata": {
      "slideshow": {
       "slide_type": "fragment"
      }
     },
     "outputs": [],
     "prompt_number": 21
    },
    {
     "cell_type": "code",
     "collapsed": false,
     "input": [
      "y"
     ],
     "language": "python",
     "metadata": {
      "slideshow": {
       "slide_type": "fragment"
      }
     },
     "outputs": [
      {
       "metadata": {},
       "output_type": "pyout",
       "prompt_number": 22,
       "text": [
        "{1, 2, 3, 5, 8}"
       ]
      }
     ],
     "prompt_number": 22
    },
    {
     "cell_type": "markdown",
     "metadata": {
      "slideshow": {
       "slide_type": "fragment"
      }
     },
     "source": [
      "These are particularly useful for checking membership of an element and for ensuring element uniqueness."
     ]
    },
    {
     "cell_type": "markdown",
     "metadata": {
      "slideshow": {
       "slide_type": "slide"
      }
     },
     "source": [
      "### More:\n",
      "\n",
      "- [Basic Training](http://nbviewer.ipython.org/url/www.astro.washington.edu/users/vanderplas/Astr599/notebooks/01_basic_training.ipynb)\n",
      "- [Advanced Data Structures](http://nbviewer.ipython.org/url/www.astro.washington.edu/users/vanderplas/Astr599/notebooks/02_advanced_data_structures.ipynb)"
     ]
    },
    {
     "cell_type": "heading",
     "level": 1,
     "metadata": {
      "slideshow": {
       "slide_type": "slide"
      }
     },
     "source": [
      "Discussion"
     ]
    }
   ],
   "metadata": {}
  }
 ]
}